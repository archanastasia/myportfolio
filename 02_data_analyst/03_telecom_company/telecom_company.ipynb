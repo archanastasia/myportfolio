{
 "cells": [
  {
   "cell_type": "markdown",
   "metadata": {},
   "source": [
    "# Определение перспективного тарифа для телеком-компании"
   ]
  },
  {
   "cell_type": "markdown",
   "metadata": {},
   "source": [
    "## Описание проекта"
   ]
  },
  {
   "cell_type": "markdown",
   "metadata": {},
   "source": [
    "«Мегалайн» — федерального оператора сотовой связи. Клиентам предлагают два тарифных плана: «Смарт» и «Ультра». В проекте предстоит провести предварительный анализ тарифов на выборке из 500 клиентов.\n",
    "Описание тарифов\n",
    "\n",
    "**Тариф «Смарт»**\n",
    "\n",
    "Ежемесячная плата: 550 рублей\n",
    "\n",
    "Включено 500 минут разговора, 50 сообщений и 15 Гб интернет-трафика\n",
    "\n",
    "**Стоимость услуг сверх тарифного пакета:**\n",
    "\n",
    "минута разговора: 3 рубля\n",
    "\n",
    "сообщение: 3 рубля\n",
    "\n",
    "1 Гб интернет-трафика: 200 рублей\n",
    "\n",
    "**Тариф «Ультра»**\n",
    "\n",
    "Ежемесячная плата: 1950 рублей\n",
    "\n",
    "Включено 3000 минут разговора, 1000 сообщений и 30 Гб интернет-трафика\n",
    "\n",
    "**Стоимость услуг сверх тарифного пакета:**\n",
    "\n",
    "минута разговора: 1 рубль\n",
    "\n",
    "сообщение: 1 рубль\n",
    "\n",
    "1 Гб интернет-трафика: 150 рублей"
   ]
  },
  {
   "cell_type": "markdown",
   "metadata": {},
   "source": [
    "«Мегалайн» всегда округляет секунды до минут, а мегабайты — до гигабайт. Каждый звонок округляется отдельно: даже если он длился всего 1 секунду, будет засчитан как 1 минута.\n",
    "Для веб-трафика отдельные сессии не считаются. Вместо этого общая сумма за месяц округляется в бо́льшую сторону. Если абонент использует 1025 мегабайт в этом месяце, с него возьмут плату за 2 гигабайта."
   ]
  },
  {
   "cell_type": "markdown",
   "metadata": {},
   "source": [
    "## Предобработка данных"
   ]
  },
  {
   "cell_type": "code",
   "execution_count": 50,
   "metadata": {},
   "outputs": [],
   "source": [
    "import pandas as pd\n",
    "import matplotlib.pyplot as plt\n",
    "import numpy as np\n",
    "from scipy import stats as st\n",
    "import math as mt\n",
    "from functools import reduce"
   ]
  },
  {
   "cell_type": "code",
   "execution_count": 51,
   "metadata": {},
   "outputs": [],
   "source": [
    "try:\n",
    "    calls = pd.read_csv('/datasets/calls.csv') \n",
    "    internet = pd.read_csv('/datasets/internet.csv')\n",
    "    messages = pd.read_csv('/datasets/messages.csv')\n",
    "    tariffs = pd.read_csv('/datasets/tariffs.csv')\n",
    "    users = pd.read_csv('/datasets/users.csv')\n",
    "except:\n",
    "    calls = pd.read_csv('calls.csv') \n",
    "    internet = pd.read_csv('internet.csv')\n",
    "    messages = pd.read_csv('messages.csv')\n",
    "    tariffs = pd.read_csv('tariffs.csv')\n",
    "    users = pd.read_csv('users.csv')"
   ]
  },
  {
   "cell_type": "code",
   "execution_count": 52,
   "metadata": {},
   "outputs": [],
   "source": [
    "def info_data (data) :\n",
    "    display(data.info(),\n",
    "          data.head(),\n",
    "          data.describe())    "
   ]
  },
  {
   "cell_type": "markdown",
   "metadata": {},
   "source": [
    "### Данные по звонкам"
   ]
  },
  {
   "cell_type": "markdown",
   "metadata": {},
   "source": [
    "Пропущенные звонки отображаются в датасете как звонки с нулевой продолжительностью"
   ]
  },
  {
   "cell_type": "code",
   "execution_count": 53,
   "metadata": {},
   "outputs": [
    {
     "name": "stdout",
     "output_type": "stream",
     "text": [
      "<class 'pandas.core.frame.DataFrame'>\n",
      "RangeIndex: 202607 entries, 0 to 202606\n",
      "Data columns (total 4 columns):\n",
      " #   Column     Non-Null Count   Dtype  \n",
      "---  ------     --------------   -----  \n",
      " 0   id         202607 non-null  object \n",
      " 1   call_date  202607 non-null  object \n",
      " 2   duration   202607 non-null  float64\n",
      " 3   user_id    202607 non-null  int64  \n",
      "dtypes: float64(1), int64(1), object(2)\n",
      "memory usage: 6.2+ MB\n"
     ]
    },
    {
     "data": {
      "text/plain": [
       "None"
      ]
     },
     "metadata": {},
     "output_type": "display_data"
    },
    {
     "data": {
      "text/html": [
       "<div>\n",
       "<style scoped>\n",
       "    .dataframe tbody tr th:only-of-type {\n",
       "        vertical-align: middle;\n",
       "    }\n",
       "\n",
       "    .dataframe tbody tr th {\n",
       "        vertical-align: top;\n",
       "    }\n",
       "\n",
       "    .dataframe thead th {\n",
       "        text-align: right;\n",
       "    }\n",
       "</style>\n",
       "<table border=\"1\" class=\"dataframe\">\n",
       "  <thead>\n",
       "    <tr style=\"text-align: right;\">\n",
       "      <th></th>\n",
       "      <th>id</th>\n",
       "      <th>call_date</th>\n",
       "      <th>duration</th>\n",
       "      <th>user_id</th>\n",
       "    </tr>\n",
       "  </thead>\n",
       "  <tbody>\n",
       "    <tr>\n",
       "      <th>0</th>\n",
       "      <td>1000_0</td>\n",
       "      <td>2018-07-25</td>\n",
       "      <td>0.00</td>\n",
       "      <td>1000</td>\n",
       "    </tr>\n",
       "    <tr>\n",
       "      <th>1</th>\n",
       "      <td>1000_1</td>\n",
       "      <td>2018-08-17</td>\n",
       "      <td>0.00</td>\n",
       "      <td>1000</td>\n",
       "    </tr>\n",
       "    <tr>\n",
       "      <th>2</th>\n",
       "      <td>1000_2</td>\n",
       "      <td>2018-06-11</td>\n",
       "      <td>2.85</td>\n",
       "      <td>1000</td>\n",
       "    </tr>\n",
       "    <tr>\n",
       "      <th>3</th>\n",
       "      <td>1000_3</td>\n",
       "      <td>2018-09-21</td>\n",
       "      <td>13.80</td>\n",
       "      <td>1000</td>\n",
       "    </tr>\n",
       "    <tr>\n",
       "      <th>4</th>\n",
       "      <td>1000_4</td>\n",
       "      <td>2018-12-15</td>\n",
       "      <td>5.18</td>\n",
       "      <td>1000</td>\n",
       "    </tr>\n",
       "  </tbody>\n",
       "</table>\n",
       "</div>"
      ],
      "text/plain": [
       "       id   call_date  duration  user_id\n",
       "0  1000_0  2018-07-25      0.00     1000\n",
       "1  1000_1  2018-08-17      0.00     1000\n",
       "2  1000_2  2018-06-11      2.85     1000\n",
       "3  1000_3  2018-09-21     13.80     1000\n",
       "4  1000_4  2018-12-15      5.18     1000"
      ]
     },
     "metadata": {},
     "output_type": "display_data"
    },
    {
     "data": {
      "text/html": [
       "<div>\n",
       "<style scoped>\n",
       "    .dataframe tbody tr th:only-of-type {\n",
       "        vertical-align: middle;\n",
       "    }\n",
       "\n",
       "    .dataframe tbody tr th {\n",
       "        vertical-align: top;\n",
       "    }\n",
       "\n",
       "    .dataframe thead th {\n",
       "        text-align: right;\n",
       "    }\n",
       "</style>\n",
       "<table border=\"1\" class=\"dataframe\">\n",
       "  <thead>\n",
       "    <tr style=\"text-align: right;\">\n",
       "      <th></th>\n",
       "      <th>duration</th>\n",
       "      <th>user_id</th>\n",
       "    </tr>\n",
       "  </thead>\n",
       "  <tbody>\n",
       "    <tr>\n",
       "      <th>count</th>\n",
       "      <td>202607.000000</td>\n",
       "      <td>202607.000000</td>\n",
       "    </tr>\n",
       "    <tr>\n",
       "      <th>mean</th>\n",
       "      <td>6.755887</td>\n",
       "      <td>1253.940619</td>\n",
       "    </tr>\n",
       "    <tr>\n",
       "      <th>std</th>\n",
       "      <td>5.843365</td>\n",
       "      <td>144.722751</td>\n",
       "    </tr>\n",
       "    <tr>\n",
       "      <th>min</th>\n",
       "      <td>0.000000</td>\n",
       "      <td>1000.000000</td>\n",
       "    </tr>\n",
       "    <tr>\n",
       "      <th>25%</th>\n",
       "      <td>1.300000</td>\n",
       "      <td>1126.000000</td>\n",
       "    </tr>\n",
       "    <tr>\n",
       "      <th>50%</th>\n",
       "      <td>6.000000</td>\n",
       "      <td>1260.000000</td>\n",
       "    </tr>\n",
       "    <tr>\n",
       "      <th>75%</th>\n",
       "      <td>10.700000</td>\n",
       "      <td>1379.000000</td>\n",
       "    </tr>\n",
       "    <tr>\n",
       "      <th>max</th>\n",
       "      <td>38.000000</td>\n",
       "      <td>1499.000000</td>\n",
       "    </tr>\n",
       "  </tbody>\n",
       "</table>\n",
       "</div>"
      ],
      "text/plain": [
       "            duration        user_id\n",
       "count  202607.000000  202607.000000\n",
       "mean        6.755887    1253.940619\n",
       "std         5.843365     144.722751\n",
       "min         0.000000    1000.000000\n",
       "25%         1.300000    1126.000000\n",
       "50%         6.000000    1260.000000\n",
       "75%        10.700000    1379.000000\n",
       "max        38.000000    1499.000000"
      ]
     },
     "metadata": {},
     "output_type": "display_data"
    }
   ],
   "source": [
    "info_data(calls)"
   ]
  },
  {
   "cell_type": "markdown",
   "metadata": {},
   "source": [
    "В последующей части проекта мы будем подсчитывать общее число потраченных минут пользователем за месяц. Значит данные сгруппируются по id пользователя и месяцам. Приведем данные таблицы call_date к типу даты. Данные представлены только за 2018 год, значит группировать можно только по номеру месяца. Каждое значение продолжительности  вызова округляется после его завершения, значит округлить данные необходимо до группировки."
   ]
  },
  {
   "cell_type": "code",
   "execution_count": 54,
   "metadata": {},
   "outputs": [],
   "source": [
    "def make_month_column (data, data_data):\n",
    "    data_data = pd.to_datetime( data_data , format = '%Y-%m-%dT%H:%M:%S') # приводим данные в столбце call_date к типу данных дата\n",
    "    data['month'] = data_data.dt.month\n",
    "    # так как все данные будут группировать по месяцам, в датасетах будет нужно создавать столбец с датой, автоматизируем процесс\n",
    "    \n",
    "make_month_column (calls, calls['call_date'])    \n",
    "calls['duration'] = np.ceil(calls['duration']) .astype('int') # округляем до целых минут"
   ]
  },
  {
   "cell_type": "code",
   "execution_count": 55,
   "metadata": {},
   "outputs": [
    {
     "data": {
      "text/html": [
       "<div>\n",
       "<style scoped>\n",
       "    .dataframe tbody tr th:only-of-type {\n",
       "        vertical-align: middle;\n",
       "    }\n",
       "\n",
       "    .dataframe tbody tr th {\n",
       "        vertical-align: top;\n",
       "    }\n",
       "\n",
       "    .dataframe thead th {\n",
       "        text-align: right;\n",
       "    }\n",
       "</style>\n",
       "<table border=\"1\" class=\"dataframe\">\n",
       "  <thead>\n",
       "    <tr style=\"text-align: right;\">\n",
       "      <th></th>\n",
       "      <th>id</th>\n",
       "      <th>call_date</th>\n",
       "      <th>duration</th>\n",
       "      <th>user_id</th>\n",
       "      <th>month</th>\n",
       "    </tr>\n",
       "  </thead>\n",
       "  <tbody>\n",
       "    <tr>\n",
       "      <th>0</th>\n",
       "      <td>1000_0</td>\n",
       "      <td>2018-07-25</td>\n",
       "      <td>0</td>\n",
       "      <td>1000</td>\n",
       "      <td>7</td>\n",
       "    </tr>\n",
       "    <tr>\n",
       "      <th>1</th>\n",
       "      <td>1000_1</td>\n",
       "      <td>2018-08-17</td>\n",
       "      <td>0</td>\n",
       "      <td>1000</td>\n",
       "      <td>8</td>\n",
       "    </tr>\n",
       "    <tr>\n",
       "      <th>2</th>\n",
       "      <td>1000_2</td>\n",
       "      <td>2018-06-11</td>\n",
       "      <td>3</td>\n",
       "      <td>1000</td>\n",
       "      <td>6</td>\n",
       "    </tr>\n",
       "    <tr>\n",
       "      <th>3</th>\n",
       "      <td>1000_3</td>\n",
       "      <td>2018-09-21</td>\n",
       "      <td>14</td>\n",
       "      <td>1000</td>\n",
       "      <td>9</td>\n",
       "    </tr>\n",
       "    <tr>\n",
       "      <th>4</th>\n",
       "      <td>1000_4</td>\n",
       "      <td>2018-12-15</td>\n",
       "      <td>6</td>\n",
       "      <td>1000</td>\n",
       "      <td>12</td>\n",
       "    </tr>\n",
       "    <tr>\n",
       "      <th>5</th>\n",
       "      <td>1000_5</td>\n",
       "      <td>2018-11-02</td>\n",
       "      <td>0</td>\n",
       "      <td>1000</td>\n",
       "      <td>11</td>\n",
       "    </tr>\n",
       "    <tr>\n",
       "      <th>6</th>\n",
       "      <td>1000_6</td>\n",
       "      <td>2018-10-18</td>\n",
       "      <td>0</td>\n",
       "      <td>1000</td>\n",
       "      <td>10</td>\n",
       "    </tr>\n",
       "    <tr>\n",
       "      <th>7</th>\n",
       "      <td>1000_7</td>\n",
       "      <td>2018-08-22</td>\n",
       "      <td>19</td>\n",
       "      <td>1000</td>\n",
       "      <td>8</td>\n",
       "    </tr>\n",
       "    <tr>\n",
       "      <th>8</th>\n",
       "      <td>1000_8</td>\n",
       "      <td>2018-09-15</td>\n",
       "      <td>19</td>\n",
       "      <td>1000</td>\n",
       "      <td>9</td>\n",
       "    </tr>\n",
       "    <tr>\n",
       "      <th>9</th>\n",
       "      <td>1000_9</td>\n",
       "      <td>2018-08-15</td>\n",
       "      <td>0</td>\n",
       "      <td>1000</td>\n",
       "      <td>8</td>\n",
       "    </tr>\n",
       "  </tbody>\n",
       "</table>\n",
       "</div>"
      ],
      "text/plain": [
       "       id   call_date  duration  user_id  month\n",
       "0  1000_0  2018-07-25         0     1000      7\n",
       "1  1000_1  2018-08-17         0     1000      8\n",
       "2  1000_2  2018-06-11         3     1000      6\n",
       "3  1000_3  2018-09-21        14     1000      9\n",
       "4  1000_4  2018-12-15         6     1000     12\n",
       "5  1000_5  2018-11-02         0     1000     11\n",
       "6  1000_6  2018-10-18         0     1000     10\n",
       "7  1000_7  2018-08-22        19     1000      8\n",
       "8  1000_8  2018-09-15        19     1000      9\n",
       "9  1000_9  2018-08-15         0     1000      8"
      ]
     },
     "execution_count": 55,
     "metadata": {},
     "output_type": "execute_result"
    }
   ],
   "source": [
    "calls.head(10)"
   ]
  },
  {
   "cell_type": "code",
   "execution_count": 56,
   "metadata": {},
   "outputs": [
    {
     "data": {
      "text/html": [
       "<div>\n",
       "<style scoped>\n",
       "    .dataframe tbody tr th:only-of-type {\n",
       "        vertical-align: middle;\n",
       "    }\n",
       "\n",
       "    .dataframe tbody tr th {\n",
       "        vertical-align: top;\n",
       "    }\n",
       "\n",
       "    .dataframe thead th {\n",
       "        text-align: right;\n",
       "    }\n",
       "</style>\n",
       "<table border=\"1\" class=\"dataframe\">\n",
       "  <thead>\n",
       "    <tr style=\"text-align: right;\">\n",
       "      <th></th>\n",
       "      <th>user_id</th>\n",
       "      <th>month</th>\n",
       "      <th>calls_duration</th>\n",
       "    </tr>\n",
       "  </thead>\n",
       "  <tbody>\n",
       "    <tr>\n",
       "      <th>0</th>\n",
       "      <td>1000</td>\n",
       "      <td>5</td>\n",
       "      <td>159</td>\n",
       "    </tr>\n",
       "    <tr>\n",
       "      <th>1</th>\n",
       "      <td>1000</td>\n",
       "      <td>6</td>\n",
       "      <td>172</td>\n",
       "    </tr>\n",
       "    <tr>\n",
       "      <th>2</th>\n",
       "      <td>1000</td>\n",
       "      <td>7</td>\n",
       "      <td>340</td>\n",
       "    </tr>\n",
       "    <tr>\n",
       "      <th>3</th>\n",
       "      <td>1000</td>\n",
       "      <td>8</td>\n",
       "      <td>408</td>\n",
       "    </tr>\n",
       "    <tr>\n",
       "      <th>4</th>\n",
       "      <td>1000</td>\n",
       "      <td>9</td>\n",
       "      <td>466</td>\n",
       "    </tr>\n",
       "    <tr>\n",
       "      <th>...</th>\n",
       "      <td>...</td>\n",
       "      <td>...</td>\n",
       "      <td>...</td>\n",
       "    </tr>\n",
       "    <tr>\n",
       "      <th>3169</th>\n",
       "      <td>1498</td>\n",
       "      <td>10</td>\n",
       "      <td>247</td>\n",
       "    </tr>\n",
       "    <tr>\n",
       "      <th>3170</th>\n",
       "      <td>1499</td>\n",
       "      <td>9</td>\n",
       "      <td>70</td>\n",
       "    </tr>\n",
       "    <tr>\n",
       "      <th>3171</th>\n",
       "      <td>1499</td>\n",
       "      <td>10</td>\n",
       "      <td>449</td>\n",
       "    </tr>\n",
       "    <tr>\n",
       "      <th>3172</th>\n",
       "      <td>1499</td>\n",
       "      <td>11</td>\n",
       "      <td>612</td>\n",
       "    </tr>\n",
       "    <tr>\n",
       "      <th>3173</th>\n",
       "      <td>1499</td>\n",
       "      <td>12</td>\n",
       "      <td>492</td>\n",
       "    </tr>\n",
       "  </tbody>\n",
       "</table>\n",
       "<p>3174 rows × 3 columns</p>\n",
       "</div>"
      ],
      "text/plain": [
       "      user_id  month  calls_duration\n",
       "0        1000      5             159\n",
       "1        1000      6             172\n",
       "2        1000      7             340\n",
       "3        1000      8             408\n",
       "4        1000      9             466\n",
       "...       ...    ...             ...\n",
       "3169     1498     10             247\n",
       "3170     1499      9              70\n",
       "3171     1499     10             449\n",
       "3172     1499     11             612\n",
       "3173     1499     12             492\n",
       "\n",
       "[3174 rows x 3 columns]"
      ]
     },
     "execution_count": 56,
     "metadata": {},
     "output_type": "execute_result"
    }
   ],
   "source": [
    "calls_assemble = calls.loc[: , [ 'user_id', 'month', 'duration']]\n",
    "calls_assemble = calls_assemble.pivot_table( index =['user_id','month'], values = 'duration', aggfunc = 'sum').reset_index()\n",
    "calls_assemble.columns = ['user_id', 'month', 'calls_duration']\n",
    "\n",
    "calls_assemble "
   ]
  },
  {
   "cell_type": "markdown",
   "metadata": {},
   "source": [
    "### Данные по интернет тарифу"
   ]
  },
  {
   "cell_type": "code",
   "execution_count": 57,
   "metadata": {},
   "outputs": [
    {
     "name": "stdout",
     "output_type": "stream",
     "text": [
      "<class 'pandas.core.frame.DataFrame'>\n",
      "RangeIndex: 149396 entries, 0 to 149395\n",
      "Data columns (total 5 columns):\n",
      " #   Column        Non-Null Count   Dtype  \n",
      "---  ------        --------------   -----  \n",
      " 0   Unnamed: 0    149396 non-null  int64  \n",
      " 1   id            149396 non-null  object \n",
      " 2   mb_used       149396 non-null  float64\n",
      " 3   session_date  149396 non-null  object \n",
      " 4   user_id       149396 non-null  int64  \n",
      "dtypes: float64(1), int64(2), object(2)\n",
      "memory usage: 5.7+ MB\n"
     ]
    },
    {
     "data": {
      "text/plain": [
       "None"
      ]
     },
     "metadata": {},
     "output_type": "display_data"
    },
    {
     "data": {
      "text/html": [
       "<div>\n",
       "<style scoped>\n",
       "    .dataframe tbody tr th:only-of-type {\n",
       "        vertical-align: middle;\n",
       "    }\n",
       "\n",
       "    .dataframe tbody tr th {\n",
       "        vertical-align: top;\n",
       "    }\n",
       "\n",
       "    .dataframe thead th {\n",
       "        text-align: right;\n",
       "    }\n",
       "</style>\n",
       "<table border=\"1\" class=\"dataframe\">\n",
       "  <thead>\n",
       "    <tr style=\"text-align: right;\">\n",
       "      <th></th>\n",
       "      <th>Unnamed: 0</th>\n",
       "      <th>id</th>\n",
       "      <th>mb_used</th>\n",
       "      <th>session_date</th>\n",
       "      <th>user_id</th>\n",
       "    </tr>\n",
       "  </thead>\n",
       "  <tbody>\n",
       "    <tr>\n",
       "      <th>0</th>\n",
       "      <td>0</td>\n",
       "      <td>1000_0</td>\n",
       "      <td>112.95</td>\n",
       "      <td>2018-11-25</td>\n",
       "      <td>1000</td>\n",
       "    </tr>\n",
       "    <tr>\n",
       "      <th>1</th>\n",
       "      <td>1</td>\n",
       "      <td>1000_1</td>\n",
       "      <td>1052.81</td>\n",
       "      <td>2018-09-07</td>\n",
       "      <td>1000</td>\n",
       "    </tr>\n",
       "    <tr>\n",
       "      <th>2</th>\n",
       "      <td>2</td>\n",
       "      <td>1000_2</td>\n",
       "      <td>1197.26</td>\n",
       "      <td>2018-06-25</td>\n",
       "      <td>1000</td>\n",
       "    </tr>\n",
       "    <tr>\n",
       "      <th>3</th>\n",
       "      <td>3</td>\n",
       "      <td>1000_3</td>\n",
       "      <td>550.27</td>\n",
       "      <td>2018-08-22</td>\n",
       "      <td>1000</td>\n",
       "    </tr>\n",
       "    <tr>\n",
       "      <th>4</th>\n",
       "      <td>4</td>\n",
       "      <td>1000_4</td>\n",
       "      <td>302.56</td>\n",
       "      <td>2018-09-24</td>\n",
       "      <td>1000</td>\n",
       "    </tr>\n",
       "  </tbody>\n",
       "</table>\n",
       "</div>"
      ],
      "text/plain": [
       "   Unnamed: 0      id  mb_used session_date  user_id\n",
       "0           0  1000_0   112.95   2018-11-25     1000\n",
       "1           1  1000_1  1052.81   2018-09-07     1000\n",
       "2           2  1000_2  1197.26   2018-06-25     1000\n",
       "3           3  1000_3   550.27   2018-08-22     1000\n",
       "4           4  1000_4   302.56   2018-09-24     1000"
      ]
     },
     "metadata": {},
     "output_type": "display_data"
    },
    {
     "data": {
      "text/html": [
       "<div>\n",
       "<style scoped>\n",
       "    .dataframe tbody tr th:only-of-type {\n",
       "        vertical-align: middle;\n",
       "    }\n",
       "\n",
       "    .dataframe tbody tr th {\n",
       "        vertical-align: top;\n",
       "    }\n",
       "\n",
       "    .dataframe thead th {\n",
       "        text-align: right;\n",
       "    }\n",
       "</style>\n",
       "<table border=\"1\" class=\"dataframe\">\n",
       "  <thead>\n",
       "    <tr style=\"text-align: right;\">\n",
       "      <th></th>\n",
       "      <th>Unnamed: 0</th>\n",
       "      <th>mb_used</th>\n",
       "      <th>user_id</th>\n",
       "    </tr>\n",
       "  </thead>\n",
       "  <tbody>\n",
       "    <tr>\n",
       "      <th>count</th>\n",
       "      <td>149396.000000</td>\n",
       "      <td>149396.000000</td>\n",
       "      <td>149396.000000</td>\n",
       "    </tr>\n",
       "    <tr>\n",
       "      <th>mean</th>\n",
       "      <td>74697.500000</td>\n",
       "      <td>370.192426</td>\n",
       "      <td>1252.099842</td>\n",
       "    </tr>\n",
       "    <tr>\n",
       "      <th>std</th>\n",
       "      <td>43127.054745</td>\n",
       "      <td>278.300951</td>\n",
       "      <td>144.050823</td>\n",
       "    </tr>\n",
       "    <tr>\n",
       "      <th>min</th>\n",
       "      <td>0.000000</td>\n",
       "      <td>0.000000</td>\n",
       "      <td>1000.000000</td>\n",
       "    </tr>\n",
       "    <tr>\n",
       "      <th>25%</th>\n",
       "      <td>37348.750000</td>\n",
       "      <td>138.187500</td>\n",
       "      <td>1130.000000</td>\n",
       "    </tr>\n",
       "    <tr>\n",
       "      <th>50%</th>\n",
       "      <td>74697.500000</td>\n",
       "      <td>348.015000</td>\n",
       "      <td>1251.000000</td>\n",
       "    </tr>\n",
       "    <tr>\n",
       "      <th>75%</th>\n",
       "      <td>112046.250000</td>\n",
       "      <td>559.552500</td>\n",
       "      <td>1380.000000</td>\n",
       "    </tr>\n",
       "    <tr>\n",
       "      <th>max</th>\n",
       "      <td>149395.000000</td>\n",
       "      <td>1724.830000</td>\n",
       "      <td>1499.000000</td>\n",
       "    </tr>\n",
       "  </tbody>\n",
       "</table>\n",
       "</div>"
      ],
      "text/plain": [
       "          Unnamed: 0        mb_used        user_id\n",
       "count  149396.000000  149396.000000  149396.000000\n",
       "mean    74697.500000     370.192426    1252.099842\n",
       "std     43127.054745     278.300951     144.050823\n",
       "min         0.000000       0.000000    1000.000000\n",
       "25%     37348.750000     138.187500    1130.000000\n",
       "50%     74697.500000     348.015000    1251.000000\n",
       "75%    112046.250000     559.552500    1380.000000\n",
       "max    149395.000000    1724.830000    1499.000000"
      ]
     },
     "metadata": {},
     "output_type": "display_data"
    }
   ],
   "source": [
    "info_data(internet)                                                                                           "
   ]
  },
  {
   "cell_type": "code",
   "execution_count": 58,
   "metadata": {},
   "outputs": [
    {
     "data": {
      "text/html": [
       "<div>\n",
       "<style scoped>\n",
       "    .dataframe tbody tr th:only-of-type {\n",
       "        vertical-align: middle;\n",
       "    }\n",
       "\n",
       "    .dataframe tbody tr th {\n",
       "        vertical-align: top;\n",
       "    }\n",
       "\n",
       "    .dataframe thead th {\n",
       "        text-align: right;\n",
       "    }\n",
       "</style>\n",
       "<table border=\"1\" class=\"dataframe\">\n",
       "  <thead>\n",
       "    <tr style=\"text-align: right;\">\n",
       "      <th></th>\n",
       "      <th>user_id</th>\n",
       "      <th>month</th>\n",
       "      <th>mb_used</th>\n",
       "    </tr>\n",
       "  </thead>\n",
       "  <tbody>\n",
       "    <tr>\n",
       "      <th>0</th>\n",
       "      <td>1000</td>\n",
       "      <td>5</td>\n",
       "      <td>2253.49</td>\n",
       "    </tr>\n",
       "    <tr>\n",
       "      <th>1</th>\n",
       "      <td>1000</td>\n",
       "      <td>6</td>\n",
       "      <td>23233.77</td>\n",
       "    </tr>\n",
       "    <tr>\n",
       "      <th>2</th>\n",
       "      <td>1000</td>\n",
       "      <td>7</td>\n",
       "      <td>14003.64</td>\n",
       "    </tr>\n",
       "    <tr>\n",
       "      <th>3</th>\n",
       "      <td>1000</td>\n",
       "      <td>8</td>\n",
       "      <td>14055.93</td>\n",
       "    </tr>\n",
       "    <tr>\n",
       "      <th>4</th>\n",
       "      <td>1000</td>\n",
       "      <td>9</td>\n",
       "      <td>14568.91</td>\n",
       "    </tr>\n",
       "    <tr>\n",
       "      <th>...</th>\n",
       "      <td>...</td>\n",
       "      <td>...</td>\n",
       "      <td>...</td>\n",
       "    </tr>\n",
       "    <tr>\n",
       "      <th>3198</th>\n",
       "      <td>1498</td>\n",
       "      <td>10</td>\n",
       "      <td>20579.36</td>\n",
       "    </tr>\n",
       "    <tr>\n",
       "      <th>3199</th>\n",
       "      <td>1499</td>\n",
       "      <td>9</td>\n",
       "      <td>1845.75</td>\n",
       "    </tr>\n",
       "    <tr>\n",
       "      <th>3200</th>\n",
       "      <td>1499</td>\n",
       "      <td>10</td>\n",
       "      <td>17788.51</td>\n",
       "    </tr>\n",
       "    <tr>\n",
       "      <th>3201</th>\n",
       "      <td>1499</td>\n",
       "      <td>11</td>\n",
       "      <td>17963.31</td>\n",
       "    </tr>\n",
       "    <tr>\n",
       "      <th>3202</th>\n",
       "      <td>1499</td>\n",
       "      <td>12</td>\n",
       "      <td>13055.58</td>\n",
       "    </tr>\n",
       "  </tbody>\n",
       "</table>\n",
       "<p>3203 rows × 3 columns</p>\n",
       "</div>"
      ],
      "text/plain": [
       "      user_id  month   mb_used\n",
       "0        1000      5   2253.49\n",
       "1        1000      6  23233.77\n",
       "2        1000      7  14003.64\n",
       "3        1000      8  14055.93\n",
       "4        1000      9  14568.91\n",
       "...       ...    ...       ...\n",
       "3198     1498     10  20579.36\n",
       "3199     1499      9   1845.75\n",
       "3200     1499     10  17788.51\n",
       "3201     1499     11  17963.31\n",
       "3202     1499     12  13055.58\n",
       "\n",
       "[3203 rows x 3 columns]"
      ]
     },
     "execution_count": 58,
     "metadata": {},
     "output_type": "execute_result"
    }
   ],
   "source": [
    "make_month_column (internet, internet['session_date'])\n",
    "\n",
    "internet_assemble = internet.loc[: , [ 'user_id', 'month', 'mb_used']]\n",
    "internet_assemble = internet_assemble.pivot_table( index =['user_id','month'], values = 'mb_used', aggfunc = 'sum').reset_index()\n",
    "internet_assemble.columns = ['user_id', 'month', 'mb_used']\n",
    "\n",
    "internet_assemble\n"
   ]
  },
  {
   "cell_type": "markdown",
   "metadata": {},
   "source": [
    "В 1 гигобайте 1024 мегобайта. По тарифу общая сумма за месяц округляется в бо́льшую сторону до гигобайта. Переведем МБ в ГБ и округлим "
   ]
  },
  {
   "cell_type": "markdown",
   "metadata": {},
   "source": [
    "###  Данные по сообщениям"
   ]
  },
  {
   "cell_type": "code",
   "execution_count": 59,
   "metadata": {},
   "outputs": [
    {
     "name": "stdout",
     "output_type": "stream",
     "text": [
      "<class 'pandas.core.frame.DataFrame'>\n",
      "RangeIndex: 123036 entries, 0 to 123035\n",
      "Data columns (total 3 columns):\n",
      " #   Column        Non-Null Count   Dtype \n",
      "---  ------        --------------   ----- \n",
      " 0   id            123036 non-null  object\n",
      " 1   message_date  123036 non-null  object\n",
      " 2   user_id       123036 non-null  int64 \n",
      "dtypes: int64(1), object(2)\n",
      "memory usage: 2.8+ MB\n"
     ]
    },
    {
     "data": {
      "text/plain": [
       "None"
      ]
     },
     "metadata": {},
     "output_type": "display_data"
    },
    {
     "data": {
      "text/html": [
       "<div>\n",
       "<style scoped>\n",
       "    .dataframe tbody tr th:only-of-type {\n",
       "        vertical-align: middle;\n",
       "    }\n",
       "\n",
       "    .dataframe tbody tr th {\n",
       "        vertical-align: top;\n",
       "    }\n",
       "\n",
       "    .dataframe thead th {\n",
       "        text-align: right;\n",
       "    }\n",
       "</style>\n",
       "<table border=\"1\" class=\"dataframe\">\n",
       "  <thead>\n",
       "    <tr style=\"text-align: right;\">\n",
       "      <th></th>\n",
       "      <th>id</th>\n",
       "      <th>message_date</th>\n",
       "      <th>user_id</th>\n",
       "    </tr>\n",
       "  </thead>\n",
       "  <tbody>\n",
       "    <tr>\n",
       "      <th>0</th>\n",
       "      <td>1000_0</td>\n",
       "      <td>2018-06-27</td>\n",
       "      <td>1000</td>\n",
       "    </tr>\n",
       "    <tr>\n",
       "      <th>1</th>\n",
       "      <td>1000_1</td>\n",
       "      <td>2018-10-08</td>\n",
       "      <td>1000</td>\n",
       "    </tr>\n",
       "    <tr>\n",
       "      <th>2</th>\n",
       "      <td>1000_2</td>\n",
       "      <td>2018-08-04</td>\n",
       "      <td>1000</td>\n",
       "    </tr>\n",
       "    <tr>\n",
       "      <th>3</th>\n",
       "      <td>1000_3</td>\n",
       "      <td>2018-06-16</td>\n",
       "      <td>1000</td>\n",
       "    </tr>\n",
       "    <tr>\n",
       "      <th>4</th>\n",
       "      <td>1000_4</td>\n",
       "      <td>2018-12-05</td>\n",
       "      <td>1000</td>\n",
       "    </tr>\n",
       "  </tbody>\n",
       "</table>\n",
       "</div>"
      ],
      "text/plain": [
       "       id message_date  user_id\n",
       "0  1000_0   2018-06-27     1000\n",
       "1  1000_1   2018-10-08     1000\n",
       "2  1000_2   2018-08-04     1000\n",
       "3  1000_3   2018-06-16     1000\n",
       "4  1000_4   2018-12-05     1000"
      ]
     },
     "metadata": {},
     "output_type": "display_data"
    },
    {
     "data": {
      "text/html": [
       "<div>\n",
       "<style scoped>\n",
       "    .dataframe tbody tr th:only-of-type {\n",
       "        vertical-align: middle;\n",
       "    }\n",
       "\n",
       "    .dataframe tbody tr th {\n",
       "        vertical-align: top;\n",
       "    }\n",
       "\n",
       "    .dataframe thead th {\n",
       "        text-align: right;\n",
       "    }\n",
       "</style>\n",
       "<table border=\"1\" class=\"dataframe\">\n",
       "  <thead>\n",
       "    <tr style=\"text-align: right;\">\n",
       "      <th></th>\n",
       "      <th>user_id</th>\n",
       "    </tr>\n",
       "  </thead>\n",
       "  <tbody>\n",
       "    <tr>\n",
       "      <th>count</th>\n",
       "      <td>123036.000000</td>\n",
       "    </tr>\n",
       "    <tr>\n",
       "      <th>mean</th>\n",
       "      <td>1256.989410</td>\n",
       "    </tr>\n",
       "    <tr>\n",
       "      <th>std</th>\n",
       "      <td>143.523967</td>\n",
       "    </tr>\n",
       "    <tr>\n",
       "      <th>min</th>\n",
       "      <td>1000.000000</td>\n",
       "    </tr>\n",
       "    <tr>\n",
       "      <th>25%</th>\n",
       "      <td>1134.000000</td>\n",
       "    </tr>\n",
       "    <tr>\n",
       "      <th>50%</th>\n",
       "      <td>1271.000000</td>\n",
       "    </tr>\n",
       "    <tr>\n",
       "      <th>75%</th>\n",
       "      <td>1381.000000</td>\n",
       "    </tr>\n",
       "    <tr>\n",
       "      <th>max</th>\n",
       "      <td>1499.000000</td>\n",
       "    </tr>\n",
       "  </tbody>\n",
       "</table>\n",
       "</div>"
      ],
      "text/plain": [
       "             user_id\n",
       "count  123036.000000\n",
       "mean     1256.989410\n",
       "std       143.523967\n",
       "min      1000.000000\n",
       "25%      1134.000000\n",
       "50%      1271.000000\n",
       "75%      1381.000000\n",
       "max      1499.000000"
      ]
     },
     "metadata": {},
     "output_type": "display_data"
    },
    {
     "data": {
      "text/html": [
       "<div>\n",
       "<style scoped>\n",
       "    .dataframe tbody tr th:only-of-type {\n",
       "        vertical-align: middle;\n",
       "    }\n",
       "\n",
       "    .dataframe tbody tr th {\n",
       "        vertical-align: top;\n",
       "    }\n",
       "\n",
       "    .dataframe thead th {\n",
       "        text-align: right;\n",
       "    }\n",
       "</style>\n",
       "<table border=\"1\" class=\"dataframe\">\n",
       "  <thead>\n",
       "    <tr style=\"text-align: right;\">\n",
       "      <th></th>\n",
       "      <th>user_id</th>\n",
       "      <th>month</th>\n",
       "      <th>messages_used</th>\n",
       "    </tr>\n",
       "  </thead>\n",
       "  <tbody>\n",
       "    <tr>\n",
       "      <th>0</th>\n",
       "      <td>1000</td>\n",
       "      <td>5</td>\n",
       "      <td>22</td>\n",
       "    </tr>\n",
       "    <tr>\n",
       "      <th>1</th>\n",
       "      <td>1000</td>\n",
       "      <td>6</td>\n",
       "      <td>60</td>\n",
       "    </tr>\n",
       "    <tr>\n",
       "      <th>2</th>\n",
       "      <td>1000</td>\n",
       "      <td>7</td>\n",
       "      <td>75</td>\n",
       "    </tr>\n",
       "    <tr>\n",
       "      <th>3</th>\n",
       "      <td>1000</td>\n",
       "      <td>8</td>\n",
       "      <td>81</td>\n",
       "    </tr>\n",
       "    <tr>\n",
       "      <th>4</th>\n",
       "      <td>1000</td>\n",
       "      <td>9</td>\n",
       "      <td>57</td>\n",
       "    </tr>\n",
       "    <tr>\n",
       "      <th>...</th>\n",
       "      <td>...</td>\n",
       "      <td>...</td>\n",
       "      <td>...</td>\n",
       "    </tr>\n",
       "    <tr>\n",
       "      <th>2712</th>\n",
       "      <td>1498</td>\n",
       "      <td>10</td>\n",
       "      <td>42</td>\n",
       "    </tr>\n",
       "    <tr>\n",
       "      <th>2713</th>\n",
       "      <td>1499</td>\n",
       "      <td>9</td>\n",
       "      <td>11</td>\n",
       "    </tr>\n",
       "    <tr>\n",
       "      <th>2714</th>\n",
       "      <td>1499</td>\n",
       "      <td>10</td>\n",
       "      <td>48</td>\n",
       "    </tr>\n",
       "    <tr>\n",
       "      <th>2715</th>\n",
       "      <td>1499</td>\n",
       "      <td>11</td>\n",
       "      <td>59</td>\n",
       "    </tr>\n",
       "    <tr>\n",
       "      <th>2716</th>\n",
       "      <td>1499</td>\n",
       "      <td>12</td>\n",
       "      <td>66</td>\n",
       "    </tr>\n",
       "  </tbody>\n",
       "</table>\n",
       "<p>2717 rows × 3 columns</p>\n",
       "</div>"
      ],
      "text/plain": [
       "      user_id  month  messages_used\n",
       "0        1000      5             22\n",
       "1        1000      6             60\n",
       "2        1000      7             75\n",
       "3        1000      8             81\n",
       "4        1000      9             57\n",
       "...       ...    ...            ...\n",
       "2712     1498     10             42\n",
       "2713     1499      9             11\n",
       "2714     1499     10             48\n",
       "2715     1499     11             59\n",
       "2716     1499     12             66\n",
       "\n",
       "[2717 rows x 3 columns]"
      ]
     },
     "execution_count": 59,
     "metadata": {},
     "output_type": "execute_result"
    }
   ],
   "source": [
    "info_data(messages) \n",
    "make_month_column (messages, messages['message_date'])\n",
    "\n",
    "messages_assemble = messages.loc[: , [ 'user_id', 'month', 'id']]\n",
    "messages_assemble = messages_assemble.pivot_table( index=['user_id','month'], values='id', aggfunc='count').reset_index()\n",
    "messages_assemble.columns = ['user_id', 'month', 'messages_used']\n",
    "\n",
    "messages_assemble"
   ]
  },
  {
   "cell_type": "markdown",
   "metadata": {},
   "source": [
    "###  Данные по пользователям"
   ]
  },
  {
   "cell_type": "code",
   "execution_count": 60,
   "metadata": {},
   "outputs": [
    {
     "name": "stdout",
     "output_type": "stream",
     "text": [
      "<class 'pandas.core.frame.DataFrame'>\n",
      "RangeIndex: 500 entries, 0 to 499\n",
      "Data columns (total 8 columns):\n",
      " #   Column      Non-Null Count  Dtype \n",
      "---  ------      --------------  ----- \n",
      " 0   user_id     500 non-null    int64 \n",
      " 1   age         500 non-null    int64 \n",
      " 2   churn_date  38 non-null     object\n",
      " 3   city        500 non-null    object\n",
      " 4   first_name  500 non-null    object\n",
      " 5   last_name   500 non-null    object\n",
      " 6   reg_date    500 non-null    object\n",
      " 7   tariff      500 non-null    object\n",
      "dtypes: int64(2), object(6)\n",
      "memory usage: 31.4+ KB\n"
     ]
    },
    {
     "data": {
      "text/plain": [
       "None"
      ]
     },
     "metadata": {},
     "output_type": "display_data"
    },
    {
     "data": {
      "text/html": [
       "<div>\n",
       "<style scoped>\n",
       "    .dataframe tbody tr th:only-of-type {\n",
       "        vertical-align: middle;\n",
       "    }\n",
       "\n",
       "    .dataframe tbody tr th {\n",
       "        vertical-align: top;\n",
       "    }\n",
       "\n",
       "    .dataframe thead th {\n",
       "        text-align: right;\n",
       "    }\n",
       "</style>\n",
       "<table border=\"1\" class=\"dataframe\">\n",
       "  <thead>\n",
       "    <tr style=\"text-align: right;\">\n",
       "      <th></th>\n",
       "      <th>user_id</th>\n",
       "      <th>age</th>\n",
       "      <th>churn_date</th>\n",
       "      <th>city</th>\n",
       "      <th>first_name</th>\n",
       "      <th>last_name</th>\n",
       "      <th>reg_date</th>\n",
       "      <th>tariff</th>\n",
       "    </tr>\n",
       "  </thead>\n",
       "  <tbody>\n",
       "    <tr>\n",
       "      <th>0</th>\n",
       "      <td>1000</td>\n",
       "      <td>52</td>\n",
       "      <td>NaN</td>\n",
       "      <td>Краснодар</td>\n",
       "      <td>Рафаил</td>\n",
       "      <td>Верещагин</td>\n",
       "      <td>2018-05-25</td>\n",
       "      <td>ultra</td>\n",
       "    </tr>\n",
       "    <tr>\n",
       "      <th>1</th>\n",
       "      <td>1001</td>\n",
       "      <td>41</td>\n",
       "      <td>NaN</td>\n",
       "      <td>Москва</td>\n",
       "      <td>Иван</td>\n",
       "      <td>Ежов</td>\n",
       "      <td>2018-11-01</td>\n",
       "      <td>smart</td>\n",
       "    </tr>\n",
       "    <tr>\n",
       "      <th>2</th>\n",
       "      <td>1002</td>\n",
       "      <td>59</td>\n",
       "      <td>NaN</td>\n",
       "      <td>Стерлитамак</td>\n",
       "      <td>Евгений</td>\n",
       "      <td>Абрамович</td>\n",
       "      <td>2018-06-17</td>\n",
       "      <td>smart</td>\n",
       "    </tr>\n",
       "    <tr>\n",
       "      <th>3</th>\n",
       "      <td>1003</td>\n",
       "      <td>23</td>\n",
       "      <td>NaN</td>\n",
       "      <td>Москва</td>\n",
       "      <td>Белла</td>\n",
       "      <td>Белякова</td>\n",
       "      <td>2018-08-17</td>\n",
       "      <td>ultra</td>\n",
       "    </tr>\n",
       "    <tr>\n",
       "      <th>4</th>\n",
       "      <td>1004</td>\n",
       "      <td>68</td>\n",
       "      <td>NaN</td>\n",
       "      <td>Новокузнецк</td>\n",
       "      <td>Татьяна</td>\n",
       "      <td>Авдеенко</td>\n",
       "      <td>2018-05-14</td>\n",
       "      <td>ultra</td>\n",
       "    </tr>\n",
       "  </tbody>\n",
       "</table>\n",
       "</div>"
      ],
      "text/plain": [
       "   user_id  age churn_date         city first_name  last_name    reg_date  \\\n",
       "0     1000   52        NaN    Краснодар     Рафаил  Верещагин  2018-05-25   \n",
       "1     1001   41        NaN       Москва       Иван       Ежов  2018-11-01   \n",
       "2     1002   59        NaN  Стерлитамак    Евгений  Абрамович  2018-06-17   \n",
       "3     1003   23        NaN       Москва      Белла   Белякова  2018-08-17   \n",
       "4     1004   68        NaN  Новокузнецк    Татьяна   Авдеенко  2018-05-14   \n",
       "\n",
       "  tariff  \n",
       "0  ultra  \n",
       "1  smart  \n",
       "2  smart  \n",
       "3  ultra  \n",
       "4  ultra  "
      ]
     },
     "metadata": {},
     "output_type": "display_data"
    },
    {
     "data": {
      "text/html": [
       "<div>\n",
       "<style scoped>\n",
       "    .dataframe tbody tr th:only-of-type {\n",
       "        vertical-align: middle;\n",
       "    }\n",
       "\n",
       "    .dataframe tbody tr th {\n",
       "        vertical-align: top;\n",
       "    }\n",
       "\n",
       "    .dataframe thead th {\n",
       "        text-align: right;\n",
       "    }\n",
       "</style>\n",
       "<table border=\"1\" class=\"dataframe\">\n",
       "  <thead>\n",
       "    <tr style=\"text-align: right;\">\n",
       "      <th></th>\n",
       "      <th>user_id</th>\n",
       "      <th>age</th>\n",
       "    </tr>\n",
       "  </thead>\n",
       "  <tbody>\n",
       "    <tr>\n",
       "      <th>count</th>\n",
       "      <td>500.000000</td>\n",
       "      <td>500.00000</td>\n",
       "    </tr>\n",
       "    <tr>\n",
       "      <th>mean</th>\n",
       "      <td>1249.500000</td>\n",
       "      <td>46.58800</td>\n",
       "    </tr>\n",
       "    <tr>\n",
       "      <th>std</th>\n",
       "      <td>144.481833</td>\n",
       "      <td>16.66763</td>\n",
       "    </tr>\n",
       "    <tr>\n",
       "      <th>min</th>\n",
       "      <td>1000.000000</td>\n",
       "      <td>18.00000</td>\n",
       "    </tr>\n",
       "    <tr>\n",
       "      <th>25%</th>\n",
       "      <td>1124.750000</td>\n",
       "      <td>32.00000</td>\n",
       "    </tr>\n",
       "    <tr>\n",
       "      <th>50%</th>\n",
       "      <td>1249.500000</td>\n",
       "      <td>46.00000</td>\n",
       "    </tr>\n",
       "    <tr>\n",
       "      <th>75%</th>\n",
       "      <td>1374.250000</td>\n",
       "      <td>62.00000</td>\n",
       "    </tr>\n",
       "    <tr>\n",
       "      <th>max</th>\n",
       "      <td>1499.000000</td>\n",
       "      <td>75.00000</td>\n",
       "    </tr>\n",
       "  </tbody>\n",
       "</table>\n",
       "</div>"
      ],
      "text/plain": [
       "           user_id        age\n",
       "count   500.000000  500.00000\n",
       "mean   1249.500000   46.58800\n",
       "std     144.481833   16.66763\n",
       "min    1000.000000   18.00000\n",
       "25%    1124.750000   32.00000\n",
       "50%    1249.500000   46.00000\n",
       "75%    1374.250000   62.00000\n",
       "max    1499.000000   75.00000"
      ]
     },
     "metadata": {},
     "output_type": "display_data"
    }
   ],
   "source": [
    "info_data(users)\n",
    "users_assemble = users.loc[ : , ['user_id', 'city', 'tariff']]"
   ]
  },
  {
   "cell_type": "markdown",
   "metadata": {},
   "source": [
    " ###  Данные по тарифу"
   ]
  },
  {
   "cell_type": "code",
   "execution_count": 61,
   "metadata": {},
   "outputs": [
    {
     "data": {
      "text/html": [
       "<div>\n",
       "<style scoped>\n",
       "    .dataframe tbody tr th:only-of-type {\n",
       "        vertical-align: middle;\n",
       "    }\n",
       "\n",
       "    .dataframe tbody tr th {\n",
       "        vertical-align: top;\n",
       "    }\n",
       "\n",
       "    .dataframe thead th {\n",
       "        text-align: right;\n",
       "    }\n",
       "</style>\n",
       "<table border=\"1\" class=\"dataframe\">\n",
       "  <thead>\n",
       "    <tr style=\"text-align: right;\">\n",
       "      <th></th>\n",
       "      <th>messages_included</th>\n",
       "      <th>mb_per_month_included</th>\n",
       "      <th>minutes_included</th>\n",
       "      <th>rub_monthly_fee</th>\n",
       "      <th>rub_per_gb</th>\n",
       "      <th>rub_per_message</th>\n",
       "      <th>rub_per_minute</th>\n",
       "      <th>tariff_name</th>\n",
       "    </tr>\n",
       "  </thead>\n",
       "  <tbody>\n",
       "    <tr>\n",
       "      <th>0</th>\n",
       "      <td>50</td>\n",
       "      <td>15360</td>\n",
       "      <td>500</td>\n",
       "      <td>550</td>\n",
       "      <td>200</td>\n",
       "      <td>3</td>\n",
       "      <td>3</td>\n",
       "      <td>smart</td>\n",
       "    </tr>\n",
       "    <tr>\n",
       "      <th>1</th>\n",
       "      <td>1000</td>\n",
       "      <td>30720</td>\n",
       "      <td>3000</td>\n",
       "      <td>1950</td>\n",
       "      <td>150</td>\n",
       "      <td>1</td>\n",
       "      <td>1</td>\n",
       "      <td>ultra</td>\n",
       "    </tr>\n",
       "  </tbody>\n",
       "</table>\n",
       "</div>"
      ],
      "text/plain": [
       "   messages_included  mb_per_month_included  minutes_included  \\\n",
       "0                 50                  15360               500   \n",
       "1               1000                  30720              3000   \n",
       "\n",
       "   rub_monthly_fee  rub_per_gb  rub_per_message  rub_per_minute tariff_name  \n",
       "0              550         200                3               3       smart  \n",
       "1             1950         150                1               1       ultra  "
      ]
     },
     "execution_count": 61,
     "metadata": {},
     "output_type": "execute_result"
    }
   ],
   "source": [
    "tariffs"
   ]
  },
  {
   "cell_type": "code",
   "execution_count": 62,
   "metadata": {},
   "outputs": [],
   "source": [
    "tariffs_2 = tariffs\n",
    "tariffs_2['gb_per_month_included'] = tariffs['mb_per_month_included']/1024\n",
    "tariffs_2['gb_per_month_included'] = tariffs_2['gb_per_month_included'].astype('int64')"
   ]
  },
  {
   "cell_type": "markdown",
   "metadata": {},
   "source": [
    "## Объединяем в общую таблицу"
   ]
  },
  {
   "cell_type": "code",
   "execution_count": 63,
   "metadata": {},
   "outputs": [],
   "source": [
    "data_frames = [calls_assemble, messages_assemble, internet_assemble, users_assemble ]\n",
    "df = reduce(lambda  left,right: pd.merge(left, right, on= ['user_id'],\n",
    "                                            how='outer'), data_frames)"
   ]
  },
  {
   "cell_type": "code",
   "execution_count": 64,
   "metadata": {},
   "outputs": [],
   "source": [
    "df['mb_used'] = internet_assemble['mb_used']/1024 # переводим мб в гб\n",
    "df['mb_used'] =np.ceil(df['mb_used'])\n",
    "df['mb_used'] = pd.array( df['mb_used'],  dtype='Int64')  # округляем до целого гб, как указано в тарифе\n",
    "df = df.rename(columns = {'tariff':'tariff_name'})\n",
    "df = df.drop(columns=['month_x', 'month_y'])\n",
    "df['month'] = df['month'].astype('Int64')"
   ]
  },
  {
   "cell_type": "code",
   "execution_count": 65,
   "metadata": {},
   "outputs": [],
   "source": [
    "df['mb_used'] = df['mb_used'].astype('float64')  # чтобы потом считать статистии в сводных таблицах"
   ]
  },
  {
   "cell_type": "code",
   "execution_count": 66,
   "metadata": {},
   "outputs": [],
   "source": [
    "df = df.merge(tariffs_2, on='tariff_name')\n",
    "df = df.rename( columns = {'mb_used':'gb_used' }) #так как ранее мы перевели из мб в гб\n",
    "df = df.fillna(0) # заполняем на 0, так как это действительно 0 гб, смс, минут было использовано"
   ]
  },
  {
   "cell_type": "code",
   "execution_count": 67,
   "metadata": {},
   "outputs": [
    {
     "data": {
      "text/html": [
       "<div>\n",
       "<style scoped>\n",
       "    .dataframe tbody tr th:only-of-type {\n",
       "        vertical-align: middle;\n",
       "    }\n",
       "\n",
       "    .dataframe tbody tr th {\n",
       "        vertical-align: top;\n",
       "    }\n",
       "\n",
       "    .dataframe thead th {\n",
       "        text-align: right;\n",
       "    }\n",
       "</style>\n",
       "<table border=\"1\" class=\"dataframe\">\n",
       "  <thead>\n",
       "    <tr style=\"text-align: right;\">\n",
       "      <th></th>\n",
       "      <th>user_id</th>\n",
       "      <th>calls_duration</th>\n",
       "      <th>messages_used</th>\n",
       "      <th>month</th>\n",
       "      <th>gb_used</th>\n",
       "      <th>city</th>\n",
       "      <th>tariff_name</th>\n",
       "      <th>messages_included</th>\n",
       "      <th>mb_per_month_included</th>\n",
       "      <th>minutes_included</th>\n",
       "      <th>rub_monthly_fee</th>\n",
       "      <th>rub_per_gb</th>\n",
       "      <th>rub_per_message</th>\n",
       "      <th>rub_per_minute</th>\n",
       "      <th>gb_per_month_included</th>\n",
       "    </tr>\n",
       "  </thead>\n",
       "  <tbody>\n",
       "    <tr>\n",
       "      <th>0</th>\n",
       "      <td>1000</td>\n",
       "      <td>159.0</td>\n",
       "      <td>22.0</td>\n",
       "      <td>5</td>\n",
       "      <td>3.0</td>\n",
       "      <td>Краснодар</td>\n",
       "      <td>ultra</td>\n",
       "      <td>1000</td>\n",
       "      <td>30720</td>\n",
       "      <td>3000</td>\n",
       "      <td>1950</td>\n",
       "      <td>150</td>\n",
       "      <td>1</td>\n",
       "      <td>1</td>\n",
       "      <td>30</td>\n",
       "    </tr>\n",
       "    <tr>\n",
       "      <th>1</th>\n",
       "      <td>1000</td>\n",
       "      <td>159.0</td>\n",
       "      <td>22.0</td>\n",
       "      <td>6</td>\n",
       "      <td>23.0</td>\n",
       "      <td>Краснодар</td>\n",
       "      <td>ultra</td>\n",
       "      <td>1000</td>\n",
       "      <td>30720</td>\n",
       "      <td>3000</td>\n",
       "      <td>1950</td>\n",
       "      <td>150</td>\n",
       "      <td>1</td>\n",
       "      <td>1</td>\n",
       "      <td>30</td>\n",
       "    </tr>\n",
       "    <tr>\n",
       "      <th>2</th>\n",
       "      <td>1000</td>\n",
       "      <td>159.0</td>\n",
       "      <td>22.0</td>\n",
       "      <td>7</td>\n",
       "      <td>14.0</td>\n",
       "      <td>Краснодар</td>\n",
       "      <td>ultra</td>\n",
       "      <td>1000</td>\n",
       "      <td>30720</td>\n",
       "      <td>3000</td>\n",
       "      <td>1950</td>\n",
       "      <td>150</td>\n",
       "      <td>1</td>\n",
       "      <td>1</td>\n",
       "      <td>30</td>\n",
       "    </tr>\n",
       "    <tr>\n",
       "      <th>3</th>\n",
       "      <td>1000</td>\n",
       "      <td>159.0</td>\n",
       "      <td>22.0</td>\n",
       "      <td>8</td>\n",
       "      <td>14.0</td>\n",
       "      <td>Краснодар</td>\n",
       "      <td>ultra</td>\n",
       "      <td>1000</td>\n",
       "      <td>30720</td>\n",
       "      <td>3000</td>\n",
       "      <td>1950</td>\n",
       "      <td>150</td>\n",
       "      <td>1</td>\n",
       "      <td>1</td>\n",
       "      <td>30</td>\n",
       "    </tr>\n",
       "    <tr>\n",
       "      <th>4</th>\n",
       "      <td>1000</td>\n",
       "      <td>159.0</td>\n",
       "      <td>22.0</td>\n",
       "      <td>9</td>\n",
       "      <td>15.0</td>\n",
       "      <td>Краснодар</td>\n",
       "      <td>ultra</td>\n",
       "      <td>1000</td>\n",
       "      <td>30720</td>\n",
       "      <td>3000</td>\n",
       "      <td>1950</td>\n",
       "      <td>150</td>\n",
       "      <td>1</td>\n",
       "      <td>1</td>\n",
       "      <td>30</td>\n",
       "    </tr>\n",
       "    <tr>\n",
       "      <th>...</th>\n",
       "      <td>...</td>\n",
       "      <td>...</td>\n",
       "      <td>...</td>\n",
       "      <td>...</td>\n",
       "      <td>...</td>\n",
       "      <td>...</td>\n",
       "      <td>...</td>\n",
       "      <td>...</td>\n",
       "      <td>...</td>\n",
       "      <td>...</td>\n",
       "      <td>...</td>\n",
       "      <td>...</td>\n",
       "      <td>...</td>\n",
       "      <td>...</td>\n",
       "      <td>...</td>\n",
       "    </tr>\n",
       "    <tr>\n",
       "      <th>207174</th>\n",
       "      <td>1489</td>\n",
       "      <td>0.0</td>\n",
       "      <td>35.0</td>\n",
       "      <td>9</td>\n",
       "      <td>0.0</td>\n",
       "      <td>Санкт-Петербург</td>\n",
       "      <td>smart</td>\n",
       "      <td>50</td>\n",
       "      <td>15360</td>\n",
       "      <td>500</td>\n",
       "      <td>550</td>\n",
       "      <td>200</td>\n",
       "      <td>3</td>\n",
       "      <td>3</td>\n",
       "      <td>15</td>\n",
       "    </tr>\n",
       "    <tr>\n",
       "      <th>207175</th>\n",
       "      <td>1489</td>\n",
       "      <td>0.0</td>\n",
       "      <td>35.0</td>\n",
       "      <td>10</td>\n",
       "      <td>0.0</td>\n",
       "      <td>Санкт-Петербург</td>\n",
       "      <td>smart</td>\n",
       "      <td>50</td>\n",
       "      <td>15360</td>\n",
       "      <td>500</td>\n",
       "      <td>550</td>\n",
       "      <td>200</td>\n",
       "      <td>3</td>\n",
       "      <td>3</td>\n",
       "      <td>15</td>\n",
       "    </tr>\n",
       "    <tr>\n",
       "      <th>207176</th>\n",
       "      <td>1489</td>\n",
       "      <td>0.0</td>\n",
       "      <td>35.0</td>\n",
       "      <td>11</td>\n",
       "      <td>0.0</td>\n",
       "      <td>Санкт-Петербург</td>\n",
       "      <td>smart</td>\n",
       "      <td>50</td>\n",
       "      <td>15360</td>\n",
       "      <td>500</td>\n",
       "      <td>550</td>\n",
       "      <td>200</td>\n",
       "      <td>3</td>\n",
       "      <td>3</td>\n",
       "      <td>15</td>\n",
       "    </tr>\n",
       "    <tr>\n",
       "      <th>207177</th>\n",
       "      <td>1489</td>\n",
       "      <td>0.0</td>\n",
       "      <td>35.0</td>\n",
       "      <td>12</td>\n",
       "      <td>0.0</td>\n",
       "      <td>Санкт-Петербург</td>\n",
       "      <td>smart</td>\n",
       "      <td>50</td>\n",
       "      <td>15360</td>\n",
       "      <td>500</td>\n",
       "      <td>550</td>\n",
       "      <td>200</td>\n",
       "      <td>3</td>\n",
       "      <td>3</td>\n",
       "      <td>15</td>\n",
       "    </tr>\n",
       "    <tr>\n",
       "      <th>207178</th>\n",
       "      <td>1371</td>\n",
       "      <td>0.0</td>\n",
       "      <td>0.0</td>\n",
       "      <td>0</td>\n",
       "      <td>0.0</td>\n",
       "      <td>Омск</td>\n",
       "      <td>smart</td>\n",
       "      <td>50</td>\n",
       "      <td>15360</td>\n",
       "      <td>500</td>\n",
       "      <td>550</td>\n",
       "      <td>200</td>\n",
       "      <td>3</td>\n",
       "      <td>3</td>\n",
       "      <td>15</td>\n",
       "    </tr>\n",
       "  </tbody>\n",
       "</table>\n",
       "<p>207179 rows × 15 columns</p>\n",
       "</div>"
      ],
      "text/plain": [
       "        user_id  calls_duration  messages_used  month  gb_used  \\\n",
       "0          1000           159.0           22.0      5      3.0   \n",
       "1          1000           159.0           22.0      6     23.0   \n",
       "2          1000           159.0           22.0      7     14.0   \n",
       "3          1000           159.0           22.0      8     14.0   \n",
       "4          1000           159.0           22.0      9     15.0   \n",
       "...         ...             ...            ...    ...      ...   \n",
       "207174     1489             0.0           35.0      9      0.0   \n",
       "207175     1489             0.0           35.0     10      0.0   \n",
       "207176     1489             0.0           35.0     11      0.0   \n",
       "207177     1489             0.0           35.0     12      0.0   \n",
       "207178     1371             0.0            0.0      0      0.0   \n",
       "\n",
       "                   city tariff_name  messages_included  mb_per_month_included  \\\n",
       "0             Краснодар       ultra               1000                  30720   \n",
       "1             Краснодар       ultra               1000                  30720   \n",
       "2             Краснодар       ultra               1000                  30720   \n",
       "3             Краснодар       ultra               1000                  30720   \n",
       "4             Краснодар       ultra               1000                  30720   \n",
       "...                 ...         ...                ...                    ...   \n",
       "207174  Санкт-Петербург       smart                 50                  15360   \n",
       "207175  Санкт-Петербург       smart                 50                  15360   \n",
       "207176  Санкт-Петербург       smart                 50                  15360   \n",
       "207177  Санкт-Петербург       smart                 50                  15360   \n",
       "207178             Омск       smart                 50                  15360   \n",
       "\n",
       "        minutes_included  rub_monthly_fee  rub_per_gb  rub_per_message  \\\n",
       "0                   3000             1950         150                1   \n",
       "1                   3000             1950         150                1   \n",
       "2                   3000             1950         150                1   \n",
       "3                   3000             1950         150                1   \n",
       "4                   3000             1950         150                1   \n",
       "...                  ...              ...         ...              ...   \n",
       "207174               500              550         200                3   \n",
       "207175               500              550         200                3   \n",
       "207176               500              550         200                3   \n",
       "207177               500              550         200                3   \n",
       "207178               500              550         200                3   \n",
       "\n",
       "        rub_per_minute  gb_per_month_included  \n",
       "0                    1                     30  \n",
       "1                    1                     30  \n",
       "2                    1                     30  \n",
       "3                    1                     30  \n",
       "4                    1                     30  \n",
       "...                ...                    ...  \n",
       "207174               3                     15  \n",
       "207175               3                     15  \n",
       "207176               3                     15  \n",
       "207177               3                     15  \n",
       "207178               3                     15  \n",
       "\n",
       "[207179 rows x 15 columns]"
      ]
     },
     "execution_count": 67,
     "metadata": {},
     "output_type": "execute_result"
    }
   ],
   "source": [
    "df"
   ]
  },
  {
   "cell_type": "code",
   "execution_count": 68,
   "metadata": {},
   "outputs": [
    {
     "data": {
      "text/html": [
       "<div>\n",
       "<style scoped>\n",
       "    .dataframe tbody tr th:only-of-type {\n",
       "        vertical-align: middle;\n",
       "    }\n",
       "\n",
       "    .dataframe tbody tr th {\n",
       "        vertical-align: top;\n",
       "    }\n",
       "\n",
       "    .dataframe thead th {\n",
       "        text-align: right;\n",
       "    }\n",
       "</style>\n",
       "<table border=\"1\" class=\"dataframe\">\n",
       "  <thead>\n",
       "    <tr style=\"text-align: right;\">\n",
       "      <th></th>\n",
       "      <th>user_id</th>\n",
       "      <th>calls_duration</th>\n",
       "      <th>messages_used</th>\n",
       "      <th>month</th>\n",
       "      <th>gb_used</th>\n",
       "      <th>city</th>\n",
       "      <th>tariff_name</th>\n",
       "      <th>messages_included</th>\n",
       "      <th>mb_per_month_included</th>\n",
       "      <th>minutes_included</th>\n",
       "      <th>rub_monthly_fee</th>\n",
       "      <th>rub_per_gb</th>\n",
       "      <th>rub_per_message</th>\n",
       "      <th>rub_per_minute</th>\n",
       "      <th>gb_per_month_included</th>\n",
       "      <th>revenue</th>\n",
       "    </tr>\n",
       "  </thead>\n",
       "  <tbody>\n",
       "    <tr>\n",
       "      <th>0</th>\n",
       "      <td>1000</td>\n",
       "      <td>159.0</td>\n",
       "      <td>22.0</td>\n",
       "      <td>5</td>\n",
       "      <td>3.0</td>\n",
       "      <td>Краснодар</td>\n",
       "      <td>ultra</td>\n",
       "      <td>1000</td>\n",
       "      <td>30720</td>\n",
       "      <td>3000</td>\n",
       "      <td>1950</td>\n",
       "      <td>150</td>\n",
       "      <td>1</td>\n",
       "      <td>1</td>\n",
       "      <td>30</td>\n",
       "      <td>1950.0</td>\n",
       "    </tr>\n",
       "    <tr>\n",
       "      <th>1</th>\n",
       "      <td>1000</td>\n",
       "      <td>159.0</td>\n",
       "      <td>22.0</td>\n",
       "      <td>6</td>\n",
       "      <td>23.0</td>\n",
       "      <td>Краснодар</td>\n",
       "      <td>ultra</td>\n",
       "      <td>1000</td>\n",
       "      <td>30720</td>\n",
       "      <td>3000</td>\n",
       "      <td>1950</td>\n",
       "      <td>150</td>\n",
       "      <td>1</td>\n",
       "      <td>1</td>\n",
       "      <td>30</td>\n",
       "      <td>1950.0</td>\n",
       "    </tr>\n",
       "    <tr>\n",
       "      <th>2</th>\n",
       "      <td>1000</td>\n",
       "      <td>159.0</td>\n",
       "      <td>22.0</td>\n",
       "      <td>7</td>\n",
       "      <td>14.0</td>\n",
       "      <td>Краснодар</td>\n",
       "      <td>ultra</td>\n",
       "      <td>1000</td>\n",
       "      <td>30720</td>\n",
       "      <td>3000</td>\n",
       "      <td>1950</td>\n",
       "      <td>150</td>\n",
       "      <td>1</td>\n",
       "      <td>1</td>\n",
       "      <td>30</td>\n",
       "      <td>1950.0</td>\n",
       "    </tr>\n",
       "    <tr>\n",
       "      <th>3</th>\n",
       "      <td>1000</td>\n",
       "      <td>159.0</td>\n",
       "      <td>22.0</td>\n",
       "      <td>8</td>\n",
       "      <td>14.0</td>\n",
       "      <td>Краснодар</td>\n",
       "      <td>ultra</td>\n",
       "      <td>1000</td>\n",
       "      <td>30720</td>\n",
       "      <td>3000</td>\n",
       "      <td>1950</td>\n",
       "      <td>150</td>\n",
       "      <td>1</td>\n",
       "      <td>1</td>\n",
       "      <td>30</td>\n",
       "      <td>1950.0</td>\n",
       "    </tr>\n",
       "    <tr>\n",
       "      <th>4</th>\n",
       "      <td>1000</td>\n",
       "      <td>159.0</td>\n",
       "      <td>22.0</td>\n",
       "      <td>9</td>\n",
       "      <td>15.0</td>\n",
       "      <td>Краснодар</td>\n",
       "      <td>ultra</td>\n",
       "      <td>1000</td>\n",
       "      <td>30720</td>\n",
       "      <td>3000</td>\n",
       "      <td>1950</td>\n",
       "      <td>150</td>\n",
       "      <td>1</td>\n",
       "      <td>1</td>\n",
       "      <td>30</td>\n",
       "      <td>1950.0</td>\n",
       "    </tr>\n",
       "    <tr>\n",
       "      <th>...</th>\n",
       "      <td>...</td>\n",
       "      <td>...</td>\n",
       "      <td>...</td>\n",
       "      <td>...</td>\n",
       "      <td>...</td>\n",
       "      <td>...</td>\n",
       "      <td>...</td>\n",
       "      <td>...</td>\n",
       "      <td>...</td>\n",
       "      <td>...</td>\n",
       "      <td>...</td>\n",
       "      <td>...</td>\n",
       "      <td>...</td>\n",
       "      <td>...</td>\n",
       "      <td>...</td>\n",
       "      <td>...</td>\n",
       "    </tr>\n",
       "    <tr>\n",
       "      <th>207174</th>\n",
       "      <td>1489</td>\n",
       "      <td>0.0</td>\n",
       "      <td>35.0</td>\n",
       "      <td>9</td>\n",
       "      <td>0.0</td>\n",
       "      <td>Санкт-Петербург</td>\n",
       "      <td>smart</td>\n",
       "      <td>50</td>\n",
       "      <td>15360</td>\n",
       "      <td>500</td>\n",
       "      <td>550</td>\n",
       "      <td>200</td>\n",
       "      <td>3</td>\n",
       "      <td>3</td>\n",
       "      <td>15</td>\n",
       "      <td>550.0</td>\n",
       "    </tr>\n",
       "    <tr>\n",
       "      <th>207175</th>\n",
       "      <td>1489</td>\n",
       "      <td>0.0</td>\n",
       "      <td>35.0</td>\n",
       "      <td>10</td>\n",
       "      <td>0.0</td>\n",
       "      <td>Санкт-Петербург</td>\n",
       "      <td>smart</td>\n",
       "      <td>50</td>\n",
       "      <td>15360</td>\n",
       "      <td>500</td>\n",
       "      <td>550</td>\n",
       "      <td>200</td>\n",
       "      <td>3</td>\n",
       "      <td>3</td>\n",
       "      <td>15</td>\n",
       "      <td>550.0</td>\n",
       "    </tr>\n",
       "    <tr>\n",
       "      <th>207176</th>\n",
       "      <td>1489</td>\n",
       "      <td>0.0</td>\n",
       "      <td>35.0</td>\n",
       "      <td>11</td>\n",
       "      <td>0.0</td>\n",
       "      <td>Санкт-Петербург</td>\n",
       "      <td>smart</td>\n",
       "      <td>50</td>\n",
       "      <td>15360</td>\n",
       "      <td>500</td>\n",
       "      <td>550</td>\n",
       "      <td>200</td>\n",
       "      <td>3</td>\n",
       "      <td>3</td>\n",
       "      <td>15</td>\n",
       "      <td>550.0</td>\n",
       "    </tr>\n",
       "    <tr>\n",
       "      <th>207177</th>\n",
       "      <td>1489</td>\n",
       "      <td>0.0</td>\n",
       "      <td>35.0</td>\n",
       "      <td>12</td>\n",
       "      <td>0.0</td>\n",
       "      <td>Санкт-Петербург</td>\n",
       "      <td>smart</td>\n",
       "      <td>50</td>\n",
       "      <td>15360</td>\n",
       "      <td>500</td>\n",
       "      <td>550</td>\n",
       "      <td>200</td>\n",
       "      <td>3</td>\n",
       "      <td>3</td>\n",
       "      <td>15</td>\n",
       "      <td>550.0</td>\n",
       "    </tr>\n",
       "    <tr>\n",
       "      <th>207178</th>\n",
       "      <td>1371</td>\n",
       "      <td>0.0</td>\n",
       "      <td>0.0</td>\n",
       "      <td>0</td>\n",
       "      <td>0.0</td>\n",
       "      <td>Омск</td>\n",
       "      <td>smart</td>\n",
       "      <td>50</td>\n",
       "      <td>15360</td>\n",
       "      <td>500</td>\n",
       "      <td>550</td>\n",
       "      <td>200</td>\n",
       "      <td>3</td>\n",
       "      <td>3</td>\n",
       "      <td>15</td>\n",
       "      <td>550.0</td>\n",
       "    </tr>\n",
       "  </tbody>\n",
       "</table>\n",
       "<p>207179 rows × 16 columns</p>\n",
       "</div>"
      ],
      "text/plain": [
       "        user_id  calls_duration  messages_used  month  gb_used  \\\n",
       "0          1000           159.0           22.0      5      3.0   \n",
       "1          1000           159.0           22.0      6     23.0   \n",
       "2          1000           159.0           22.0      7     14.0   \n",
       "3          1000           159.0           22.0      8     14.0   \n",
       "4          1000           159.0           22.0      9     15.0   \n",
       "...         ...             ...            ...    ...      ...   \n",
       "207174     1489             0.0           35.0      9      0.0   \n",
       "207175     1489             0.0           35.0     10      0.0   \n",
       "207176     1489             0.0           35.0     11      0.0   \n",
       "207177     1489             0.0           35.0     12      0.0   \n",
       "207178     1371             0.0            0.0      0      0.0   \n",
       "\n",
       "                   city tariff_name  messages_included  mb_per_month_included  \\\n",
       "0             Краснодар       ultra               1000                  30720   \n",
       "1             Краснодар       ultra               1000                  30720   \n",
       "2             Краснодар       ultra               1000                  30720   \n",
       "3             Краснодар       ultra               1000                  30720   \n",
       "4             Краснодар       ultra               1000                  30720   \n",
       "...                 ...         ...                ...                    ...   \n",
       "207174  Санкт-Петербург       smart                 50                  15360   \n",
       "207175  Санкт-Петербург       smart                 50                  15360   \n",
       "207176  Санкт-Петербург       smart                 50                  15360   \n",
       "207177  Санкт-Петербург       smart                 50                  15360   \n",
       "207178             Омск       smart                 50                  15360   \n",
       "\n",
       "        minutes_included  rub_monthly_fee  rub_per_gb  rub_per_message  \\\n",
       "0                   3000             1950         150                1   \n",
       "1                   3000             1950         150                1   \n",
       "2                   3000             1950         150                1   \n",
       "3                   3000             1950         150                1   \n",
       "4                   3000             1950         150                1   \n",
       "...                  ...              ...         ...              ...   \n",
       "207174               500              550         200                3   \n",
       "207175               500              550         200                3   \n",
       "207176               500              550         200                3   \n",
       "207177               500              550         200                3   \n",
       "207178               500              550         200                3   \n",
       "\n",
       "        rub_per_minute  gb_per_month_included  revenue  \n",
       "0                    1                     30   1950.0  \n",
       "1                    1                     30   1950.0  \n",
       "2                    1                     30   1950.0  \n",
       "3                    1                     30   1950.0  \n",
       "4                    1                     30   1950.0  \n",
       "...                ...                    ...      ...  \n",
       "207174               3                     15    550.0  \n",
       "207175               3                     15    550.0  \n",
       "207176               3                     15    550.0  \n",
       "207177               3                     15    550.0  \n",
       "207178               3                     15    550.0  \n",
       "\n",
       "[207179 rows x 16 columns]"
      ]
     },
     "execution_count": 68,
     "metadata": {},
     "output_type": "execute_result"
    }
   ],
   "source": [
    "def revenue (row):\n",
    "    sms = (row ['messages_used'] - row['messages_included'])*row['rub_per_message']\n",
    "    calls = (row ['calls_duration'] - row['minutes_included'])*row['rub_per_minute']\n",
    "    internet = (row ['gb_used'] - row['gb_per_month_included'])*row['rub_per_gb']\n",
    "    total = row ['rub_monthly_fee']\n",
    "    for i in [sms,calls,internet]:\n",
    "        if i>0:\n",
    "            total += i\n",
    "    return total\n",
    "df['revenue'] = df.apply(revenue,axis = 1)\n",
    "df"
   ]
  },
  {
   "cell_type": "markdown",
   "metadata": {},
   "source": [
    "## Анализ поведения пользователей"
   ]
  },
  {
   "cell_type": "markdown",
   "metadata": {},
   "source": [
    "### Проанализируем какое количество минут тратят пользователи разных тарифов"
   ]
  },
  {
   "cell_type": "code",
   "execution_count": 69,
   "metadata": {},
   "outputs": [
    {
     "data": {
      "image/png": "[encoded data removed]",
      "text/plain": [
       "<Figure size 1080x720 with 1 Axes>"
      ]
     },
     "metadata": {
      "needs_background": "light"
     },
     "output_type": "display_data"
    }
   ],
   "source": [
    "plt.figure(figsize=(15,10))\n",
    "plt.hist(df[df['tariff_name'] == 'ultra']['calls_duration'], \n",
    "         bins = 10, alpha = 0.5, label = 'ultra', histtype='step', color='orangered', linewidth=2)\n",
    "plt.hist(df[df['tariff_name'] == 'smart']['calls_duration'],\n",
    "         bins = 10, alpha = 0.5, label = 'smart',  histtype='step', color='steelblue', linewidth=2)\n",
    "plt.vlines(x=3000,  ymin=0, ymax=50000, label = 'in tariff ultra', color='orangered', linewidth=1, linestyle='--')\n",
    "plt.vlines(x=500,  ymin=0, ymax=50000, label = 'in tariff smart', color='steelblue', linewidth=1, linestyle='--' )\n",
    "plt.xlabel('Использовано минут')\n",
    "\n",
    "plt.legend(loc = 'upper right')\n",
    "plt.title('минут разговора  в месяц')\n",
    "plt.grid(color='gray', linewidth=0.2)\n",
    "plt.minorticks_on()\n",
    "plt.grid(which='major',\n",
    "        color = 'gray', \n",
    "        linewidth = 0.3)\n",
    "plt.grid(which='minor', color='gray', linewidth=0.1)\n",
    "plt.show()"
   ]
  },
  {
   "cell_type": "markdown",
   "metadata": {},
   "source": [
    "По графику видим, что в среднем пользователям тарифа Smart хватает кол-ва минут, заложенных в тарифе, есть небольшой положительный скос.\n",
    "В то время как пользователи Ultra никогда не истрачивали свой пакет, такое кол-во минут избыточно."
   ]
  },
  {
   "cell_type": "code",
   "execution_count": 96,
   "metadata": {},
   "outputs": [],
   "source": [
    "def info_servisce (data, value):\n",
    "    table = data.pivot_table(index= 'tariff_name', values= value, aggfunc= ['mean','median','std', 'var'])\n",
    "    table.columns = table.columns.droplevel(1)\n",
    "    table.columns = ['Среднее','Медиана', 'Стандартное отклонение', 'Дисперсия']\n",
    "    return table"
   ]
  },
  {
   "cell_type": "code",
   "execution_count": 97,
   "metadata": {},
   "outputs": [
    {
     "data": {
      "text/html": [
       "<div>\n",
       "<style scoped>\n",
       "    .dataframe tbody tr th:only-of-type {\n",
       "        vertical-align: middle;\n",
       "    }\n",
       "\n",
       "    .dataframe tbody tr th {\n",
       "        vertical-align: top;\n",
       "    }\n",
       "\n",
       "    .dataframe thead th {\n",
       "        text-align: right;\n",
       "    }\n",
       "</style>\n",
       "<table border=\"1\" class=\"dataframe\">\n",
       "  <thead>\n",
       "    <tr style=\"text-align: right;\">\n",
       "      <th></th>\n",
       "      <th>Среднее</th>\n",
       "      <th>Медиана</th>\n",
       "      <th>Стандартное отклонение</th>\n",
       "      <th>Дисперсия</th>\n",
       "    </tr>\n",
       "    <tr>\n",
       "      <th>tariff_name</th>\n",
       "      <th></th>\n",
       "      <th></th>\n",
       "      <th></th>\n",
       "      <th></th>\n",
       "    </tr>\n",
       "  </thead>\n",
       "  <tbody>\n",
       "    <tr>\n",
       "      <th>smart</th>\n",
       "      <td>417.504609</td>\n",
       "      <td>437.0</td>\n",
       "      <td>183.774138</td>\n",
       "      <td>33772.933723</td>\n",
       "    </tr>\n",
       "    <tr>\n",
       "      <th>ultra</th>\n",
       "      <td>566.465139</td>\n",
       "      <td>553.0</td>\n",
       "      <td>300.311175</td>\n",
       "      <td>90186.801737</td>\n",
       "    </tr>\n",
       "  </tbody>\n",
       "</table>\n",
       "</div>"
      ],
      "text/plain": [
       "                Среднее  Медиана  Стандартное отклонение     Дисперсия\n",
       "tariff_name                                                           \n",
       "smart        417.504609    437.0              183.774138  33772.933723\n",
       "ultra        566.465139    553.0              300.311175  90186.801737"
      ]
     },
     "execution_count": 97,
     "metadata": {},
     "output_type": "execute_result"
    }
   ],
   "source": [
    "info_servisce( df, 'calls_duration')"
   ]
  },
  {
   "cell_type": "markdown",
   "metadata": {
    "tags": []
   },
   "source": [
    "### Анализ использования интернета"
   ]
  },
  {
   "cell_type": "code",
   "execution_count": 71,
   "metadata": {},
   "outputs": [
    {
     "data": {
      "image/png": "[encoded data removed]",
      "text/plain": [
       "<Figure size 1080x720 with 1 Axes>"
      ]
     },
     "metadata": {
      "needs_background": "light"
     },
     "output_type": "display_data"
    }
   ],
   "source": [
    "plt.figure(figsize=(15,10))\n",
    "plt.hist(df[df['tariff_name'] == 'ultra']['gb_used'], \n",
    "         bins = 10, alpha = 0.5, label = 'ultra', histtype='step', color='orangered', linewidth=2)\n",
    "plt.hist(df[df['tariff_name'] == 'smart']['gb_used'],\n",
    "         bins = 10, alpha = 0.5, label = 'smart',  histtype='step', color='steelblue', linewidth=2)\n",
    "plt.vlines(x=30,  ymin=0, ymax=140000, label = 'in tariff ultra', color='orangered', linewidth=1, linestyle='--')\n",
    "plt.vlines(x=15,  ymin=0, ymax=140000, label = 'in tariff smart', color='steelblue',linewidth=1, linestyle='--' )\n",
    "plt.xlabel('Использовано гб интернета')\n",
    "\n",
    "plt.legend(loc = 'upper right')\n",
    "plt.title('Гб интернета в месяц')\n",
    "plt.minorticks_on()\n",
    "plt.grid(which='major',\n",
    "        color = 'gray', \n",
    "        linewidth = 0.2)\n",
    "plt.grid(which='minor', color='gray', linewidth=0.1)\n",
    "plt.show()"
   ]
  },
  {
   "cell_type": "markdown",
   "metadata": {},
   "source": [
    "Графики использования интернета пользователями тарифа Smart скошен вправо незначительно. Большинство пользователей используют до 5 гб интернета в месяц, что меньше тарифных пакетов. Линии симметрии графиков почти совпадают, значит независимо от тарифа люди используют примерно одинаковое кол-во гб."
   ]
  },
  {
   "cell_type": "code",
   "execution_count": 72,
   "metadata": {},
   "outputs": [],
   "source": [
    "use_more_internet = df[df['gb_used']> 5]"
   ]
  },
  {
   "cell_type": "code",
   "execution_count": 73,
   "metadata": {},
   "outputs": [
    {
     "data": {
      "image/png": "[encoded data removed]",
      "text/plain": [
       "<Figure size 1080x720 with 1 Axes>"
      ]
     },
     "metadata": {
      "needs_background": "light"
     },
     "output_type": "display_data"
    }
   ],
   "source": [
    "plt.figure(figsize=(15,10))\n",
    "plt.hist(use_more_internet[use_more_internet['tariff_name'] == 'ultra']['gb_used'], \n",
    "         bins = 10, alpha = 0.5, label = 'ultra', histtype='step', color='orangered', linewidth=2)\n",
    "plt.hist(use_more_internet[use_more_internet['tariff_name'] == 'smart']['gb_used'],\n",
    "         bins = 10, alpha = 0.5, label = 'smart',  histtype='step', color='steelblue', linewidth=2)\n",
    "plt.vlines(x=30,  ymin=0, ymax=1400, label = 'in tariff ultra', color='orangered', linewidth=1, linestyle='--')\n",
    "plt.vlines(x=15,  ymin=0, ymax=1400, label = 'in tariff smart', color='steelblue',linewidth=1, linestyle='--' )\n",
    "plt.xlabel('Использовано гб интернета')\n",
    "\n",
    "plt.legend(loc = 'upper right')\n",
    "plt.title('Гб интернета в месяц')\n",
    "plt.minorticks_on()\n",
    "plt.grid(which='major',\n",
    "        color = 'gray', \n",
    "        linewidth = 0.2)\n",
    "plt.grid(which='minor', color='gray', linewidth=0.1)\n",
    "plt.show()"
   ]
  },
  {
   "cell_type": "markdown",
   "metadata": {},
   "source": [
    "Число людей, использующих интернет больше 5 гб за расчетный период, по сравнению с общей массой представляется крайне малочисленным"
   ]
  },
  {
   "cell_type": "code",
   "execution_count": 98,
   "metadata": {},
   "outputs": [
    {
     "data": {
      "text/html": [
       "<div>\n",
       "<style scoped>\n",
       "    .dataframe tbody tr th:only-of-type {\n",
       "        vertical-align: middle;\n",
       "    }\n",
       "\n",
       "    .dataframe tbody tr th {\n",
       "        vertical-align: top;\n",
       "    }\n",
       "\n",
       "    .dataframe thead th {\n",
       "        text-align: right;\n",
       "    }\n",
       "</style>\n",
       "<table border=\"1\" class=\"dataframe\">\n",
       "  <thead>\n",
       "    <tr style=\"text-align: right;\">\n",
       "      <th></th>\n",
       "      <th>Среднее</th>\n",
       "      <th>Медиана</th>\n",
       "      <th>Стандартное отклонение</th>\n",
       "      <th>Дисперсия</th>\n",
       "    </tr>\n",
       "    <tr>\n",
       "      <th>tariff_name</th>\n",
       "      <th></th>\n",
       "      <th></th>\n",
       "      <th></th>\n",
       "      <th></th>\n",
       "    </tr>\n",
       "  </thead>\n",
       "  <tbody>\n",
       "    <tr>\n",
       "      <th>smart</th>\n",
       "      <td>0.239241</td>\n",
       "      <td>0.0</td>\n",
       "      <td>2.211427</td>\n",
       "      <td>4.890409</td>\n",
       "    </tr>\n",
       "    <tr>\n",
       "      <th>ultra</th>\n",
       "      <td>0.344825</td>\n",
       "      <td>0.0</td>\n",
       "      <td>2.608019</td>\n",
       "      <td>6.801763</td>\n",
       "    </tr>\n",
       "  </tbody>\n",
       "</table>\n",
       "</div>"
      ],
      "text/plain": [
       "              Среднее  Медиана  Стандартное отклонение  Дисперсия\n",
       "tariff_name                                                      \n",
       "smart        0.239241      0.0                2.211427   4.890409\n",
       "ultra        0.344825      0.0                2.608019   6.801763"
      ]
     },
     "execution_count": 98,
     "metadata": {},
     "output_type": "execute_result"
    }
   ],
   "source": [
    "info_servisce( df, 'gb_used')"
   ]
  },
  {
   "cell_type": "markdown",
   "metadata": {},
   "source": [
    "### Анализ использования смс"
   ]
  },
  {
   "cell_type": "code",
   "execution_count": 76,
   "metadata": {},
   "outputs": [
    {
     "data": {
      "image/png": "[encoded data removed]",
      "text/plain": [
       "<Figure size 1080x720 with 1 Axes>"
      ]
     },
     "metadata": {
      "needs_background": "light"
     },
     "output_type": "display_data"
    }
   ],
   "source": [
    "plt.figure(figsize=(15,10))\n",
    "plt.hist(df[df['tariff_name'] == 'ultra']['messages_used'], \n",
    "         bins = 10, alpha = 0.5, label = 'ultra', histtype='step', color='orangered', linewidth=2)\n",
    "plt.hist(df[df['tariff_name'] == 'smart']['messages_used'],\n",
    "         bins = 10, alpha = 0.5, label = 'smart',  histtype='step', color='steelblue', linewidth=2)\n",
    "plt.vlines(x=30,  ymin=0, ymax=30000, label = 'in tariff ultra', color='orangered', linewidth=1, linestyle='--')\n",
    "plt.vlines(x=15,  ymin=0, ymax=30000, label = 'in tariff smart', color='steelblue',linewidth=1, linestyle='--' )\n",
    "plt.xlabel('Использовано смс')\n",
    "\n",
    "plt.legend(loc = 'upper right')\n",
    "plt.title('Сообщений в месяц')\n",
    "plt.minorticks_on()\n",
    "plt.grid(which='major',\n",
    "        color = 'gray', \n",
    "        linewidth = 0.3)\n",
    "plt.grid(which='minor', color='gray', linewidth=0.1)\n",
    "plt.show()"
   ]
  },
  {
   "cell_type": "markdown",
   "metadata": {},
   "source": [
    "info_servisce( df, 'gb_used')Графики использования смс пользователями разных тарифов сильно скошены вправо. Кол-ва смс, включенного в тарифы, многим не хватает"
   ]
  },
  {
   "cell_type": "code",
   "execution_count": 99,
   "metadata": {},
   "outputs": [
    {
     "data": {
      "text/html": [
       "<div>\n",
       "<style scoped>\n",
       "    .dataframe tbody tr th:only-of-type {\n",
       "        vertical-align: middle;\n",
       "    }\n",
       "\n",
       "    .dataframe tbody tr th {\n",
       "        vertical-align: top;\n",
       "    }\n",
       "\n",
       "    .dataframe thead th {\n",
       "        text-align: right;\n",
       "    }\n",
       "</style>\n",
       "<table border=\"1\" class=\"dataframe\">\n",
       "  <thead>\n",
       "    <tr style=\"text-align: right;\">\n",
       "      <th></th>\n",
       "      <th>Среднее</th>\n",
       "      <th>Медиана</th>\n",
       "      <th>Стандартное отклонение</th>\n",
       "      <th>Дисперсия</th>\n",
       "    </tr>\n",
       "    <tr>\n",
       "      <th>tariff_name</th>\n",
       "      <th></th>\n",
       "      <th></th>\n",
       "      <th></th>\n",
       "      <th></th>\n",
       "    </tr>\n",
       "  </thead>\n",
       "  <tbody>\n",
       "    <tr>\n",
       "      <th>smart</th>\n",
       "      <td>38.847231</td>\n",
       "      <td>35.0</td>\n",
       "      <td>25.961233</td>\n",
       "      <td>673.985599</td>\n",
       "    </tr>\n",
       "    <tr>\n",
       "      <th>ultra</th>\n",
       "      <td>55.530590</td>\n",
       "      <td>48.0</td>\n",
       "      <td>43.102651</td>\n",
       "      <td>1857.838505</td>\n",
       "    </tr>\n",
       "  </tbody>\n",
       "</table>\n",
       "</div>"
      ],
      "text/plain": [
       "               Среднее  Медиана  Стандартное отклонение    Дисперсия\n",
       "tariff_name                                                         \n",
       "smart        38.847231     35.0               25.961233   673.985599\n",
       "ultra        55.530590     48.0               43.102651  1857.838505"
      ]
     },
     "execution_count": 99,
     "metadata": {},
     "output_type": "execute_result"
    }
   ],
   "source": [
    "info_servisce( df, 'messages_used')"
   ]
  },
  {
   "cell_type": "markdown",
   "metadata": {},
   "source": [
    "### Анализ выручки от разных тарифов"
   ]
  },
  {
   "cell_type": "code",
   "execution_count": 78,
   "metadata": {},
   "outputs": [
    {
     "data": {
      "image/png": "[encoded data removed]",
      "text/plain": [
       "<Figure size 1080x720 with 1 Axes>"
      ]
     },
     "metadata": {
      "needs_background": "light"
     },
     "output_type": "display_data"
    }
   ],
   "source": [
    "plt.figure(figsize=(15,10))\n",
    "plt.hist(df[df['tariff_name'] == 'ultra']['revenue'], \n",
    "         bins = 7, alpha = 0.5, label = 'ultra', histtype='step', color='orangered', linewidth=2)\n",
    "plt.hist(df[df['tariff_name'] == 'smart']['revenue'],\n",
    "         bins = 7, alpha = 0.5, label = 'smart',  histtype='step', color='steelblue', linewidth=2)\n",
    "\n",
    "plt.xlabel('Выручка')\n",
    "\n",
    "plt.legend(loc = 'upper right')\n",
    "plt.title('Выручка')\n",
    "plt.minorticks_on()\n",
    "plt.grid(which='major',\n",
    "        color = 'gray', \n",
    "        linewidth = 0.2)\n",
    "plt.grid(which='minor', color='gray', linewidth=0.1)\n",
    "plt.show()"
   ]
  },
  {
   "cell_type": "code",
   "execution_count": 100,
   "metadata": {},
   "outputs": [
    {
     "data": {
      "text/html": [
       "<div>\n",
       "<style scoped>\n",
       "    .dataframe tbody tr th:only-of-type {\n",
       "        vertical-align: middle;\n",
       "    }\n",
       "\n",
       "    .dataframe tbody tr th {\n",
       "        vertical-align: top;\n",
       "    }\n",
       "\n",
       "    .dataframe thead th {\n",
       "        text-align: right;\n",
       "    }\n",
       "</style>\n",
       "<table border=\"1\" class=\"dataframe\">\n",
       "  <thead>\n",
       "    <tr style=\"text-align: right;\">\n",
       "      <th></th>\n",
       "      <th>Среднее</th>\n",
       "      <th>Медиана</th>\n",
       "      <th>Стандартное отклонение</th>\n",
       "      <th>Дисперсия</th>\n",
       "    </tr>\n",
       "    <tr>\n",
       "      <th>tariff_name</th>\n",
       "      <th></th>\n",
       "      <th></th>\n",
       "      <th></th>\n",
       "      <th></th>\n",
       "    </tr>\n",
       "  </thead>\n",
       "  <tbody>\n",
       "    <tr>\n",
       "      <th>smart</th>\n",
       "      <td>694.711791</td>\n",
       "      <td>559.0</td>\n",
       "      <td>283.362486</td>\n",
       "      <td>80294.298337</td>\n",
       "    </tr>\n",
       "    <tr>\n",
       "      <th>ultra</th>\n",
       "      <td>1950.614259</td>\n",
       "      <td>1950.0</td>\n",
       "      <td>27.055896</td>\n",
       "      <td>732.021482</td>\n",
       "    </tr>\n",
       "  </tbody>\n",
       "</table>\n",
       "</div>"
      ],
      "text/plain": [
       "                 Среднее  Медиана  Стандартное отклонение     Дисперсия\n",
       "tariff_name                                                            \n",
       "smart         694.711791    559.0              283.362486  80294.298337\n",
       "ultra        1950.614259   1950.0               27.055896    732.021482"
      ]
     },
     "execution_count": 100,
     "metadata": {},
     "output_type": "execute_result"
    }
   ],
   "source": [
    "info_servisce( df, 'revenue')"
   ]
  },
  {
   "cell_type": "markdown",
   "metadata": {},
   "source": [
    "В целом выручка от пользователей тарифа Smart больше, но среднее выручки больше у пользователей тарифа Ultra. Следовательно, для компании было бы выгоднее увеличивать соотношение числа пользователей  Ultra к пользователям второго тарифа"
   ]
  },
  {
   "cell_type": "markdown",
   "metadata": {},
   "source": [
    "## Проверяем гипотезы"
   ]
  },
  {
   "cell_type": "markdown",
   "metadata": {},
   "source": [
    "### Гипотеза 1"
   ]
  },
  {
   "cell_type": "markdown",
   "metadata": {},
   "source": [
    "**Cредняя выручка пользователей тарифов «Ультра» и «Смарт» различается.**\n",
    "\n",
    "**Проводя двухсотронний тест, зададим нулевую гипотезу** \\\n",
    "[Но] = \"Выручка пользователей тарифов «Ультра» и «Смарт» равны\" \\\n",
    "**и альтернативную**\\\n",
    "[На] = \"Выручка пользователей тарифов «Ультра» и «Смарт»  НЕ равны\" \n",
    "\n",
    "Таким образом с помощью теста мы будем проверять равенство среднего совокупностей по выборкам (так как мы изначально работаем с выборкой, в которой имеем выборки из двух совокупностей - пользователей Smart и пользователей Ultra, одна из которых больше, так же как и ее выборка )\n",
    "\n",
    "По итогу **Заданная нам гипотеза отвергнется, если выдвинутая гипотеза [Но]  нет** "
   ]
  },
  {
   "cell_type": "code",
   "execution_count": 29,
   "metadata": {
    "scrolled": true
   },
   "outputs": [
    {
     "name": "stdout",
     "output_type": "stream",
     "text": [
      "p-значение:  0.0\n",
      "Отвергаем нулевую гипотезу\n"
     ]
    }
   ],
   "source": [
    "\n",
    "smart = df[df['tariff_name']=='smart']['revenue'] \n",
    "ultra = df[df['tariff_name']=='ultra']['revenue'] \n",
    "# задаем пороговое значение\n",
    "alpha = 0.05\n",
    " \n",
    "results = st.ttest_ind(smart, ultra, equal_var=False) # equal_var = False так как дисперсии не равны\n",
    "\n",
    " \n",
    "print('p-значение: ', results.pvalue)\n",
    " \n",
    "if results.pvalue < alpha:\n",
    "    print(\"Отвергаем нулевую гипотезу\")\n",
    "else:\n",
    "    print(\"Не отвергаем нулевую гипотезу\") "
   ]
  },
  {
   "cell_type": "markdown",
   "metadata": {},
   "source": [
    "#### Вывод"
   ]
  },
  {
   "cell_type": "markdown",
   "metadata": {},
   "source": [
    " **Не отвергаем гипотезу о том, что средняя выручка пользователей тарифов «Ультра» и «Смарт» различается**"
   ]
  },
  {
   "cell_type": "markdown",
   "metadata": {},
   "source": [
    "### Гипотеза 2"
   ]
  },
  {
   "cell_type": "markdown",
   "metadata": {},
   "source": [
    "**Средняя выручка пользователей из Москвы отличается от выручки пользователей из других регионов.**"
   ]
  },
  {
   "cell_type": "markdown",
   "metadata": {},
   "source": [
    "Так же как и с первой гипотезой выдвинем нулевую гипотезу, обратную заданной, тогда мы отвергаем ее, если среднее двух выборок отличается в меньшую или большую сторону, а заданная в этом случае не отвергается "
   ]
  },
  {
   "cell_type": "markdown",
   "metadata": {},
   "source": [
    "Но = средняя выручка пользователей из Москвы равна выручке пользователей из других регионов \\\n",
    "На = средняя выручка пользователей из Москвы отличается от выручки пользователей из других регионов"
   ]
  },
  {
   "cell_type": "code",
   "execution_count": 30,
   "metadata": {},
   "outputs": [
    {
     "name": "stdout",
     "output_type": "stream",
     "text": [
      "p-значение:  0.0\n",
      "Отвергаем нулевую гипотезу\n"
     ]
    }
   ],
   "source": [
    "moscow = df[df['city']=='Москва']['revenue'] \n",
    "not_moscow = df[df['city']!='Москва']['revenue'] \n",
    "# задаем пороговое значение\n",
    "alpha = 0.05\n",
    " \n",
    "results = st.ttest_ind(moscow, not_moscow, equal_var=False) # equal_var = False так как дисперсии не равны\n",
    "\n",
    " \n",
    "print('p-значение: ', results.pvalue)\n",
    " \n",
    "if results.pvalue < alpha:\n",
    "    print(\"Отвергаем нулевую гипотезу\")\n",
    "else:\n",
    "    print(\"Не отвергаем нулевую гипотезу\") "
   ]
  },
  {
   "cell_type": "markdown",
   "metadata": {},
   "source": [
    "#### Вывод"
   ]
  },
  {
   "cell_type": "markdown",
   "metadata": {},
   "source": [
    "Исходя из полученных результатов, мы не отвергаем нулевую гипотезу, тогда мы **НЕ можем утверждать**, что средняя выручка пользователей из Москвы отличается от выручки пользователей из других регионов"
   ]
  },
  {
   "cell_type": "markdown",
   "metadata": {},
   "source": [
    "## Общий вывод"
   ]
  },
  {
   "attachments": {},
   "cell_type": "markdown",
   "metadata": {},
   "source": [
    "Гипотеза 1 о том, что \\\n",
    "\"**Cредняя выручка пользователей тарифов «Ультра» и «Смарт» различается**\" не отвергается, \\\n",
    "в то время как Гипотеза 2  \\\n",
    "\"**Средняя выручка пользователей из Москвы отличается от выручки пользователей из других регионов.**\" по результатам теста выглядит ошибочной.\n",
    "\n",
    "\n",
    "Больше средств компании приносит тариф Smart, но предпочтительно увеличивать процент пользователей тарифа Ultra по отношению к пользователям Smart, так как средняя выручка от них выше. В ходе анализа используемых услуг, было выявлено, что большинству клиентов сильно не хватает заданных в тарифе количества сообщений. Количество минут разговора и гб интернета в тарифе Ultra избыточно. Возможно, если сократить в  пакете эти услуги и увеличить число смс, тариф Ultra станет привлекательнее. Тогда часть людей использующих тариф Smart перейдут на Ultra, так же этим тарифом заинтересуются новые пользователи, как более отвечающим на спрос. \\\n",
    "Так же можно увеличить стоимость тарифа Smart, но добавить число смс, так как большая часть докупает эту услугу, соответственно ежемесячно платят сверх тарифа."
   ]
  },
  {
   "cell_type": "code",
   "execution_count": null,
   "metadata": {},
   "outputs": [],
   "source": []
  }
 ],
 "metadata": {
  "ExecuteTimeLog": [
   {
    "duration": 7,
    "start_time": "2022-03-06T06:51:58.847Z"
   },
   {
    "duration": 5,
    "start_time": "2022-03-06T06:52:04.405Z"
   },
   {
    "duration": 324,
    "start_time": "2022-03-06T06:52:12.959Z"
   },
   {
    "duration": 253,
    "start_time": "2022-03-06T06:52:45.124Z"
   },
   {
    "duration": 246,
    "start_time": "2022-03-06T06:56:23.764Z"
   },
   {
    "duration": 271,
    "start_time": "2022-03-06T06:56:34.349Z"
   },
   {
    "duration": 6,
    "start_time": "2022-03-06T07:04:19.879Z"
   },
   {
    "duration": 14,
    "start_time": "2022-03-06T07:04:43.635Z"
   },
   {
    "duration": 4,
    "start_time": "2022-03-06T07:13:40.057Z"
   },
   {
    "duration": 281,
    "start_time": "2022-03-06T07:13:49.105Z"
   },
   {
    "duration": 6,
    "start_time": "2022-03-06T07:14:18.497Z"
   },
   {
    "duration": 5,
    "start_time": "2022-03-06T07:14:38.588Z"
   },
   {
    "duration": 5,
    "start_time": "2022-03-06T07:14:40.894Z"
   },
   {
    "duration": 84,
    "start_time": "2022-03-06T07:15:09.461Z"
   },
   {
    "duration": 5,
    "start_time": "2022-03-06T07:15:24.746Z"
   },
   {
    "duration": 6,
    "start_time": "2022-03-06T07:15:28.682Z"
   },
   {
    "duration": 5,
    "start_time": "2022-03-06T07:15:30.204Z"
   },
   {
    "duration": 6,
    "start_time": "2022-03-06T07:15:32.132Z"
   },
   {
    "duration": 307,
    "start_time": "2022-03-06T07:17:46.430Z"
   },
   {
    "duration": 6,
    "start_time": "2022-03-06T07:19:54.780Z"
   },
   {
    "duration": 84,
    "start_time": "2022-03-06T07:20:07.706Z"
   },
   {
    "duration": 5,
    "start_time": "2022-03-06T07:20:17.476Z"
   },
   {
    "duration": 6,
    "start_time": "2022-03-06T07:22:42.555Z"
   },
   {
    "duration": 285,
    "start_time": "2022-03-06T07:22:53.648Z"
   },
   {
    "duration": 232,
    "start_time": "2022-03-06T07:40:22.952Z"
   },
   {
    "duration": 6,
    "start_time": "2022-03-06T07:40:39.070Z"
   },
   {
    "duration": 6,
    "start_time": "2022-03-06T07:40:49.464Z"
   },
   {
    "duration": 95,
    "start_time": "2022-03-06T07:43:42.455Z"
   },
   {
    "duration": 234,
    "start_time": "2022-03-06T07:43:53.932Z"
   },
   {
    "duration": 748,
    "start_time": "2022-03-06T07:44:34.785Z"
   },
   {
    "duration": 480,
    "start_time": "2022-03-06T07:44:35.536Z"
   },
   {
    "duration": 319,
    "start_time": "2022-03-06T07:56:15.899Z"
   },
   {
    "duration": 4,
    "start_time": "2022-03-06T07:56:18.352Z"
   },
   {
    "duration": 460,
    "start_time": "2022-03-06T07:56:20.939Z"
   },
   {
    "duration": 59,
    "start_time": "2022-03-06T07:56:22.303Z"
   },
   {
    "duration": 62,
    "start_time": "2022-03-06T07:56:47.768Z"
   },
   {
    "duration": 85,
    "start_time": "2022-03-06T07:57:02.118Z"
   },
   {
    "duration": 105,
    "start_time": "2022-03-06T07:58:54.390Z"
   },
   {
    "duration": 74,
    "start_time": "2022-03-06T07:59:01.674Z"
   },
   {
    "duration": 351,
    "start_time": "2022-03-06T08:00:28.287Z"
   },
   {
    "duration": 108,
    "start_time": "2022-03-06T08:02:17.098Z"
   },
   {
    "duration": 482,
    "start_time": "2022-03-06T08:02:19.331Z"
   },
   {
    "duration": 67,
    "start_time": "2022-03-06T08:03:15.794Z"
   },
   {
    "duration": 66,
    "start_time": "2022-03-06T08:04:23.895Z"
   },
   {
    "duration": 4,
    "start_time": "2022-03-06T08:04:25.962Z"
   },
   {
    "duration": 65,
    "start_time": "2022-03-06T08:05:07.753Z"
   },
   {
    "duration": 42,
    "start_time": "2022-03-06T08:05:51.104Z"
   },
   {
    "duration": 80,
    "start_time": "2022-03-06T08:06:06.916Z"
   },
   {
    "duration": 62,
    "start_time": "2022-03-06T08:06:12.434Z"
   },
   {
    "duration": 85,
    "start_time": "2022-03-06T08:06:25.105Z"
   },
   {
    "duration": 38,
    "start_time": "2022-03-06T08:06:36.436Z"
   },
   {
    "duration": 19,
    "start_time": "2022-03-06T08:29:45.561Z"
   },
   {
    "duration": 41,
    "start_time": "2022-03-06T09:05:18.190Z"
   },
   {
    "duration": 248,
    "start_time": "2022-03-06T09:06:40.957Z"
   },
   {
    "duration": 65,
    "start_time": "2022-03-06T09:06:51.979Z"
   },
   {
    "duration": 14,
    "start_time": "2022-03-06T09:07:09.160Z"
   },
   {
    "duration": 7,
    "start_time": "2022-03-06T09:17:11.007Z"
   },
   {
    "duration": 37,
    "start_time": "2022-03-06T09:18:44.655Z"
   },
   {
    "duration": 15,
    "start_time": "2022-03-06T09:18:46.570Z"
   },
   {
    "duration": 298,
    "start_time": "2022-03-06T09:19:11.080Z"
   },
   {
    "duration": 238,
    "start_time": "2022-03-06T09:19:11.542Z"
   },
   {
    "duration": 833,
    "start_time": "2022-03-06T09:19:17.567Z"
   },
   {
    "duration": 475,
    "start_time": "2022-03-06T09:19:18.403Z"
   },
   {
    "duration": 4,
    "start_time": "2022-03-06T09:19:18.882Z"
   },
   {
    "duration": 101,
    "start_time": "2022-03-06T09:19:18.890Z"
   },
   {
    "duration": 76,
    "start_time": "2022-03-06T09:19:20.614Z"
   },
   {
    "duration": 14,
    "start_time": "2022-03-06T09:19:21.104Z"
   },
   {
    "duration": 499,
    "start_time": "2022-03-06T09:42:15.496Z"
   },
   {
    "duration": 274,
    "start_time": "2022-03-06T09:42:34.333Z"
   },
   {
    "duration": 4,
    "start_time": "2022-03-06T09:43:49.684Z"
   },
   {
    "duration": 301,
    "start_time": "2022-03-06T09:46:07.829Z"
   },
   {
    "duration": 787,
    "start_time": "2022-03-06T09:46:22.037Z"
   },
   {
    "duration": 459,
    "start_time": "2022-03-06T09:46:22.827Z"
   },
   {
    "duration": 3,
    "start_time": "2022-03-06T09:46:23.289Z"
   },
   {
    "duration": 86,
    "start_time": "2022-03-06T09:46:23.309Z"
   },
   {
    "duration": 82,
    "start_time": "2022-03-06T09:46:24.678Z"
   },
   {
    "duration": 17,
    "start_time": "2022-03-06T09:46:26.869Z"
   },
   {
    "duration": 39,
    "start_time": "2022-03-06T09:50:07.092Z"
   },
   {
    "duration": 43,
    "start_time": "2022-03-06T09:50:09.942Z"
   },
   {
    "duration": 15,
    "start_time": "2022-03-06T09:50:12.326Z"
   },
   {
    "duration": 12,
    "start_time": "2022-03-06T10:15:34.891Z"
   },
   {
    "duration": 7,
    "start_time": "2022-03-06T10:16:18.115Z"
   },
   {
    "duration": 328,
    "start_time": "2022-03-06T10:16:29.175Z"
   },
   {
    "duration": 17,
    "start_time": "2022-03-06T10:33:15.049Z"
   },
   {
    "duration": 243,
    "start_time": "2022-03-06T10:33:29.429Z"
   },
   {
    "duration": 639,
    "start_time": "2022-03-06T10:48:58.099Z"
   },
   {
    "duration": 663,
    "start_time": "2022-03-06T10:49:15.075Z"
   },
   {
    "duration": 79,
    "start_time": "2022-03-06T10:50:26.856Z"
   },
   {
    "duration": 686,
    "start_time": "2022-03-06T10:50:29.859Z"
   },
   {
    "duration": 101,
    "start_time": "2022-03-06T10:50:34.875Z"
   },
   {
    "duration": 785,
    "start_time": "2022-03-06T10:50:39.531Z"
   },
   {
    "duration": 9,
    "start_time": "2022-03-06T10:53:18.857Z"
   },
   {
    "duration": 11,
    "start_time": "2022-03-06T10:53:26.262Z"
   },
   {
    "duration": 8,
    "start_time": "2022-03-06T10:53:41.752Z"
   },
   {
    "duration": 236,
    "start_time": "2022-03-06T10:57:04.792Z"
   },
   {
    "duration": 7,
    "start_time": "2022-03-06T10:57:11.111Z"
   },
   {
    "duration": 11,
    "start_time": "2022-03-06T10:57:16.721Z"
   },
   {
    "duration": 4,
    "start_time": "2022-03-06T11:47:50.359Z"
   },
   {
    "duration": 871,
    "start_time": "2022-03-06T11:48:17.143Z"
   },
   {
    "duration": 484,
    "start_time": "2022-03-06T11:48:18.017Z"
   },
   {
    "duration": 5,
    "start_time": "2022-03-06T11:48:18.505Z"
   },
   {
    "duration": 89,
    "start_time": "2022-03-06T11:48:18.514Z"
   },
   {
    "duration": 113,
    "start_time": "2022-03-06T11:48:18.607Z"
   },
   {
    "duration": 14,
    "start_time": "2022-03-06T11:48:18.723Z"
   },
   {
    "duration": 344,
    "start_time": "2022-03-06T11:48:18.740Z"
   },
   {
    "duration": -189,
    "start_time": "2022-03-06T11:48:19.277Z"
   },
   {
    "duration": -190,
    "start_time": "2022-03-06T11:48:19.279Z"
   },
   {
    "duration": -189,
    "start_time": "2022-03-06T11:48:19.280Z"
   },
   {
    "duration": -189,
    "start_time": "2022-03-06T11:48:19.282Z"
   },
   {
    "duration": -189,
    "start_time": "2022-03-06T11:48:19.283Z"
   },
   {
    "duration": 81,
    "start_time": "2022-03-06T11:48:57.667Z"
   },
   {
    "duration": 340,
    "start_time": "2022-03-06T11:49:03.991Z"
   },
   {
    "duration": 8,
    "start_time": "2022-03-06T11:49:13.682Z"
   },
   {
    "duration": 4,
    "start_time": "2022-03-06T11:49:33.322Z"
   },
   {
    "duration": 12,
    "start_time": "2022-03-06T11:49:35.228Z"
   },
   {
    "duration": 249,
    "start_time": "2022-03-06T11:49:57.146Z"
   },
   {
    "duration": 6,
    "start_time": "2022-03-06T11:50:12.498Z"
   },
   {
    "duration": 13,
    "start_time": "2022-03-06T11:50:15.568Z"
   },
   {
    "duration": 254,
    "start_time": "2022-03-06T11:50:45.070Z"
   },
   {
    "duration": 9,
    "start_time": "2022-03-06T12:04:40.738Z"
   },
   {
    "duration": 11,
    "start_time": "2022-03-06T12:04:51.759Z"
   },
   {
    "duration": 285,
    "start_time": "2022-03-06T12:05:28.717Z"
   },
   {
    "duration": 351,
    "start_time": "2022-03-06T12:05:39.088Z"
   },
   {
    "duration": 232,
    "start_time": "2022-03-06T12:05:44.760Z"
   },
   {
    "duration": 237,
    "start_time": "2022-03-06T12:05:52.425Z"
   },
   {
    "duration": 10,
    "start_time": "2022-03-06T12:06:05.414Z"
   },
   {
    "duration": 13,
    "start_time": "2022-03-06T12:08:14.351Z"
   },
   {
    "duration": 263,
    "start_time": "2022-03-06T12:09:03.334Z"
   },
   {
    "duration": 12,
    "start_time": "2022-03-06T12:10:34.152Z"
   },
   {
    "duration": 12,
    "start_time": "2022-03-06T12:12:34.948Z"
   },
   {
    "duration": 3244,
    "start_time": "2022-03-06T12:12:35.337Z"
   },
   {
    "duration": -186,
    "start_time": "2022-03-06T12:12:38.770Z"
   },
   {
    "duration": -187,
    "start_time": "2022-03-06T12:12:38.773Z"
   },
   {
    "duration": 12,
    "start_time": "2022-03-06T12:12:50.063Z"
   },
   {
    "duration": 817,
    "start_time": "2022-03-06T12:13:09.170Z"
   },
   {
    "duration": 472,
    "start_time": "2022-03-06T12:13:09.989Z"
   },
   {
    "duration": 4,
    "start_time": "2022-03-06T12:13:10.464Z"
   },
   {
    "duration": 78,
    "start_time": "2022-03-06T12:13:10.471Z"
   },
   {
    "duration": 99,
    "start_time": "2022-03-06T12:13:10.551Z"
   },
   {
    "duration": 12,
    "start_time": "2022-03-06T12:13:10.652Z"
   },
   {
    "duration": 15,
    "start_time": "2022-03-06T12:13:10.682Z"
   },
   {
    "duration": 9,
    "start_time": "2022-03-06T12:13:10.700Z"
   },
   {
    "duration": 10,
    "start_time": "2022-03-06T12:13:10.713Z"
   },
   {
    "duration": 344,
    "start_time": "2022-03-06T12:13:10.726Z"
   },
   {
    "duration": -137,
    "start_time": "2022-03-06T12:13:11.210Z"
   },
   {
    "duration": -137,
    "start_time": "2022-03-06T12:13:11.211Z"
   },
   {
    "duration": -138,
    "start_time": "2022-03-06T12:13:11.213Z"
   },
   {
    "duration": -138,
    "start_time": "2022-03-06T12:13:11.215Z"
   },
   {
    "duration": 9,
    "start_time": "2022-03-06T12:18:55.400Z"
   },
   {
    "duration": 17,
    "start_time": "2022-03-06T12:19:31.036Z"
   },
   {
    "duration": 22,
    "start_time": "2022-03-06T12:19:37.473Z"
   },
   {
    "duration": 238,
    "start_time": "2022-03-06T12:19:47.695Z"
   },
   {
    "duration": 237,
    "start_time": "2022-03-06T12:19:55.038Z"
   },
   {
    "duration": 271,
    "start_time": "2022-03-06T12:20:03.618Z"
   },
   {
    "duration": 328,
    "start_time": "2022-03-06T12:20:14.869Z"
   },
   {
    "duration": 20,
    "start_time": "2022-03-06T12:20:21.778Z"
   },
   {
    "duration": 13,
    "start_time": "2022-03-06T12:20:33.798Z"
   },
   {
    "duration": 823,
    "start_time": "2022-03-06T12:25:48.085Z"
   },
   {
    "duration": 469,
    "start_time": "2022-03-06T12:25:48.910Z"
   },
   {
    "duration": 4,
    "start_time": "2022-03-06T12:25:49.382Z"
   },
   {
    "duration": 101,
    "start_time": "2022-03-06T12:25:49.389Z"
   },
   {
    "duration": 94,
    "start_time": "2022-03-06T12:25:49.492Z"
   },
   {
    "duration": 13,
    "start_time": "2022-03-06T12:25:49.589Z"
   },
   {
    "duration": 15,
    "start_time": "2022-03-06T12:25:49.605Z"
   },
   {
    "duration": 76,
    "start_time": "2022-03-06T12:25:49.623Z"
   },
   {
    "duration": 89,
    "start_time": "2022-03-06T12:25:49.703Z"
   },
   {
    "duration": 42,
    "start_time": "2022-03-06T12:25:49.795Z"
   },
   {
    "duration": 75,
    "start_time": "2022-03-06T12:25:49.839Z"
   },
   {
    "duration": 11,
    "start_time": "2022-03-06T12:25:49.916Z"
   },
   {
    "duration": 335,
    "start_time": "2022-03-06T12:32:11.529Z"
   },
   {
    "duration": 48,
    "start_time": "2022-03-06T12:33:11.949Z"
   },
   {
    "duration": 63,
    "start_time": "2022-03-06T12:33:18.463Z"
   },
   {
    "duration": 833,
    "start_time": "2022-03-06T12:34:30.211Z"
   },
   {
    "duration": 493,
    "start_time": "2022-03-06T12:34:31.047Z"
   },
   {
    "duration": 4,
    "start_time": "2022-03-06T12:34:31.543Z"
   },
   {
    "duration": 84,
    "start_time": "2022-03-06T12:34:31.550Z"
   },
   {
    "duration": 4,
    "start_time": "2022-03-06T12:34:31.636Z"
   },
   {
    "duration": 98,
    "start_time": "2022-03-06T12:34:31.642Z"
   },
   {
    "duration": 13,
    "start_time": "2022-03-06T12:34:31.743Z"
   },
   {
    "duration": 33,
    "start_time": "2022-03-06T12:34:31.759Z"
   },
   {
    "duration": 53,
    "start_time": "2022-03-06T12:34:31.795Z"
   },
   {
    "duration": 89,
    "start_time": "2022-03-06T12:34:31.851Z"
   },
   {
    "duration": 100,
    "start_time": "2022-03-06T12:34:31.942Z"
   },
   {
    "duration": 63,
    "start_time": "2022-03-06T12:34:32.045Z"
   },
   {
    "duration": 77,
    "start_time": "2022-03-06T12:34:32.110Z"
   },
   {
    "duration": 10,
    "start_time": "2022-03-06T12:34:32.190Z"
   },
   {
    "duration": 45,
    "start_time": "2022-03-06T12:37:20.734Z"
   },
   {
    "duration": 67,
    "start_time": "2022-03-06T12:37:40.788Z"
   },
   {
    "duration": 63,
    "start_time": "2022-03-06T12:41:07.936Z"
   },
   {
    "duration": 67,
    "start_time": "2022-03-06T12:41:22.561Z"
   },
   {
    "duration": 57,
    "start_time": "2022-03-06T12:41:54.822Z"
   },
   {
    "duration": 849,
    "start_time": "2022-03-06T12:42:28.939Z"
   },
   {
    "duration": 514,
    "start_time": "2022-03-06T12:42:29.796Z"
   },
   {
    "duration": 5,
    "start_time": "2022-03-06T12:42:30.313Z"
   },
   {
    "duration": 86,
    "start_time": "2022-03-06T12:42:30.321Z"
   },
   {
    "duration": 107,
    "start_time": "2022-03-06T12:42:30.410Z"
   },
   {
    "duration": 17,
    "start_time": "2022-03-06T12:42:30.520Z"
   },
   {
    "duration": 51,
    "start_time": "2022-03-06T12:42:30.542Z"
   },
   {
    "duration": 55,
    "start_time": "2022-03-06T12:42:30.596Z"
   },
   {
    "duration": 93,
    "start_time": "2022-03-06T12:42:30.654Z"
   },
   {
    "duration": 86,
    "start_time": "2022-03-06T12:42:30.750Z"
   },
   {
    "duration": 71,
    "start_time": "2022-03-06T12:42:30.840Z"
   },
   {
    "duration": 84,
    "start_time": "2022-03-06T12:42:30.914Z"
   },
   {
    "duration": 14,
    "start_time": "2022-03-06T12:42:31.002Z"
   },
   {
    "duration": 47,
    "start_time": "2022-03-06T12:42:49.405Z"
   },
   {
    "duration": 57,
    "start_time": "2022-03-06T12:42:55.512Z"
   },
   {
    "duration": 58,
    "start_time": "2022-03-06T12:43:12.665Z"
   },
   {
    "duration": 87,
    "start_time": "2022-03-06T12:44:17.075Z"
   },
   {
    "duration": 91,
    "start_time": "2022-03-06T12:44:37.424Z"
   },
   {
    "duration": 60,
    "start_time": "2022-03-06T12:45:15.506Z"
   },
   {
    "duration": 49,
    "start_time": "2022-03-06T12:45:22.676Z"
   },
   {
    "duration": 79,
    "start_time": "2022-03-06T12:49:40.843Z"
   },
   {
    "duration": 77,
    "start_time": "2022-03-06T12:49:48.479Z"
   },
   {
    "duration": 71,
    "start_time": "2022-03-06T12:50:28.987Z"
   },
   {
    "duration": 78,
    "start_time": "2022-03-06T12:50:37.534Z"
   },
   {
    "duration": 63,
    "start_time": "2022-03-06T12:51:17.399Z"
   },
   {
    "duration": 79,
    "start_time": "2022-03-06T12:51:47.442Z"
   },
   {
    "duration": 75,
    "start_time": "2022-03-06T12:52:19.044Z"
   },
   {
    "duration": 363,
    "start_time": "2022-03-06T12:55:52.568Z"
   },
   {
    "duration": 33,
    "start_time": "2022-03-06T12:56:09.147Z"
   },
   {
    "duration": 100,
    "start_time": "2022-03-06T12:56:18.195Z"
   },
   {
    "duration": 95,
    "start_time": "2022-03-06T12:56:32.224Z"
   },
   {
    "duration": 95,
    "start_time": "2022-03-06T12:57:07.777Z"
   },
   {
    "duration": 1052,
    "start_time": "2022-03-06T12:57:31.035Z"
   },
   {
    "duration": 73,
    "start_time": "2022-03-06T12:57:38.149Z"
   },
   {
    "duration": 69,
    "start_time": "2022-03-06T12:57:46.742Z"
   },
   {
    "duration": 84,
    "start_time": "2022-03-06T12:57:57.387Z"
   },
   {
    "duration": 77,
    "start_time": "2022-03-06T12:58:23.321Z"
   },
   {
    "duration": 837,
    "start_time": "2022-03-06T12:58:49.311Z"
   },
   {
    "duration": 503,
    "start_time": "2022-03-06T12:58:50.151Z"
   },
   {
    "duration": 4,
    "start_time": "2022-03-06T12:58:50.663Z"
   },
   {
    "duration": 84,
    "start_time": "2022-03-06T12:58:50.670Z"
   },
   {
    "duration": 67,
    "start_time": "2022-03-06T12:58:50.783Z"
   },
   {
    "duration": 31,
    "start_time": "2022-03-06T12:58:50.854Z"
   },
   {
    "duration": 20,
    "start_time": "2022-03-06T12:58:50.887Z"
   },
   {
    "duration": 39,
    "start_time": "2022-03-06T12:58:50.909Z"
   },
   {
    "duration": 96,
    "start_time": "2022-03-06T12:58:50.950Z"
   },
   {
    "duration": 393,
    "start_time": "2022-03-06T12:58:51.049Z"
   },
   {
    "duration": -97,
    "start_time": "2022-03-06T12:58:51.542Z"
   },
   {
    "duration": -98,
    "start_time": "2022-03-06T12:58:51.545Z"
   },
   {
    "duration": -99,
    "start_time": "2022-03-06T12:58:51.547Z"
   },
   {
    "duration": -99,
    "start_time": "2022-03-06T12:58:51.549Z"
   },
   {
    "duration": -102,
    "start_time": "2022-03-06T12:58:51.554Z"
   },
   {
    "duration": 19,
    "start_time": "2022-03-06T13:01:30.056Z"
   },
   {
    "duration": 19,
    "start_time": "2022-03-06T13:02:03.109Z"
   },
   {
    "duration": 40,
    "start_time": "2022-03-06T13:02:08.016Z"
   },
   {
    "duration": 13,
    "start_time": "2022-03-06T13:02:15.834Z"
   },
   {
    "duration": 19,
    "start_time": "2022-03-06T13:02:23.270Z"
   },
   {
    "duration": 41,
    "start_time": "2022-03-06T13:02:28.291Z"
   },
   {
    "duration": 64,
    "start_time": "2022-03-06T13:02:53.947Z"
   },
   {
    "duration": 13,
    "start_time": "2022-03-06T13:02:59.300Z"
   },
   {
    "duration": 13,
    "start_time": "2022-03-06T13:03:01.263Z"
   },
   {
    "duration": 67,
    "start_time": "2022-03-06T13:03:09.100Z"
   },
   {
    "duration": 15,
    "start_time": "2022-03-06T13:03:10.968Z"
   },
   {
    "duration": 14,
    "start_time": "2022-03-06T13:03:13.071Z"
   },
   {
    "duration": 45,
    "start_time": "2022-03-06T13:03:15.184Z"
   },
   {
    "duration": 105,
    "start_time": "2022-03-06T13:03:21.677Z"
   },
   {
    "duration": 287,
    "start_time": "2022-03-06T13:03:30.970Z"
   },
   {
    "duration": 282,
    "start_time": "2022-03-06T13:03:49.640Z"
   },
   {
    "duration": 298,
    "start_time": "2022-03-06T13:04:00.674Z"
   },
   {
    "duration": 285,
    "start_time": "2022-03-06T13:04:08.770Z"
   },
   {
    "duration": 73,
    "start_time": "2022-03-06T13:04:37.839Z"
   },
   {
    "duration": 68,
    "start_time": "2022-03-06T13:04:47.308Z"
   },
   {
    "duration": 77,
    "start_time": "2022-03-06T13:05:05.614Z"
   },
   {
    "duration": 88,
    "start_time": "2022-03-06T13:05:10.851Z"
   },
   {
    "duration": 83,
    "start_time": "2022-03-06T13:05:36.093Z"
   },
   {
    "duration": 79,
    "start_time": "2022-03-06T13:06:13.433Z"
   },
   {
    "duration": 45,
    "start_time": "2022-03-06T13:07:19.488Z"
   },
   {
    "duration": 800,
    "start_time": "2022-03-06T13:07:38.395Z"
   },
   {
    "duration": 474,
    "start_time": "2022-03-06T13:07:39.198Z"
   },
   {
    "duration": 4,
    "start_time": "2022-03-06T13:07:39.678Z"
   },
   {
    "duration": 99,
    "start_time": "2022-03-06T13:07:39.685Z"
   },
   {
    "duration": 67,
    "start_time": "2022-03-06T13:07:39.786Z"
   },
   {
    "duration": 34,
    "start_time": "2022-03-06T13:07:39.856Z"
   },
   {
    "duration": 358,
    "start_time": "2022-03-06T13:07:39.893Z"
   },
   {
    "duration": -98,
    "start_time": "2022-03-06T13:07:40.351Z"
   },
   {
    "duration": -98,
    "start_time": "2022-03-06T13:07:40.353Z"
   },
   {
    "duration": -101,
    "start_time": "2022-03-06T13:07:40.357Z"
   },
   {
    "duration": -102,
    "start_time": "2022-03-06T13:07:40.360Z"
   },
   {
    "duration": -101,
    "start_time": "2022-03-06T13:07:40.361Z"
   },
   {
    "duration": -110,
    "start_time": "2022-03-06T13:07:40.371Z"
   },
   {
    "duration": -110,
    "start_time": "2022-03-06T13:07:40.373Z"
   },
   {
    "duration": 315,
    "start_time": "2022-03-06T13:08:00.580Z"
   },
   {
    "duration": 336,
    "start_time": "2022-03-06T13:08:32.797Z"
   },
   {
    "duration": 94,
    "start_time": "2022-03-06T13:08:40.391Z"
   },
   {
    "duration": 55,
    "start_time": "2022-03-06T13:09:19.975Z"
   },
   {
    "duration": 844,
    "start_time": "2022-03-06T13:09:32.159Z"
   },
   {
    "duration": 469,
    "start_time": "2022-03-06T13:09:33.006Z"
   },
   {
    "duration": 4,
    "start_time": "2022-03-06T13:09:33.478Z"
   },
   {
    "duration": 97,
    "start_time": "2022-03-06T13:09:33.485Z"
   },
   {
    "duration": 67,
    "start_time": "2022-03-06T13:09:33.584Z"
   },
   {
    "duration": 30,
    "start_time": "2022-03-06T13:09:33.654Z"
   },
   {
    "duration": 341,
    "start_time": "2022-03-06T13:09:33.687Z"
   },
   {
    "duration": -127,
    "start_time": "2022-03-06T13:09:34.158Z"
   },
   {
    "duration": -128,
    "start_time": "2022-03-06T13:09:34.160Z"
   },
   {
    "duration": -128,
    "start_time": "2022-03-06T13:09:34.162Z"
   },
   {
    "duration": -128,
    "start_time": "2022-03-06T13:09:34.163Z"
   },
   {
    "duration": -127,
    "start_time": "2022-03-06T13:09:34.164Z"
   },
   {
    "duration": -127,
    "start_time": "2022-03-06T13:09:34.165Z"
   },
   {
    "duration": -127,
    "start_time": "2022-03-06T13:09:34.167Z"
   },
   {
    "duration": 53,
    "start_time": "2022-03-06T13:09:47.773Z"
   },
   {
    "duration": 65,
    "start_time": "2022-03-06T13:10:01.357Z"
   },
   {
    "duration": 89,
    "start_time": "2022-03-06T13:10:03.747Z"
   },
   {
    "duration": 84,
    "start_time": "2022-03-06T13:10:18.838Z"
   },
   {
    "duration": 807,
    "start_time": "2022-03-06T13:10:24.912Z"
   },
   {
    "duration": 461,
    "start_time": "2022-03-06T13:10:25.722Z"
   },
   {
    "duration": 4,
    "start_time": "2022-03-06T13:10:26.186Z"
   },
   {
    "duration": 98,
    "start_time": "2022-03-06T13:10:26.193Z"
   },
   {
    "duration": 88,
    "start_time": "2022-03-06T13:10:26.294Z"
   },
   {
    "duration": 14,
    "start_time": "2022-03-06T13:10:26.385Z"
   },
   {
    "duration": 54,
    "start_time": "2022-03-06T13:10:26.401Z"
   },
   {
    "duration": 64,
    "start_time": "2022-03-06T13:10:26.485Z"
   },
   {
    "duration": 102,
    "start_time": "2022-03-06T13:10:26.582Z"
   },
   {
    "duration": 42,
    "start_time": "2022-03-06T13:10:26.687Z"
   },
   {
    "duration": 85,
    "start_time": "2022-03-06T13:10:26.731Z"
   },
   {
    "duration": 66,
    "start_time": "2022-03-06T13:10:26.818Z"
   },
   {
    "duration": 41,
    "start_time": "2022-03-06T13:10:26.886Z"
   },
   {
    "duration": 53,
    "start_time": "2022-03-06T13:10:26.930Z"
   },
   {
    "duration": 48,
    "start_time": "2022-03-06T13:11:20.773Z"
   },
   {
    "duration": 760,
    "start_time": "2022-03-06T13:11:41.226Z"
   },
   {
    "duration": 466,
    "start_time": "2022-03-06T13:11:41.988Z"
   },
   {
    "duration": 4,
    "start_time": "2022-03-06T13:11:42.457Z"
   },
   {
    "duration": 75,
    "start_time": "2022-03-06T13:11:42.464Z"
   },
   {
    "duration": 93,
    "start_time": "2022-03-06T13:11:42.542Z"
   },
   {
    "duration": 13,
    "start_time": "2022-03-06T13:11:42.637Z"
   },
   {
    "duration": 76,
    "start_time": "2022-03-06T13:11:42.652Z"
   },
   {
    "duration": 86,
    "start_time": "2022-03-06T13:11:42.731Z"
   },
   {
    "duration": 108,
    "start_time": "2022-03-06T13:11:42.820Z"
   },
   {
    "duration": 61,
    "start_time": "2022-03-06T13:11:42.931Z"
   },
   {
    "duration": 46,
    "start_time": "2022-03-06T13:11:42.995Z"
   },
   {
    "duration": 82,
    "start_time": "2022-03-06T13:11:43.045Z"
   },
   {
    "duration": 66,
    "start_time": "2022-03-06T13:11:43.129Z"
   },
   {
    "duration": 10,
    "start_time": "2022-03-06T13:11:43.198Z"
   },
   {
    "duration": 49,
    "start_time": "2022-03-06T13:12:21.856Z"
   },
   {
    "duration": 86,
    "start_time": "2022-03-06T13:14:01.807Z"
   },
   {
    "duration": 79,
    "start_time": "2022-03-06T16:16:59.161Z"
   },
   {
    "duration": 311,
    "start_time": "2022-03-07T06:28:00.723Z"
   },
   {
    "duration": 699,
    "start_time": "2022-03-07T06:28:07.763Z"
   },
   {
    "duration": 418,
    "start_time": "2022-03-07T06:28:08.464Z"
   },
   {
    "duration": 3,
    "start_time": "2022-03-07T06:28:08.884Z"
   },
   {
    "duration": 62,
    "start_time": "2022-03-07T06:28:08.888Z"
   },
   {
    "duration": 64,
    "start_time": "2022-03-07T06:28:08.952Z"
   },
   {
    "duration": 8,
    "start_time": "2022-03-07T06:28:09.018Z"
   },
   {
    "duration": 55,
    "start_time": "2022-03-07T06:28:09.028Z"
   },
   {
    "duration": 51,
    "start_time": "2022-03-07T06:28:09.086Z"
   },
   {
    "duration": 88,
    "start_time": "2022-03-07T06:28:09.139Z"
   },
   {
    "duration": 302,
    "start_time": "2022-03-07T06:28:09.229Z"
   },
   {
    "duration": -102,
    "start_time": "2022-03-07T06:28:09.635Z"
   },
   {
    "duration": -105,
    "start_time": "2022-03-07T06:28:09.639Z"
   },
   {
    "duration": -105,
    "start_time": "2022-03-07T06:28:09.640Z"
   },
   {
    "duration": -107,
    "start_time": "2022-03-07T06:28:09.643Z"
   },
   {
    "duration": 266,
    "start_time": "2022-03-07T06:28:40.188Z"
   },
   {
    "duration": 262,
    "start_time": "2022-03-07T06:30:04.494Z"
   },
   {
    "duration": 265,
    "start_time": "2022-03-07T06:32:35.427Z"
   },
   {
    "duration": 269,
    "start_time": "2022-03-07T06:33:03.120Z"
   },
   {
    "duration": 4,
    "start_time": "2022-03-07T06:33:41.646Z"
   },
   {
    "duration": 65,
    "start_time": "2022-03-07T06:33:53.720Z"
   },
   {
    "duration": 4,
    "start_time": "2022-03-07T06:34:00.500Z"
   },
   {
    "duration": 35,
    "start_time": "2022-03-07T06:34:23.397Z"
   },
   {
    "duration": 62,
    "start_time": "2022-03-07T06:34:28.808Z"
   },
   {
    "duration": 4,
    "start_time": "2022-03-07T06:34:31.559Z"
   },
   {
    "duration": 35,
    "start_time": "2022-03-07T06:36:22.040Z"
   },
   {
    "duration": 62,
    "start_time": "2022-03-07T06:36:28.449Z"
   },
   {
    "duration": 4,
    "start_time": "2022-03-07T06:36:31.144Z"
   },
   {
    "duration": 35,
    "start_time": "2022-03-07T06:36:44.435Z"
   },
   {
    "duration": 4,
    "start_time": "2022-03-07T06:36:55.224Z"
   },
   {
    "duration": 266,
    "start_time": "2022-03-07T06:44:34.954Z"
   },
   {
    "duration": 268,
    "start_time": "2022-03-07T06:44:52.134Z"
   },
   {
    "duration": 37,
    "start_time": "2022-03-07T06:45:55.023Z"
   },
   {
    "duration": 68,
    "start_time": "2022-03-07T06:47:00.860Z"
   },
   {
    "duration": 57,
    "start_time": "2022-03-07T06:48:13.151Z"
   },
   {
    "duration": 318,
    "start_time": "2022-03-07T06:48:49.101Z"
   },
   {
    "duration": 359,
    "start_time": "2022-03-07T06:49:09.761Z"
   },
   {
    "duration": 330,
    "start_time": "2022-03-07T06:49:56.507Z"
   },
   {
    "duration": 389,
    "start_time": "2022-03-07T06:50:35.667Z"
   },
   {
    "duration": 328,
    "start_time": "2022-03-07T06:52:51.791Z"
   },
   {
    "duration": 337,
    "start_time": "2022-03-07T06:53:13.207Z"
   },
   {
    "duration": 348,
    "start_time": "2022-03-07T06:56:26.257Z"
   },
   {
    "duration": 336,
    "start_time": "2022-03-07T06:56:45.602Z"
   },
   {
    "duration": 6418,
    "start_time": "2022-03-07T06:57:09.368Z"
   },
   {
    "duration": 357,
    "start_time": "2022-03-07T06:57:51.633Z"
   },
   {
    "duration": 343,
    "start_time": "2022-03-07T06:58:21.446Z"
   },
   {
    "duration": 341,
    "start_time": "2022-03-07T06:59:14.174Z"
   },
   {
    "duration": 661,
    "start_time": "2022-03-07T06:59:32.117Z"
   },
   {
    "duration": 437,
    "start_time": "2022-03-07T06:59:32.780Z"
   },
   {
    "duration": 2,
    "start_time": "2022-03-07T06:59:33.219Z"
   },
   {
    "duration": 66,
    "start_time": "2022-03-07T06:59:33.223Z"
   },
   {
    "duration": 55,
    "start_time": "2022-03-07T06:59:33.291Z"
   },
   {
    "duration": 9,
    "start_time": "2022-03-07T06:59:33.348Z"
   },
   {
    "duration": 42,
    "start_time": "2022-03-07T06:59:33.376Z"
   },
   {
    "duration": 74,
    "start_time": "2022-03-07T06:59:33.421Z"
   },
   {
    "duration": 87,
    "start_time": "2022-03-07T06:59:33.497Z"
   },
   {
    "duration": 11,
    "start_time": "2022-03-07T06:59:33.586Z"
   },
   {
    "duration": 450,
    "start_time": "2022-03-07T06:59:33.598Z"
   },
   {
    "duration": -62,
    "start_time": "2022-03-07T06:59:34.112Z"
   },
   {
    "duration": -63,
    "start_time": "2022-03-07T06:59:34.114Z"
   },
   {
    "duration": 83,
    "start_time": "2022-03-07T06:59:43.762Z"
   },
   {
    "duration": 97,
    "start_time": "2022-03-07T06:59:50.933Z"
   },
   {
    "duration": 30,
    "start_time": "2022-03-07T07:00:32.113Z"
   },
   {
    "duration": 43,
    "start_time": "2022-03-07T07:00:43.238Z"
   },
   {
    "duration": 8,
    "start_time": "2022-03-07T07:00:56.169Z"
   },
   {
    "duration": 9,
    "start_time": "2022-03-07T07:01:00.008Z"
   },
   {
    "duration": 5,
    "start_time": "2022-03-07T07:02:03.012Z"
   },
   {
    "duration": 13,
    "start_time": "2022-03-07T07:02:10.028Z"
   },
   {
    "duration": 12,
    "start_time": "2022-03-07T07:02:36.704Z"
   },
   {
    "duration": 12,
    "start_time": "2022-03-07T07:02:37.856Z"
   },
   {
    "duration": 688,
    "start_time": "2022-03-07T07:02:53.375Z"
   },
   {
    "duration": 402,
    "start_time": "2022-03-07T07:02:54.065Z"
   },
   {
    "duration": 2,
    "start_time": "2022-03-07T07:02:54.471Z"
   },
   {
    "duration": 64,
    "start_time": "2022-03-07T07:02:54.475Z"
   },
   {
    "duration": 59,
    "start_time": "2022-03-07T07:02:54.540Z"
   },
   {
    "duration": 8,
    "start_time": "2022-03-07T07:02:54.601Z"
   },
   {
    "duration": 42,
    "start_time": "2022-03-07T07:02:54.612Z"
   },
   {
    "duration": 71,
    "start_time": "2022-03-07T07:02:54.656Z"
   },
   {
    "duration": 88,
    "start_time": "2022-03-07T07:02:54.729Z"
   },
   {
    "duration": 110,
    "start_time": "2022-03-07T07:02:54.819Z"
   },
   {
    "duration": 46,
    "start_time": "2022-03-07T07:02:54.930Z"
   },
   {
    "duration": 8,
    "start_time": "2022-03-07T07:02:54.979Z"
   },
   {
    "duration": 396,
    "start_time": "2022-03-07T07:04:14.592Z"
   },
   {
    "duration": 63,
    "start_time": "2022-03-07T07:04:20.399Z"
   },
   {
    "duration": 17,
    "start_time": "2022-03-07T07:15:04.347Z"
   },
   {
    "duration": 37,
    "start_time": "2022-03-07T07:15:32.514Z"
   },
   {
    "duration": 16,
    "start_time": "2022-03-07T07:15:35.767Z"
   },
   {
    "duration": 31,
    "start_time": "2022-03-07T07:16:15.030Z"
   },
   {
    "duration": 705,
    "start_time": "2022-03-07T07:16:26.381Z"
   },
   {
    "duration": 429,
    "start_time": "2022-03-07T07:16:27.089Z"
   },
   {
    "duration": 3,
    "start_time": "2022-03-07T07:16:27.522Z"
   },
   {
    "duration": 67,
    "start_time": "2022-03-07T07:16:27.527Z"
   },
   {
    "duration": 55,
    "start_time": "2022-03-07T07:16:27.596Z"
   },
   {
    "duration": 25,
    "start_time": "2022-03-07T07:16:27.653Z"
   },
   {
    "duration": 44,
    "start_time": "2022-03-07T07:16:27.680Z"
   },
   {
    "duration": 70,
    "start_time": "2022-03-07T07:16:27.726Z"
   },
   {
    "duration": 85,
    "start_time": "2022-03-07T07:16:27.797Z"
   },
   {
    "duration": 114,
    "start_time": "2022-03-07T07:16:27.884Z"
   },
   {
    "duration": 30,
    "start_time": "2022-03-07T07:16:28.000Z"
   },
   {
    "duration": 8,
    "start_time": "2022-03-07T07:16:28.031Z"
   },
   {
    "duration": 48,
    "start_time": "2022-03-07T07:16:28.041Z"
   },
   {
    "duration": 19,
    "start_time": "2022-03-07T07:16:55.077Z"
   },
   {
    "duration": 23,
    "start_time": "2022-03-07T07:18:44.638Z"
   },
   {
    "duration": 21,
    "start_time": "2022-03-07T07:18:47.936Z"
   },
   {
    "duration": 20,
    "start_time": "2022-03-07T07:18:49.009Z"
   },
   {
    "duration": 23,
    "start_time": "2022-03-07T07:19:49.998Z"
   },
   {
    "duration": 21,
    "start_time": "2022-03-07T07:20:00.042Z"
   },
   {
    "duration": 345,
    "start_time": "2022-03-07T07:26:49.331Z"
   },
   {
    "duration": 1568,
    "start_time": "2022-03-07T07:35:10.735Z"
   },
   {
    "duration": 98,
    "start_time": "2022-03-07T07:35:18.471Z"
   },
   {
    "duration": 112,
    "start_time": "2022-03-07T07:35:24.273Z"
   },
   {
    "duration": 28,
    "start_time": "2022-03-07T07:35:40.094Z"
   },
   {
    "duration": 8,
    "start_time": "2022-03-07T07:35:44.606Z"
   },
   {
    "duration": 26,
    "start_time": "2022-03-07T07:35:47.327Z"
   },
   {
    "duration": 8569,
    "start_time": "2022-03-07T07:48:30.710Z"
   },
   {
    "duration": 6385,
    "start_time": "2022-03-07T07:49:49.403Z"
   },
   {
    "duration": 84,
    "start_time": "2022-03-07T07:50:51.399Z"
   },
   {
    "duration": 263,
    "start_time": "2022-03-07T07:50:54.857Z"
   },
   {
    "duration": 327,
    "start_time": "2022-03-07T07:52:48.803Z"
   },
   {
    "duration": 272,
    "start_time": "2022-03-07T08:22:25.816Z"
   },
   {
    "duration": 459,
    "start_time": "2022-03-07T08:22:37.434Z"
   },
   {
    "duration": 85,
    "start_time": "2022-03-07T08:25:08.806Z"
   },
   {
    "duration": 91,
    "start_time": "2022-03-07T08:25:12.685Z"
   },
   {
    "duration": 3,
    "start_time": "2022-03-07T08:25:29.519Z"
   },
   {
    "duration": 3,
    "start_time": "2022-03-07T08:25:48.064Z"
   },
   {
    "duration": 5140,
    "start_time": "2022-03-07T08:26:26.149Z"
   },
   {
    "duration": 4,
    "start_time": "2022-03-07T08:26:51.487Z"
   },
   {
    "duration": 4,
    "start_time": "2022-03-07T08:26:54.636Z"
   },
   {
    "duration": 4,
    "start_time": "2022-03-07T08:27:00.599Z"
   },
   {
    "duration": 5,
    "start_time": "2022-03-07T08:27:05.925Z"
   },
   {
    "duration": 5,
    "start_time": "2022-03-07T08:27:28.564Z"
   },
   {
    "duration": 499,
    "start_time": "2022-03-07T08:27:34.118Z"
   },
   {
    "duration": 420,
    "start_time": "2022-03-07T08:27:41.568Z"
   },
   {
    "duration": 418,
    "start_time": "2022-03-07T08:27:45.799Z"
   },
   {
    "duration": 113,
    "start_time": "2022-03-07T08:28:09.728Z"
   },
   {
    "duration": 464,
    "start_time": "2022-03-07T08:28:14.220Z"
   },
   {
    "duration": 465,
    "start_time": "2022-03-07T08:28:44.278Z"
   },
   {
    "duration": 428,
    "start_time": "2022-03-07T08:29:27.579Z"
   },
   {
    "duration": 437,
    "start_time": "2022-03-07T08:29:32.860Z"
   },
   {
    "duration": 424,
    "start_time": "2022-03-07T08:29:48.324Z"
   },
   {
    "duration": 453,
    "start_time": "2022-03-07T08:30:12.535Z"
   },
   {
    "duration": 419,
    "start_time": "2022-03-07T08:31:54.932Z"
   },
   {
    "duration": 458,
    "start_time": "2022-03-07T08:38:35.061Z"
   },
   {
    "duration": 259,
    "start_time": "2022-03-07T08:39:16.286Z"
   },
   {
    "duration": 257,
    "start_time": "2022-03-07T08:39:34.482Z"
   },
   {
    "duration": 302,
    "start_time": "2022-03-07T08:41:10.021Z"
   },
   {
    "duration": 262,
    "start_time": "2022-03-07T08:41:24.984Z"
   },
   {
    "duration": 259,
    "start_time": "2022-03-07T08:42:30.068Z"
   },
   {
    "duration": 271,
    "start_time": "2022-03-07T08:44:31.906Z"
   },
   {
    "duration": 22,
    "start_time": "2022-03-07T08:45:20.917Z"
   },
   {
    "duration": 27,
    "start_time": "2022-03-07T08:45:48.204Z"
   },
   {
    "duration": 261,
    "start_time": "2022-03-07T08:46:53.716Z"
   },
   {
    "duration": 14,
    "start_time": "2022-03-07T08:47:37.352Z"
   },
   {
    "duration": 90,
    "start_time": "2022-03-07T08:48:35.912Z"
   },
   {
    "duration": 100,
    "start_time": "2022-03-07T08:48:39.634Z"
   },
   {
    "duration": 258,
    "start_time": "2022-03-07T08:48:51.805Z"
   },
   {
    "duration": 304,
    "start_time": "2022-03-07T08:49:07.900Z"
   },
   {
    "duration": 252,
    "start_time": "2022-03-07T08:49:38.227Z"
   },
   {
    "duration": 264,
    "start_time": "2022-03-07T08:50:10.612Z"
   },
   {
    "duration": 290,
    "start_time": "2022-03-07T08:50:54.428Z"
   },
   {
    "duration": 266,
    "start_time": "2022-03-07T08:55:41.086Z"
   },
   {
    "duration": 296,
    "start_time": "2022-03-07T09:05:26.038Z"
   },
   {
    "duration": 288,
    "start_time": "2022-03-07T09:05:33.745Z"
   },
   {
    "duration": 272,
    "start_time": "2022-03-07T09:05:44.153Z"
   },
   {
    "duration": 713,
    "start_time": "2022-03-07T09:13:34.372Z"
   },
   {
    "duration": 406,
    "start_time": "2022-03-07T09:13:35.087Z"
   },
   {
    "duration": 3,
    "start_time": "2022-03-07T09:13:35.495Z"
   },
   {
    "duration": 65,
    "start_time": "2022-03-07T09:13:35.501Z"
   },
   {
    "duration": 63,
    "start_time": "2022-03-07T09:13:35.569Z"
   },
   {
    "duration": 9,
    "start_time": "2022-03-07T09:13:35.634Z"
   },
   {
    "duration": 59,
    "start_time": "2022-03-07T09:13:35.645Z"
   },
   {
    "duration": 54,
    "start_time": "2022-03-07T09:13:35.706Z"
   },
   {
    "duration": 70,
    "start_time": "2022-03-07T09:13:35.778Z"
   },
   {
    "duration": 106,
    "start_time": "2022-03-07T09:13:35.850Z"
   },
   {
    "duration": 41,
    "start_time": "2022-03-07T09:13:35.957Z"
   },
   {
    "duration": 7,
    "start_time": "2022-03-07T09:13:36.000Z"
   },
   {
    "duration": 10,
    "start_time": "2022-03-07T09:13:36.008Z"
   },
   {
    "duration": 28,
    "start_time": "2022-03-07T09:13:36.019Z"
   },
   {
    "duration": 38,
    "start_time": "2022-03-07T09:15:35.304Z"
   },
   {
    "duration": 340,
    "start_time": "2022-03-07T09:17:57.368Z"
   },
   {
    "duration": 4,
    "start_time": "2022-03-07T09:18:16.807Z"
   },
   {
    "duration": 81,
    "start_time": "2022-03-07T09:18:23.245Z"
   },
   {
    "duration": 88,
    "start_time": "2022-03-07T09:18:27.438Z"
   },
   {
    "duration": 85,
    "start_time": "2022-03-07T09:18:29.834Z"
   },
   {
    "duration": 6501,
    "start_time": "2022-03-07T09:18:41.493Z"
   },
   {
    "duration": 6568,
    "start_time": "2022-03-07T09:19:28.871Z"
   },
   {
    "duration": 309,
    "start_time": "2022-03-07T09:19:52.707Z"
   },
   {
    "duration": 285,
    "start_time": "2022-03-07T09:19:57.647Z"
   },
   {
    "duration": 416,
    "start_time": "2022-03-07T09:20:06.792Z"
   },
   {
    "duration": 17,
    "start_time": "2022-03-07T09:20:17.950Z"
   },
   {
    "duration": 27,
    "start_time": "2022-03-07T09:20:24.842Z"
   },
   {
    "duration": 24,
    "start_time": "2022-03-07T09:20:44.822Z"
   },
   {
    "duration": 425,
    "start_time": "2022-03-07T09:21:21.931Z"
   },
   {
    "duration": 469,
    "start_time": "2022-03-07T09:24:51.233Z"
   },
   {
    "duration": 204,
    "start_time": "2022-03-07T09:25:33.436Z"
   },
   {
    "duration": 215,
    "start_time": "2022-03-07T09:25:39.015Z"
   },
   {
    "duration": 492,
    "start_time": "2022-03-07T09:26:13.495Z"
   },
   {
    "duration": 450,
    "start_time": "2022-03-07T09:26:18.305Z"
   },
   {
    "duration": 216,
    "start_time": "2022-03-07T09:26:35.362Z"
   },
   {
    "duration": 6,
    "start_time": "2022-03-07T09:26:55.862Z"
   },
   {
    "duration": 437,
    "start_time": "2022-03-07T09:27:23.193Z"
   },
   {
    "duration": 288,
    "start_time": "2022-03-07T10:29:46.861Z"
   },
   {
    "duration": 32,
    "start_time": "2022-03-07T10:30:00.668Z"
   },
   {
    "duration": 96,
    "start_time": "2022-03-07T17:53:54.987Z"
   },
   {
    "duration": 868,
    "start_time": "2022-03-07T17:54:06.952Z"
   },
   {
    "duration": 486,
    "start_time": "2022-03-07T17:54:07.823Z"
   },
   {
    "duration": 4,
    "start_time": "2022-03-07T17:54:08.312Z"
   },
   {
    "duration": 84,
    "start_time": "2022-03-07T17:54:08.319Z"
   },
   {
    "duration": 88,
    "start_time": "2022-03-07T17:54:08.406Z"
   },
   {
    "duration": 12,
    "start_time": "2022-03-07T17:54:08.496Z"
   },
   {
    "duration": 51,
    "start_time": "2022-03-07T17:54:08.510Z"
   },
   {
    "duration": 83,
    "start_time": "2022-03-07T17:54:08.564Z"
   },
   {
    "duration": 111,
    "start_time": "2022-03-07T17:54:08.649Z"
   },
   {
    "duration": 136,
    "start_time": "2022-03-07T17:54:08.763Z"
   },
   {
    "duration": 38,
    "start_time": "2022-03-07T17:54:08.901Z"
   },
   {
    "duration": 10,
    "start_time": "2022-03-07T17:54:08.942Z"
   },
   {
    "duration": 38,
    "start_time": "2022-03-07T17:54:08.954Z"
   },
   {
    "duration": 40,
    "start_time": "2022-03-07T17:54:08.994Z"
   },
   {
    "duration": 77,
    "start_time": "2022-03-07T17:54:09.036Z"
   },
   {
    "duration": 74,
    "start_time": "2022-03-07T17:54:42.690Z"
   },
   {
    "duration": 83,
    "start_time": "2022-03-07T17:54:56.622Z"
   },
   {
    "duration": 79,
    "start_time": "2022-03-07T17:55:35.104Z"
   },
   {
    "duration": 77,
    "start_time": "2022-03-07T18:00:04.869Z"
   },
   {
    "duration": 74,
    "start_time": "2022-03-07T18:00:36.878Z"
   },
   {
    "duration": 365,
    "start_time": "2022-03-07T18:01:00.332Z"
   },
   {
    "duration": 235,
    "start_time": "2022-03-07T18:01:17.047Z"
   },
   {
    "duration": 215,
    "start_time": "2022-03-07T18:03:35.495Z"
   },
   {
    "duration": 230,
    "start_time": "2022-03-07T18:03:48.097Z"
   },
   {
    "duration": 220,
    "start_time": "2022-03-07T18:14:55.523Z"
   },
   {
    "duration": 237,
    "start_time": "2022-03-07T18:16:34.121Z"
   },
   {
    "duration": 242,
    "start_time": "2022-03-07T18:17:01.589Z"
   },
   {
    "duration": 295,
    "start_time": "2022-03-07T18:21:24.060Z"
   },
   {
    "duration": 230,
    "start_time": "2022-03-07T18:21:48.000Z"
   },
   {
    "duration": 224,
    "start_time": "2022-03-07T18:25:33.253Z"
   },
   {
    "duration": 222,
    "start_time": "2022-03-07T18:26:10.625Z"
   },
   {
    "duration": 375,
    "start_time": "2022-03-07T18:26:46.095Z"
   },
   {
    "duration": 236,
    "start_time": "2022-03-07T18:27:01.781Z"
   },
   {
    "duration": 221,
    "start_time": "2022-03-07T18:27:19.415Z"
   },
   {
    "duration": 221,
    "start_time": "2022-03-07T18:28:06.488Z"
   },
   {
    "duration": 370,
    "start_time": "2022-03-07T18:28:17.384Z"
   },
   {
    "duration": 224,
    "start_time": "2022-03-07T18:28:24.649Z"
   },
   {
    "duration": 219,
    "start_time": "2022-03-07T18:31:57.683Z"
   },
   {
    "duration": 257,
    "start_time": "2022-03-07T18:32:15.342Z"
   },
   {
    "duration": 379,
    "start_time": "2022-03-07T18:32:53.201Z"
   },
   {
    "duration": 400,
    "start_time": "2022-03-07T18:35:40.805Z"
   },
   {
    "duration": 391,
    "start_time": "2022-03-07T18:36:34.292Z"
   },
   {
    "duration": 28,
    "start_time": "2022-03-07T18:39:33.896Z"
   },
   {
    "duration": 45,
    "start_time": "2022-03-07T18:39:41.450Z"
   },
   {
    "duration": 371,
    "start_time": "2022-03-07T19:22:40.105Z"
   },
   {
    "duration": 360,
    "start_time": "2022-03-07T19:23:27.569Z"
   },
   {
    "duration": 241,
    "start_time": "2022-03-07T19:30:48.618Z"
   },
   {
    "duration": 8124,
    "start_time": "2022-03-07T19:31:05.373Z"
   },
   {
    "duration": 259,
    "start_time": "2022-03-07T19:32:57.189Z"
   },
   {
    "duration": 283,
    "start_time": "2022-03-07T19:33:09.265Z"
   },
   {
    "duration": 370,
    "start_time": "2022-03-07T19:45:21.876Z"
   },
   {
    "duration": 373,
    "start_time": "2022-03-07T19:46:18.734Z"
   },
   {
    "duration": 387,
    "start_time": "2022-03-07T19:47:42.796Z"
   },
   {
    "duration": 54,
    "start_time": "2022-03-07T19:50:09.591Z"
   },
   {
    "duration": 47,
    "start_time": "2022-03-07T19:50:24.270Z"
   },
   {
    "duration": 4,
    "start_time": "2022-03-07T19:53:05.449Z"
   },
   {
    "duration": 11,
    "start_time": "2022-03-07T19:53:30.254Z"
   },
   {
    "duration": 232,
    "start_time": "2022-03-07T19:54:15.245Z"
   },
   {
    "duration": 84,
    "start_time": "2022-03-07T19:54:28.665Z"
   },
   {
    "duration": 4,
    "start_time": "2022-03-07T19:54:40.315Z"
   },
   {
    "duration": 12,
    "start_time": "2022-03-07T19:54:42.544Z"
   },
   {
    "duration": 51,
    "start_time": "2022-03-07T19:54:49.589Z"
   },
   {
    "duration": 48,
    "start_time": "2022-03-07T19:54:56.699Z"
   },
   {
    "duration": 47,
    "start_time": "2022-03-07T19:54:57.572Z"
   },
   {
    "duration": 49,
    "start_time": "2022-03-07T19:54:58.186Z"
   },
   {
    "duration": 46,
    "start_time": "2022-03-07T19:54:58.648Z"
   },
   {
    "duration": 48,
    "start_time": "2022-03-07T19:54:59.132Z"
   },
   {
    "duration": 4,
    "start_time": "2022-03-07T19:55:13.691Z"
   },
   {
    "duration": 11,
    "start_time": "2022-03-07T19:55:16.046Z"
   },
   {
    "duration": 5,
    "start_time": "2022-03-07T19:55:24.854Z"
   },
   {
    "duration": 12,
    "start_time": "2022-03-07T19:55:28.140Z"
   },
   {
    "duration": 12,
    "start_time": "2022-03-07T19:55:45.064Z"
   },
   {
    "duration": 3842,
    "start_time": "2022-03-07T19:57:04.745Z"
   },
   {
    "duration": 823,
    "start_time": "2022-03-07T19:59:02.197Z"
   },
   {
    "duration": 485,
    "start_time": "2022-03-07T19:59:03.023Z"
   },
   {
    "duration": 4,
    "start_time": "2022-03-07T19:59:03.511Z"
   },
   {
    "duration": 86,
    "start_time": "2022-03-07T19:59:03.518Z"
   },
   {
    "duration": 83,
    "start_time": "2022-03-07T19:59:03.606Z"
   },
   {
    "duration": 12,
    "start_time": "2022-03-07T19:59:03.692Z"
   },
   {
    "duration": 51,
    "start_time": "2022-03-07T19:59:03.707Z"
   },
   {
    "duration": 88,
    "start_time": "2022-03-07T19:59:03.761Z"
   },
   {
    "duration": 122,
    "start_time": "2022-03-07T19:59:03.853Z"
   },
   {
    "duration": 142,
    "start_time": "2022-03-07T19:59:03.986Z"
   },
   {
    "duration": 65,
    "start_time": "2022-03-07T19:59:04.131Z"
   },
   {
    "duration": 12,
    "start_time": "2022-03-07T19:59:04.198Z"
   },
   {
    "duration": 403,
    "start_time": "2022-03-07T19:59:04.212Z"
   },
   {
    "duration": -192,
    "start_time": "2022-03-07T19:59:04.810Z"
   },
   {
    "duration": 51,
    "start_time": "2022-03-07T19:59:18.542Z"
   },
   {
    "duration": 45,
    "start_time": "2022-03-07T19:59:32.416Z"
   },
   {
    "duration": 48,
    "start_time": "2022-03-07T20:00:06.985Z"
   },
   {
    "duration": 244,
    "start_time": "2022-03-07T20:02:09.880Z"
   },
   {
    "duration": 229,
    "start_time": "2022-03-07T20:02:20.462Z"
   },
   {
    "duration": 223,
    "start_time": "2022-03-07T20:02:28.942Z"
   },
   {
    "duration": 252,
    "start_time": "2022-03-07T20:04:00.406Z"
   },
   {
    "duration": 11,
    "start_time": "2022-03-07T20:04:06.014Z"
   },
   {
    "duration": 11,
    "start_time": "2022-03-07T20:05:27.611Z"
   },
   {
    "duration": 10,
    "start_time": "2022-03-07T20:05:29.872Z"
   },
   {
    "duration": 11,
    "start_time": "2022-03-07T20:05:30.605Z"
   },
   {
    "duration": 11,
    "start_time": "2022-03-07T20:05:30.810Z"
   },
   {
    "duration": 13,
    "start_time": "2022-03-07T20:05:30.951Z"
   },
   {
    "duration": 11,
    "start_time": "2022-03-07T20:06:29.873Z"
   },
   {
    "duration": 12,
    "start_time": "2022-03-07T20:06:51.178Z"
   },
   {
    "duration": 11,
    "start_time": "2022-03-07T20:06:52.611Z"
   },
   {
    "duration": 11,
    "start_time": "2022-03-07T20:06:53.181Z"
   },
   {
    "duration": 11,
    "start_time": "2022-03-07T20:06:53.803Z"
   },
   {
    "duration": 11,
    "start_time": "2022-03-07T20:06:54.487Z"
   },
   {
    "duration": 11,
    "start_time": "2022-03-07T20:06:55.034Z"
   },
   {
    "duration": 11,
    "start_time": "2022-03-07T20:06:55.327Z"
   },
   {
    "duration": 11,
    "start_time": "2022-03-07T20:06:55.508Z"
   },
   {
    "duration": 12,
    "start_time": "2022-03-07T20:07:34.262Z"
   },
   {
    "duration": 10,
    "start_time": "2022-03-07T20:07:34.928Z"
   },
   {
    "duration": 12,
    "start_time": "2022-03-07T20:07:35.273Z"
   },
   {
    "duration": 12,
    "start_time": "2022-03-07T20:07:35.603Z"
   },
   {
    "duration": 11,
    "start_time": "2022-03-07T20:07:35.912Z"
   },
   {
    "duration": 11,
    "start_time": "2022-03-07T20:07:36.243Z"
   },
   {
    "duration": 864,
    "start_time": "2022-03-07T20:07:49.953Z"
   },
   {
    "duration": 490,
    "start_time": "2022-03-07T20:07:50.819Z"
   },
   {
    "duration": 3,
    "start_time": "2022-03-07T20:07:51.312Z"
   },
   {
    "duration": 83,
    "start_time": "2022-03-07T20:07:51.318Z"
   },
   {
    "duration": 93,
    "start_time": "2022-03-07T20:07:51.404Z"
   },
   {
    "duration": 13,
    "start_time": "2022-03-07T20:07:51.499Z"
   },
   {
    "duration": 73,
    "start_time": "2022-03-07T20:07:51.515Z"
   },
   {
    "duration": 66,
    "start_time": "2022-03-07T20:07:51.591Z"
   },
   {
    "duration": 99,
    "start_time": "2022-03-07T20:07:51.688Z"
   },
   {
    "duration": 141,
    "start_time": "2022-03-07T20:07:51.790Z"
   },
   {
    "duration": 61,
    "start_time": "2022-03-07T20:07:51.934Z"
   },
   {
    "duration": 12,
    "start_time": "2022-03-07T20:07:51.997Z"
   },
   {
    "duration": 15,
    "start_time": "2022-03-07T20:07:52.012Z"
   },
   {
    "duration": 88,
    "start_time": "2022-03-07T20:07:52.029Z"
   },
   {
    "duration": 508,
    "start_time": "2022-03-07T20:07:52.119Z"
   },
   {
    "duration": 12,
    "start_time": "2022-03-07T20:08:59.680Z"
   },
   {
    "duration": 14,
    "start_time": "2022-03-07T20:09:29.975Z"
   },
   {
    "duration": 13,
    "start_time": "2022-03-07T20:09:32.713Z"
   },
   {
    "duration": 20,
    "start_time": "2022-03-07T20:09:33.328Z"
   },
   {
    "duration": 14,
    "start_time": "2022-03-07T20:09:34.933Z"
   },
   {
    "duration": 14,
    "start_time": "2022-03-07T20:09:35.361Z"
   },
   {
    "duration": 17,
    "start_time": "2022-03-07T20:09:39.539Z"
   },
   {
    "duration": 15,
    "start_time": "2022-03-07T20:09:39.889Z"
   },
   {
    "duration": 14,
    "start_time": "2022-03-07T20:09:40.294Z"
   },
   {
    "duration": 15,
    "start_time": "2022-03-07T20:09:40.842Z"
   },
   {
    "duration": 13,
    "start_time": "2022-03-07T20:09:41.116Z"
   },
   {
    "duration": 47,
    "start_time": "2022-03-07T20:10:12.214Z"
   },
   {
    "duration": 83,
    "start_time": "2022-03-07T20:10:37.230Z"
   },
   {
    "duration": 380,
    "start_time": "2022-03-07T20:10:47.689Z"
   },
   {
    "duration": 434,
    "start_time": "2022-03-07T20:11:51.861Z"
   },
   {
    "duration": 391,
    "start_time": "2022-03-07T20:12:11.720Z"
   },
   {
    "duration": 434,
    "start_time": "2022-03-07T20:12:24.311Z"
   },
   {
    "duration": 6,
    "start_time": "2022-03-07T20:13:18.992Z"
   },
   {
    "duration": 48,
    "start_time": "2022-03-07T20:13:23.062Z"
   },
   {
    "duration": 387,
    "start_time": "2022-03-07T20:13:32.063Z"
   },
   {
    "duration": 387,
    "start_time": "2022-03-07T20:14:07.068Z"
   },
   {
    "duration": 371,
    "start_time": "2022-03-07T20:14:19.576Z"
   },
   {
    "duration": 399,
    "start_time": "2022-03-07T20:14:31.334Z"
   },
   {
    "duration": 371,
    "start_time": "2022-03-07T20:14:55.004Z"
   },
   {
    "duration": 376,
    "start_time": "2022-03-07T20:15:37.839Z"
   },
   {
    "duration": 364,
    "start_time": "2022-03-07T20:15:41.259Z"
   },
   {
    "duration": 403,
    "start_time": "2022-03-07T20:15:49.795Z"
   },
   {
    "duration": 309,
    "start_time": "2022-03-07T20:19:04.635Z"
   },
   {
    "duration": 74,
    "start_time": "2022-03-19T06:10:36.138Z"
   },
   {
    "duration": 1116,
    "start_time": "2022-03-19T06:10:48.705Z"
   },
   {
    "duration": 522,
    "start_time": "2022-03-19T06:10:49.824Z"
   },
   {
    "duration": 4,
    "start_time": "2022-03-19T06:10:50.349Z"
   },
   {
    "duration": 103,
    "start_time": "2022-03-19T06:10:50.356Z"
   },
   {
    "duration": 83,
    "start_time": "2022-03-19T06:10:50.461Z"
   },
   {
    "duration": 12,
    "start_time": "2022-03-19T06:10:50.546Z"
   },
   {
    "duration": 76,
    "start_time": "2022-03-19T06:10:50.560Z"
   },
   {
    "duration": 87,
    "start_time": "2022-03-19T06:10:50.638Z"
   },
   {
    "duration": 118,
    "start_time": "2022-03-19T06:10:50.727Z"
   },
   {
    "duration": 155,
    "start_time": "2022-03-19T06:10:50.850Z"
   },
   {
    "duration": 47,
    "start_time": "2022-03-19T06:10:51.007Z"
   },
   {
    "duration": 36,
    "start_time": "2022-03-19T06:10:51.057Z"
   },
   {
    "duration": 13,
    "start_time": "2022-03-19T06:10:51.096Z"
   },
   {
    "duration": 73,
    "start_time": "2022-03-19T06:10:51.111Z"
   },
   {
    "duration": 299,
    "start_time": "2022-03-19T06:10:51.186Z"
   },
   {
    "duration": 2119,
    "start_time": "2022-03-19T06:10:51.488Z"
   },
   {
    "duration": 244,
    "start_time": "2022-03-19T06:42:39.614Z"
   },
   {
    "duration": 226,
    "start_time": "2022-03-19T06:43:04.136Z"
   },
   {
    "duration": 223,
    "start_time": "2022-03-19T06:44:27.569Z"
   },
   {
    "duration": 219,
    "start_time": "2022-03-19T06:44:30.615Z"
   },
   {
    "duration": 319,
    "start_time": "2022-03-19T06:45:55.969Z"
   },
   {
    "duration": 205,
    "start_time": "2022-03-19T06:46:46.600Z"
   },
   {
    "duration": 234,
    "start_time": "2022-03-19T06:46:56.069Z"
   },
   {
    "duration": 227,
    "start_time": "2022-03-19T06:47:09.051Z"
   },
   {
    "duration": 222,
    "start_time": "2022-03-19T06:47:30.148Z"
   },
   {
    "duration": 217,
    "start_time": "2022-03-19T06:47:59.774Z"
   },
   {
    "duration": 214,
    "start_time": "2022-03-19T06:48:07.971Z"
   },
   {
    "duration": 367,
    "start_time": "2022-03-19T06:48:51.654Z"
   },
   {
    "duration": 261,
    "start_time": "2022-03-19T06:49:31.792Z"
   },
   {
    "duration": 228,
    "start_time": "2022-03-19T06:49:46.184Z"
   },
   {
    "duration": 226,
    "start_time": "2022-03-19T06:49:55.879Z"
   },
   {
    "duration": 92,
    "start_time": "2022-03-19T06:53:53.383Z"
   },
   {
    "duration": 298,
    "start_time": "2022-03-19T06:53:59.905Z"
   },
   {
    "duration": 219,
    "start_time": "2022-03-19T06:54:20.681Z"
   },
   {
    "duration": 220,
    "start_time": "2022-03-19T06:54:33.035Z"
   },
   {
    "duration": 225,
    "start_time": "2022-03-19T06:54:42.459Z"
   },
   {
    "duration": 237,
    "start_time": "2022-03-19T06:54:58.188Z"
   },
   {
    "duration": 341,
    "start_time": "2022-03-19T06:56:22.984Z"
   },
   {
    "duration": 856,
    "start_time": "2022-03-19T06:56:32.312Z"
   },
   {
    "duration": 590,
    "start_time": "2022-03-19T06:56:33.171Z"
   },
   {
    "duration": 6,
    "start_time": "2022-03-19T06:56:33.763Z"
   },
   {
    "duration": 102,
    "start_time": "2022-03-19T06:56:33.773Z"
   },
   {
    "duration": 83,
    "start_time": "2022-03-19T06:56:33.877Z"
   },
   {
    "duration": 26,
    "start_time": "2022-03-19T06:56:33.963Z"
   },
   {
    "duration": 82,
    "start_time": "2022-03-19T06:56:33.991Z"
   },
   {
    "duration": 80,
    "start_time": "2022-03-19T06:56:34.076Z"
   },
   {
    "duration": 128,
    "start_time": "2022-03-19T06:56:34.159Z"
   },
   {
    "duration": 154,
    "start_time": "2022-03-19T06:56:34.291Z"
   },
   {
    "duration": 57,
    "start_time": "2022-03-19T06:56:34.447Z"
   },
   {
    "duration": 11,
    "start_time": "2022-03-19T06:56:34.507Z"
   },
   {
    "duration": 8,
    "start_time": "2022-03-19T06:56:34.521Z"
   },
   {
    "duration": 88,
    "start_time": "2022-03-19T06:56:34.531Z"
   },
   {
    "duration": 175,
    "start_time": "2022-03-19T06:56:34.622Z"
   },
   {
    "duration": 321,
    "start_time": "2022-03-19T06:56:34.799Z"
   },
   {
    "duration": 216,
    "start_time": "2022-03-19T06:58:08.706Z"
   },
   {
    "duration": 5,
    "start_time": "2022-03-19T07:03:52.121Z"
   },
   {
    "duration": 105,
    "start_time": "2022-03-19T07:05:15.866Z"
   },
   {
    "duration": 269,
    "start_time": "2022-03-19T07:05:27.218Z"
   },
   {
    "duration": 381,
    "start_time": "2022-03-19T07:05:58.117Z"
   },
   {
    "duration": 492,
    "start_time": "2022-03-19T07:06:25.479Z"
   },
   {
    "duration": 224,
    "start_time": "2022-03-19T07:10:31.674Z"
   },
   {
    "duration": 227,
    "start_time": "2022-03-19T07:10:47.805Z"
   },
   {
    "duration": 228,
    "start_time": "2022-03-19T07:11:00.453Z"
   },
   {
    "duration": 389,
    "start_time": "2022-03-19T07:17:28.972Z"
   },
   {
    "duration": 383,
    "start_time": "2022-03-19T07:17:41.345Z"
   },
   {
    "duration": 287,
    "start_time": "2022-03-19T07:18:21.036Z"
   },
   {
    "duration": 245,
    "start_time": "2022-03-19T07:21:30.225Z"
   },
   {
    "duration": 256,
    "start_time": "2022-03-19T07:21:41.998Z"
   },
   {
    "duration": 272,
    "start_time": "2022-03-19T07:21:46.906Z"
   },
   {
    "duration": 300,
    "start_time": "2022-03-19T07:22:14.186Z"
   },
   {
    "duration": 370,
    "start_time": "2022-03-19T07:22:31.294Z"
   },
   {
    "duration": 292,
    "start_time": "2022-03-19T07:22:39.483Z"
   },
   {
    "duration": 292,
    "start_time": "2022-03-19T07:23:22.966Z"
   },
   {
    "duration": 308,
    "start_time": "2022-03-19T07:23:33.891Z"
   },
   {
    "duration": 489,
    "start_time": "2022-03-19T07:23:48.633Z"
   },
   {
    "duration": 322,
    "start_time": "2022-03-19T07:24:28.023Z"
   },
   {
    "duration": 305,
    "start_time": "2022-03-19T07:24:34.624Z"
   },
   {
    "duration": 314,
    "start_time": "2022-03-19T07:24:41.981Z"
   },
   {
    "duration": 317,
    "start_time": "2022-03-19T07:26:01.631Z"
   },
   {
    "duration": 326,
    "start_time": "2022-03-19T07:26:19.677Z"
   },
   {
    "duration": 318,
    "start_time": "2022-03-19T07:27:30.418Z"
   },
   {
    "duration": 499,
    "start_time": "2022-03-19T07:27:40.304Z"
   },
   {
    "duration": 248,
    "start_time": "2022-03-19T07:28:14.700Z"
   },
   {
    "duration": 260,
    "start_time": "2022-03-19T07:28:39.993Z"
   },
   {
    "duration": 310,
    "start_time": "2022-03-19T07:28:59.427Z"
   },
   {
    "duration": 396,
    "start_time": "2022-03-19T07:29:16.852Z"
   },
   {
    "duration": 354,
    "start_time": "2022-03-19T07:29:22.452Z"
   },
   {
    "duration": 360,
    "start_time": "2022-03-19T07:29:37.884Z"
   },
   {
    "duration": 314,
    "start_time": "2022-03-19T07:35:55.811Z"
   },
   {
    "duration": 317,
    "start_time": "2022-03-19T07:36:11.889Z"
   },
   {
    "duration": 309,
    "start_time": "2022-03-19T07:36:17.141Z"
   },
   {
    "duration": 360,
    "start_time": "2022-03-19T07:36:22.535Z"
   },
   {
    "duration": 99,
    "start_time": "2022-03-19T07:36:50.906Z"
   },
   {
    "duration": 674,
    "start_time": "2022-03-19T07:36:55.422Z"
   },
   {
    "duration": 307,
    "start_time": "2022-03-19T07:37:15.215Z"
   },
   {
    "duration": 360,
    "start_time": "2022-03-19T07:37:18.944Z"
   },
   {
    "duration": 449,
    "start_time": "2022-03-19T07:38:39.039Z"
   },
   {
    "duration": 456,
    "start_time": "2022-03-19T07:39:01.892Z"
   },
   {
    "duration": 9,
    "start_time": "2022-03-19T07:39:46.892Z"
   },
   {
    "duration": 576,
    "start_time": "2022-03-19T07:40:07.611Z"
   },
   {
    "duration": 365,
    "start_time": "2022-03-19T07:40:23.260Z"
   },
   {
    "duration": 80,
    "start_time": "2022-03-19T07:45:39.656Z"
   },
   {
    "duration": 84,
    "start_time": "2022-03-19T07:46:18.480Z"
   },
   {
    "duration": 1795,
    "start_time": "2022-03-19T07:46:22.039Z"
   },
   {
    "duration": 169,
    "start_time": "2022-03-19T07:46:36.849Z"
   },
   {
    "duration": 162,
    "start_time": "2022-03-19T07:46:46.481Z"
   },
   {
    "duration": 352,
    "start_time": "2022-03-19T07:47:12.450Z"
   },
   {
    "duration": 362,
    "start_time": "2022-03-19T07:49:09.570Z"
   },
   {
    "duration": 364,
    "start_time": "2022-03-19T07:49:18.620Z"
   },
   {
    "duration": 379,
    "start_time": "2022-03-19T07:51:34.696Z"
   },
   {
    "duration": 451,
    "start_time": "2022-03-19T07:53:49.545Z"
   },
   {
    "duration": 106,
    "start_time": "2022-03-19T08:12:36.310Z"
   },
   {
    "duration": 390,
    "start_time": "2022-03-19T08:12:40.508Z"
   },
   {
    "duration": 510,
    "start_time": "2022-03-19T08:14:03.191Z"
   },
   {
    "duration": 401,
    "start_time": "2022-03-19T08:14:36.724Z"
   },
   {
    "duration": 421,
    "start_time": "2022-03-19T08:14:50.695Z"
   },
   {
    "duration": 375,
    "start_time": "2022-03-19T08:15:31.226Z"
   },
   {
    "duration": 494,
    "start_time": "2022-03-19T08:15:43.523Z"
   },
   {
    "duration": 492,
    "start_time": "2022-03-19T08:16:41.666Z"
   },
   {
    "duration": 1000,
    "start_time": "2022-03-19T08:17:03.872Z"
   },
   {
    "duration": 698,
    "start_time": "2022-03-19T08:17:19.360Z"
   },
   {
    "duration": 1005,
    "start_time": "2022-03-19T08:17:40.117Z"
   },
   {
    "duration": 1004,
    "start_time": "2022-03-19T08:18:07.088Z"
   },
   {
    "duration": 587,
    "start_time": "2022-03-19T08:18:16.704Z"
   },
   {
    "duration": 579,
    "start_time": "2022-03-19T08:26:23.470Z"
   },
   {
    "duration": 975,
    "start_time": "2022-03-19T08:27:24.026Z"
   },
   {
    "duration": 1068,
    "start_time": "2022-03-19T08:27:48.413Z"
   },
   {
    "duration": 599,
    "start_time": "2022-03-19T08:28:41.006Z"
   },
   {
    "duration": 1079,
    "start_time": "2022-03-19T08:28:59.861Z"
   },
   {
    "duration": 946,
    "start_time": "2022-03-19T08:29:06.395Z"
   },
   {
    "duration": 962,
    "start_time": "2022-03-19T08:29:12.462Z"
   },
   {
    "duration": 867,
    "start_time": "2022-03-19T08:29:26.633Z"
   },
   {
    "duration": 50,
    "start_time": "2022-03-19T08:40:16.956Z"
   },
   {
    "duration": 1374,
    "start_time": "2022-03-19T08:40:30.753Z"
   },
   {
    "duration": 534,
    "start_time": "2022-03-19T08:40:32.131Z"
   },
   {
    "duration": 4,
    "start_time": "2022-03-19T08:40:32.667Z"
   },
   {
    "duration": 92,
    "start_time": "2022-03-19T08:40:32.673Z"
   },
   {
    "duration": 78,
    "start_time": "2022-03-19T08:40:32.784Z"
   },
   {
    "duration": 25,
    "start_time": "2022-03-19T08:40:32.864Z"
   },
   {
    "duration": 63,
    "start_time": "2022-03-19T08:40:32.891Z"
   },
   {
    "duration": 96,
    "start_time": "2022-03-19T08:40:32.956Z"
   },
   {
    "duration": 132,
    "start_time": "2022-03-19T08:40:33.054Z"
   },
   {
    "duration": 158,
    "start_time": "2022-03-19T08:40:33.188Z"
   },
   {
    "duration": 69,
    "start_time": "2022-03-19T08:40:33.348Z"
   },
   {
    "duration": 15,
    "start_time": "2022-03-19T08:40:33.419Z"
   },
   {
    "duration": 16,
    "start_time": "2022-03-19T08:40:33.436Z"
   },
   {
    "duration": 95,
    "start_time": "2022-03-19T08:40:33.455Z"
   },
   {
    "duration": 179,
    "start_time": "2022-03-19T08:40:33.553Z"
   },
   {
    "duration": 659,
    "start_time": "2022-03-19T08:40:33.735Z"
   },
   {
    "duration": 617,
    "start_time": "2022-03-19T08:40:34.397Z"
   },
   {
    "duration": 636,
    "start_time": "2022-03-19T08:40:35.017Z"
   },
   {
    "duration": 7,
    "start_time": "2022-03-19T08:44:09.180Z"
   },
   {
    "duration": 14,
    "start_time": "2022-03-19T08:46:57.324Z"
   },
   {
    "duration": 14,
    "start_time": "2022-03-19T08:47:13.944Z"
   },
   {
    "duration": 13,
    "start_time": "2022-03-19T08:47:39.869Z"
   },
   {
    "duration": 18,
    "start_time": "2022-03-19T08:48:59.725Z"
   },
   {
    "duration": 16,
    "start_time": "2022-03-19T08:49:41.387Z"
   },
   {
    "duration": 17,
    "start_time": "2022-03-19T08:53:08.169Z"
   },
   {
    "duration": 104,
    "start_time": "2022-03-19T08:57:40.669Z"
   },
   {
    "duration": 100,
    "start_time": "2022-03-19T08:58:03.745Z"
   },
   {
    "duration": 11,
    "start_time": "2022-03-19T08:58:52.903Z"
   },
   {
    "duration": 15,
    "start_time": "2022-03-19T08:59:27.780Z"
   },
   {
    "duration": 21,
    "start_time": "2022-03-19T08:59:35.222Z"
   },
   {
    "duration": 16,
    "start_time": "2022-03-19T09:00:27.781Z"
   },
   {
    "duration": 110,
    "start_time": "2022-03-19T09:01:49.984Z"
   },
   {
    "duration": 20,
    "start_time": "2022-03-19T09:01:58.822Z"
   },
   {
    "duration": 101,
    "start_time": "2022-03-19T09:02:27.142Z"
   },
   {
    "duration": 18,
    "start_time": "2022-03-19T09:02:32.752Z"
   },
   {
    "duration": 19,
    "start_time": "2022-03-19T09:03:13.569Z"
   },
   {
    "duration": 1171,
    "start_time": "2022-03-19T09:05:11.208Z"
   },
   {
    "duration": 958,
    "start_time": "2022-03-19T09:05:12.382Z"
   },
   {
    "duration": 6,
    "start_time": "2022-03-19T09:05:13.343Z"
   },
   {
    "duration": 119,
    "start_time": "2022-03-19T09:05:13.353Z"
   },
   {
    "duration": 109,
    "start_time": "2022-03-19T09:05:13.485Z"
   },
   {
    "duration": 29,
    "start_time": "2022-03-19T09:05:13.598Z"
   },
   {
    "duration": 88,
    "start_time": "2022-03-19T09:05:13.631Z"
   },
   {
    "duration": 106,
    "start_time": "2022-03-19T09:05:13.722Z"
   },
   {
    "duration": 144,
    "start_time": "2022-03-19T09:05:13.830Z"
   },
   {
    "duration": 214,
    "start_time": "2022-03-19T09:05:13.988Z"
   },
   {
    "duration": 97,
    "start_time": "2022-03-19T09:05:14.205Z"
   },
   {
    "duration": 19,
    "start_time": "2022-03-19T09:05:14.306Z"
   },
   {
    "duration": 19,
    "start_time": "2022-03-19T09:05:14.328Z"
   },
   {
    "duration": 113,
    "start_time": "2022-03-19T09:05:14.350Z"
   },
   {
    "duration": 284,
    "start_time": "2022-03-19T09:05:14.467Z"
   },
   {
    "duration": 908,
    "start_time": "2022-03-19T09:05:14.754Z"
   },
   {
    "duration": 28,
    "start_time": "2022-03-19T09:05:15.666Z"
   },
   {
    "duration": 1108,
    "start_time": "2022-03-19T09:05:15.697Z"
   },
   {
    "duration": 20,
    "start_time": "2022-03-19T09:05:16.808Z"
   },
   {
    "duration": 1024,
    "start_time": "2022-03-19T09:05:16.832Z"
   },
   {
    "duration": 29,
    "start_time": "2022-03-19T09:05:17.859Z"
   },
   {
    "duration": 23,
    "start_time": "2022-03-19T09:06:27.960Z"
   },
   {
    "duration": 128,
    "start_time": "2022-03-19T09:07:59.478Z"
   },
   {
    "duration": 26,
    "start_time": "2022-03-19T09:08:20.958Z"
   },
   {
    "duration": 18,
    "start_time": "2022-03-19T09:08:59.909Z"
   },
   {
    "duration": 16,
    "start_time": "2022-03-19T09:19:44.957Z"
   },
   {
    "duration": 21,
    "start_time": "2022-03-19T09:20:12.701Z"
   },
   {
    "duration": 22,
    "start_time": "2022-03-19T09:20:21.585Z"
   },
   {
    "duration": 461,
    "start_time": "2022-03-19T09:23:00.897Z"
   },
   {
    "duration": 14,
    "start_time": "2022-03-19T09:23:04.660Z"
   },
   {
    "duration": 15,
    "start_time": "2022-03-19T09:23:35.473Z"
   },
   {
    "duration": 14,
    "start_time": "2022-03-19T09:25:33.166Z"
   },
   {
    "duration": 20,
    "start_time": "2022-03-19T09:26:37.687Z"
   },
   {
    "duration": 30,
    "start_time": "2022-03-19T09:27:23.515Z"
   },
   {
    "duration": 25,
    "start_time": "2022-03-19T09:27:43.548Z"
   },
   {
    "duration": 24,
    "start_time": "2022-03-19T09:27:59.142Z"
   },
   {
    "duration": 32,
    "start_time": "2022-03-19T09:29:27.013Z"
   },
   {
    "duration": 29,
    "start_time": "2022-03-19T09:32:33.693Z"
   },
   {
    "duration": 20,
    "start_time": "2022-03-19T09:34:02.094Z"
   },
   {
    "duration": 1438,
    "start_time": "2022-03-19T10:26:21.165Z"
   },
   {
    "duration": 505,
    "start_time": "2022-03-19T10:26:22.606Z"
   },
   {
    "duration": 4,
    "start_time": "2022-03-19T10:26:23.113Z"
   },
   {
    "duration": 86,
    "start_time": "2022-03-19T10:26:23.120Z"
   },
   {
    "duration": 85,
    "start_time": "2022-03-19T10:26:23.208Z"
   },
   {
    "duration": 12,
    "start_time": "2022-03-19T10:26:23.296Z"
   },
   {
    "duration": 78,
    "start_time": "2022-03-19T10:26:23.310Z"
   },
   {
    "duration": 71,
    "start_time": "2022-03-19T10:26:23.390Z"
   },
   {
    "duration": 112,
    "start_time": "2022-03-19T10:26:23.484Z"
   },
   {
    "duration": 196,
    "start_time": "2022-03-19T10:26:23.600Z"
   },
   {
    "duration": 86,
    "start_time": "2022-03-19T10:26:23.798Z"
   },
   {
    "duration": 11,
    "start_time": "2022-03-19T10:26:23.886Z"
   },
   {
    "duration": 8,
    "start_time": "2022-03-19T10:26:23.899Z"
   },
   {
    "duration": 76,
    "start_time": "2022-03-19T10:26:23.909Z"
   },
   {
    "duration": 173,
    "start_time": "2022-03-19T10:26:23.987Z"
   },
   {
    "duration": 607,
    "start_time": "2022-03-19T10:26:24.163Z"
   },
   {
    "duration": 26,
    "start_time": "2022-03-19T10:26:24.772Z"
   },
   {
    "duration": 615,
    "start_time": "2022-03-19T10:26:24.800Z"
   },
   {
    "duration": 15,
    "start_time": "2022-03-19T10:26:25.418Z"
   },
   {
    "duration": 558,
    "start_time": "2022-03-19T10:26:25.436Z"
   },
   {
    "duration": 14,
    "start_time": "2022-03-19T10:26:25.996Z"
   },
   {
    "duration": 22,
    "start_time": "2022-03-19T10:26:26.012Z"
   },
   {
    "duration": 14,
    "start_time": "2022-03-19T10:34:45.874Z"
   },
   {
    "duration": 27,
    "start_time": "2022-03-19T10:40:23.517Z"
   },
   {
    "duration": 13,
    "start_time": "2022-03-19T10:40:27.425Z"
   },
   {
    "duration": 1401,
    "start_time": "2022-03-19T10:46:38.709Z"
   },
   {
    "duration": 542,
    "start_time": "2022-03-19T10:46:40.112Z"
   },
   {
    "duration": 5,
    "start_time": "2022-03-19T10:46:40.656Z"
   },
   {
    "duration": 93,
    "start_time": "2022-03-19T10:46:40.665Z"
   },
   {
    "duration": 91,
    "start_time": "2022-03-19T10:46:40.760Z"
   },
   {
    "duration": 14,
    "start_time": "2022-03-19T10:46:40.853Z"
   },
   {
    "duration": 66,
    "start_time": "2022-03-19T10:46:40.885Z"
   },
   {
    "duration": 87,
    "start_time": "2022-03-19T10:46:40.953Z"
   },
   {
    "duration": 118,
    "start_time": "2022-03-19T10:46:41.043Z"
   },
   {
    "duration": 209,
    "start_time": "2022-03-19T10:46:41.167Z"
   },
   {
    "duration": 60,
    "start_time": "2022-03-19T10:46:41.384Z"
   },
   {
    "duration": 42,
    "start_time": "2022-03-19T10:46:41.446Z"
   },
   {
    "duration": 8,
    "start_time": "2022-03-19T10:46:41.490Z"
   },
   {
    "duration": 59,
    "start_time": "2022-03-19T10:46:41.500Z"
   },
   {
    "duration": 183,
    "start_time": "2022-03-19T10:46:41.583Z"
   },
   {
    "duration": 860,
    "start_time": "2022-03-19T10:46:41.768Z"
   },
   {
    "duration": 20,
    "start_time": "2022-03-19T10:46:42.631Z"
   },
   {
    "duration": 623,
    "start_time": "2022-03-19T10:46:42.653Z"
   },
   {
    "duration": 19,
    "start_time": "2022-03-19T10:46:43.278Z"
   },
   {
    "duration": 555,
    "start_time": "2022-03-19T10:46:43.300Z"
   },
   {
    "duration": 29,
    "start_time": "2022-03-19T10:46:43.857Z"
   },
   {
    "duration": 23,
    "start_time": "2022-03-19T10:46:43.888Z"
   },
   {
    "duration": 12,
    "start_time": "2022-03-19T10:46:43.914Z"
   },
   {
    "duration": 1677,
    "start_time": "2022-03-19T10:47:56.534Z"
   },
   {
    "duration": 525,
    "start_time": "2022-03-19T10:47:58.214Z"
   },
   {
    "duration": 5,
    "start_time": "2022-03-19T10:47:58.741Z"
   },
   {
    "duration": 100,
    "start_time": "2022-03-19T10:47:58.749Z"
   },
   {
    "duration": 95,
    "start_time": "2022-03-19T10:47:58.853Z"
   },
   {
    "duration": 14,
    "start_time": "2022-03-19T10:47:58.951Z"
   },
   {
    "duration": 66,
    "start_time": "2022-03-19T10:47:58.983Z"
   },
   {
    "duration": 95,
    "start_time": "2022-03-19T10:47:59.051Z"
   },
   {
    "duration": 125,
    "start_time": "2022-03-19T10:47:59.149Z"
   },
   {
    "duration": 179,
    "start_time": "2022-03-19T10:47:59.285Z"
   },
   {
    "duration": 60,
    "start_time": "2022-03-19T10:47:59.466Z"
   },
   {
    "duration": 16,
    "start_time": "2022-03-19T10:47:59.528Z"
   },
   {
    "duration": 38,
    "start_time": "2022-03-19T10:47:59.546Z"
   },
   {
    "duration": 52,
    "start_time": "2022-03-19T10:47:59.589Z"
   },
   {
    "duration": 194,
    "start_time": "2022-03-19T10:47:59.645Z"
   },
   {
    "duration": 652,
    "start_time": "2022-03-19T10:47:59.842Z"
   },
   {
    "duration": 20,
    "start_time": "2022-03-19T10:48:00.498Z"
   },
   {
    "duration": 832,
    "start_time": "2022-03-19T10:48:00.521Z"
   },
   {
    "duration": 29,
    "start_time": "2022-03-19T10:48:01.356Z"
   },
   {
    "duration": 579,
    "start_time": "2022-03-19T10:48:01.388Z"
   },
   {
    "duration": 26,
    "start_time": "2022-03-19T10:48:01.971Z"
   },
   {
    "duration": 37,
    "start_time": "2022-03-19T10:48:01.999Z"
   },
   {
    "duration": 22,
    "start_time": "2022-03-19T10:48:02.039Z"
   },
   {
    "duration": 555,
    "start_time": "2022-03-19T10:57:30.706Z"
   },
   {
    "duration": 14,
    "start_time": "2022-03-19T10:59:01.156Z"
   },
   {
    "duration": 18,
    "start_time": "2022-03-19T10:59:07.250Z"
   },
   {
    "duration": 530,
    "start_time": "2022-03-19T11:03:14.832Z"
   },
   {
    "duration": 1509,
    "start_time": "2022-03-19T11:23:17.331Z"
   },
   {
    "duration": 505,
    "start_time": "2022-03-19T11:23:18.843Z"
   },
   {
    "duration": 4,
    "start_time": "2022-03-19T11:23:19.350Z"
   },
   {
    "duration": 83,
    "start_time": "2022-03-19T11:23:19.356Z"
   },
   {
    "duration": 91,
    "start_time": "2022-03-19T11:23:19.443Z"
   },
   {
    "duration": 13,
    "start_time": "2022-03-19T11:23:19.536Z"
   },
   {
    "duration": 78,
    "start_time": "2022-03-19T11:23:19.552Z"
   },
   {
    "duration": 106,
    "start_time": "2022-03-19T11:23:19.633Z"
   },
   {
    "duration": 144,
    "start_time": "2022-03-19T11:23:19.742Z"
   },
   {
    "duration": 163,
    "start_time": "2022-03-19T11:23:19.889Z"
   },
   {
    "duration": 54,
    "start_time": "2022-03-19T11:23:20.054Z"
   },
   {
    "duration": 11,
    "start_time": "2022-03-19T11:23:20.110Z"
   },
   {
    "duration": 10,
    "start_time": "2022-03-19T11:23:20.123Z"
   },
   {
    "duration": 84,
    "start_time": "2022-03-19T11:23:20.137Z"
   },
   {
    "duration": 175,
    "start_time": "2022-03-19T11:23:20.223Z"
   },
   {
    "duration": 621,
    "start_time": "2022-03-19T11:23:20.401Z"
   },
   {
    "duration": 21,
    "start_time": "2022-03-19T11:23:21.025Z"
   },
   {
    "duration": 621,
    "start_time": "2022-03-19T11:23:21.048Z"
   },
   {
    "duration": 23,
    "start_time": "2022-03-19T11:23:21.672Z"
   },
   {
    "duration": 557,
    "start_time": "2022-03-19T11:23:21.697Z"
   },
   {
    "duration": 33,
    "start_time": "2022-03-19T11:23:22.257Z"
   },
   {
    "duration": 546,
    "start_time": "2022-03-19T11:23:22.292Z"
   },
   {
    "duration": 14,
    "start_time": "2022-03-19T11:23:22.841Z"
   },
   {
    "duration": 37,
    "start_time": "2022-03-19T11:23:22.857Z"
   },
   {
    "duration": 21,
    "start_time": "2022-03-19T11:23:22.896Z"
   },
   {
    "duration": 586,
    "start_time": "2022-03-19T11:37:37.245Z"
   },
   {
    "duration": 1147,
    "start_time": "2022-03-29T18:41:32.359Z"
   },
   {
    "duration": 392,
    "start_time": "2022-03-29T18:41:33.508Z"
   },
   {
    "duration": 3,
    "start_time": "2022-03-29T18:41:33.902Z"
   },
   {
    "duration": 70,
    "start_time": "2022-03-29T18:41:33.907Z"
   },
   {
    "duration": 67,
    "start_time": "2022-03-29T18:41:33.979Z"
   },
   {
    "duration": 9,
    "start_time": "2022-03-29T18:41:34.048Z"
   },
   {
    "duration": 42,
    "start_time": "2022-03-29T18:41:34.058Z"
   },
   {
    "duration": 71,
    "start_time": "2022-03-29T18:41:34.102Z"
   },
   {
    "duration": 83,
    "start_time": "2022-03-29T18:41:34.175Z"
   },
   {
    "duration": 110,
    "start_time": "2022-03-29T18:41:34.260Z"
   },
   {
    "duration": 33,
    "start_time": "2022-03-29T18:41:34.372Z"
   },
   {
    "duration": 33,
    "start_time": "2022-03-29T18:41:34.406Z"
   },
   {
    "duration": 5,
    "start_time": "2022-03-29T18:41:34.441Z"
   },
   {
    "duration": 30,
    "start_time": "2022-03-29T18:41:34.448Z"
   },
   {
    "duration": 113,
    "start_time": "2022-03-29T18:41:34.480Z"
   },
   {
    "duration": 336,
    "start_time": "2022-03-29T18:41:34.595Z"
   },
   {
    "duration": 12,
    "start_time": "2022-03-29T18:41:34.933Z"
   },
   {
    "duration": 338,
    "start_time": "2022-03-29T18:41:34.947Z"
   },
   {
    "duration": 10,
    "start_time": "2022-03-29T18:41:35.287Z"
   },
   {
    "duration": 301,
    "start_time": "2022-03-29T18:41:35.299Z"
   },
   {
    "duration": 10,
    "start_time": "2022-03-29T18:41:35.601Z"
   },
   {
    "duration": 289,
    "start_time": "2022-03-29T18:41:35.613Z"
   },
   {
    "duration": 9,
    "start_time": "2022-03-29T18:41:35.904Z"
   },
   {
    "duration": 24,
    "start_time": "2022-03-29T18:41:35.915Z"
   },
   {
    "duration": 7,
    "start_time": "2022-03-29T18:41:35.941Z"
   },
   {
    "duration": 12,
    "start_time": "2022-03-29T18:48:16.647Z"
   },
   {
    "duration": 1387,
    "start_time": "2022-03-30T04:49:15.958Z"
   },
   {
    "duration": 438,
    "start_time": "2022-03-30T04:49:17.348Z"
   },
   {
    "duration": 4,
    "start_time": "2022-03-30T04:49:17.787Z"
   },
   {
    "duration": 80,
    "start_time": "2022-03-30T04:49:17.792Z"
   },
   {
    "duration": 65,
    "start_time": "2022-03-30T04:49:17.874Z"
   },
   {
    "duration": 8,
    "start_time": "2022-03-30T04:49:17.940Z"
   },
   {
    "duration": 44,
    "start_time": "2022-03-30T04:49:17.950Z"
   },
   {
    "duration": 71,
    "start_time": "2022-03-30T04:49:17.995Z"
   },
   {
    "duration": 89,
    "start_time": "2022-03-30T04:49:18.068Z"
   },
   {
    "duration": 113,
    "start_time": "2022-03-30T04:49:18.159Z"
   },
   {
    "duration": 30,
    "start_time": "2022-03-30T04:49:18.273Z"
   },
   {
    "duration": 28,
    "start_time": "2022-03-30T04:49:18.305Z"
   },
   {
    "duration": 8,
    "start_time": "2022-03-30T04:49:18.335Z"
   },
   {
    "duration": 39,
    "start_time": "2022-03-30T04:49:18.344Z"
   },
   {
    "duration": 117,
    "start_time": "2022-03-30T04:49:18.385Z"
   },
   {
    "duration": 385,
    "start_time": "2022-03-30T04:49:18.504Z"
   },
   {
    "duration": 13,
    "start_time": "2022-03-30T04:49:18.890Z"
   },
   {
    "duration": 396,
    "start_time": "2022-03-30T04:49:18.905Z"
   },
   {
    "duration": 11,
    "start_time": "2022-03-30T04:49:19.303Z"
   },
   {
    "duration": 347,
    "start_time": "2022-03-30T04:49:19.332Z"
   },
   {
    "duration": 11,
    "start_time": "2022-03-30T04:49:19.681Z"
   },
   {
    "duration": 366,
    "start_time": "2022-03-30T04:49:19.693Z"
   },
   {
    "duration": 11,
    "start_time": "2022-03-30T04:49:20.061Z"
   },
   {
    "duration": 9,
    "start_time": "2022-03-30T04:49:20.074Z"
   },
   {
    "duration": 9,
    "start_time": "2022-03-30T04:49:20.085Z"
   },
   {
    "duration": 2,
    "start_time": "2022-03-30T04:56:10.160Z"
   },
   {
    "duration": 1180,
    "start_time": "2022-03-30T04:56:36.816Z"
   },
   {
    "duration": 427,
    "start_time": "2022-03-30T04:56:37.998Z"
   },
   {
    "duration": 2,
    "start_time": "2022-03-30T04:56:38.427Z"
   },
   {
    "duration": 78,
    "start_time": "2022-03-30T04:56:38.431Z"
   },
   {
    "duration": 60,
    "start_time": "2022-03-30T04:56:38.511Z"
   },
   {
    "duration": 9,
    "start_time": "2022-03-30T04:56:38.573Z"
   },
   {
    "duration": 61,
    "start_time": "2022-03-30T04:56:38.583Z"
   },
   {
    "duration": 56,
    "start_time": "2022-03-30T04:56:38.646Z"
   },
   {
    "duration": 88,
    "start_time": "2022-03-30T04:56:38.704Z"
   },
   {
    "duration": 110,
    "start_time": "2022-03-30T04:56:38.794Z"
   },
   {
    "duration": 45,
    "start_time": "2022-03-30T04:56:38.906Z"
   },
   {
    "duration": 8,
    "start_time": "2022-03-30T04:56:38.952Z"
   },
   {
    "duration": 15,
    "start_time": "2022-03-30T04:56:38.961Z"
   },
   {
    "duration": 36,
    "start_time": "2022-03-30T04:56:38.979Z"
   },
   {
    "duration": 107,
    "start_time": "2022-03-30T04:56:39.032Z"
   },
   {
    "duration": 0,
    "start_time": "2022-03-30T04:56:39.141Z"
   },
   {
    "duration": 0,
    "start_time": "2022-03-30T04:56:39.142Z"
   },
   {
    "duration": 0,
    "start_time": "2022-03-30T04:56:39.143Z"
   },
   {
    "duration": 0,
    "start_time": "2022-03-30T04:56:39.144Z"
   },
   {
    "duration": 0,
    "start_time": "2022-03-30T04:56:39.145Z"
   },
   {
    "duration": 0,
    "start_time": "2022-03-30T04:56:39.147Z"
   },
   {
    "duration": 0,
    "start_time": "2022-03-30T04:56:39.148Z"
   },
   {
    "duration": 0,
    "start_time": "2022-03-30T04:56:39.149Z"
   },
   {
    "duration": 0,
    "start_time": "2022-03-30T04:56:39.150Z"
   },
   {
    "duration": 1,
    "start_time": "2022-03-30T04:56:39.151Z"
   },
   {
    "duration": 0,
    "start_time": "2022-03-30T04:56:39.153Z"
   },
   {
    "duration": 34,
    "start_time": "2022-03-30T06:12:21.622Z"
   },
   {
    "duration": 67,
    "start_time": "2022-03-30T06:12:54.144Z"
   },
   {
    "duration": 63,
    "start_time": "2022-03-30T06:14:12.676Z"
   },
   {
    "duration": 69,
    "start_time": "2022-03-30T06:14:39.828Z"
   },
   {
    "duration": 53,
    "start_time": "2022-03-30T06:14:55.119Z"
   },
   {
    "duration": 20,
    "start_time": "2022-03-30T06:15:08.050Z"
   },
   {
    "duration": 52,
    "start_time": "2022-03-30T06:15:45.000Z"
   },
   {
    "duration": 26,
    "start_time": "2022-03-30T06:15:46.920Z"
   },
   {
    "duration": 20,
    "start_time": "2022-03-30T06:15:54.276Z"
   },
   {
    "duration": 27,
    "start_time": "2022-03-30T06:15:55.428Z"
   },
   {
    "duration": 65,
    "start_time": "2022-03-30T06:16:46.572Z"
   },
   {
    "duration": 67,
    "start_time": "2022-03-30T06:19:32.892Z"
   },
   {
    "duration": 721,
    "start_time": "2022-03-30T06:19:49.751Z"
   },
   {
    "duration": 59,
    "start_time": "2022-03-30T06:21:35.362Z"
   },
   {
    "duration": 43,
    "start_time": "2022-03-30T06:21:52.000Z"
   },
   {
    "duration": 10,
    "start_time": "2022-03-30T06:22:02.210Z"
   },
   {
    "duration": 11,
    "start_time": "2022-03-30T06:22:10.535Z"
   },
   {
    "duration": 20,
    "start_time": "2022-03-30T06:22:22.262Z"
   },
   {
    "duration": 15,
    "start_time": "2022-03-30T06:22:32.005Z"
   },
   {
    "duration": 21,
    "start_time": "2022-03-30T06:22:33.712Z"
   },
   {
    "duration": 20,
    "start_time": "2022-03-30T06:23:09.080Z"
   },
   {
    "duration": 27,
    "start_time": "2022-03-30T06:23:10.979Z"
   },
   {
    "duration": 52,
    "start_time": "2022-03-30T06:24:57.858Z"
   },
   {
    "duration": 23,
    "start_time": "2022-03-30T06:25:00.252Z"
   },
   {
    "duration": 1177,
    "start_time": "2022-03-30T06:25:40.015Z"
   },
   {
    "duration": 436,
    "start_time": "2022-03-30T06:25:41.195Z"
   },
   {
    "duration": 4,
    "start_time": "2022-03-30T06:25:41.635Z"
   },
   {
    "duration": 99,
    "start_time": "2022-03-30T06:25:41.642Z"
   },
   {
    "duration": 61,
    "start_time": "2022-03-30T06:25:41.743Z"
   },
   {
    "duration": 27,
    "start_time": "2022-03-30T06:25:41.806Z"
   },
   {
    "duration": 46,
    "start_time": "2022-03-30T06:25:41.836Z"
   },
   {
    "duration": 87,
    "start_time": "2022-03-30T06:25:41.884Z"
   },
   {
    "duration": 90,
    "start_time": "2022-03-30T06:25:41.972Z"
   },
   {
    "duration": 111,
    "start_time": "2022-03-30T06:25:42.064Z"
   },
   {
    "duration": 33,
    "start_time": "2022-03-30T06:25:42.177Z"
   },
   {
    "duration": 9,
    "start_time": "2022-03-30T06:25:42.232Z"
   },
   {
    "duration": 8,
    "start_time": "2022-03-30T06:25:42.243Z"
   },
   {
    "duration": 60,
    "start_time": "2022-03-30T06:25:42.252Z"
   },
   {
    "duration": 32,
    "start_time": "2022-03-30T06:25:42.314Z"
   },
   {
    "duration": 50,
    "start_time": "2022-03-30T06:25:42.348Z"
   },
   {
    "duration": 45,
    "start_time": "2022-03-30T06:25:42.400Z"
   },
   {
    "duration": 970,
    "start_time": "2022-03-30T06:25:42.447Z"
   },
   {
    "duration": 0,
    "start_time": "2022-03-30T06:25:43.419Z"
   },
   {
    "duration": 0,
    "start_time": "2022-03-30T06:25:43.420Z"
   },
   {
    "duration": 0,
    "start_time": "2022-03-30T06:25:43.422Z"
   },
   {
    "duration": 0,
    "start_time": "2022-03-30T06:25:43.423Z"
   },
   {
    "duration": 0,
    "start_time": "2022-03-30T06:25:43.424Z"
   },
   {
    "duration": 0,
    "start_time": "2022-03-30T06:25:43.425Z"
   },
   {
    "duration": 0,
    "start_time": "2022-03-30T06:25:43.426Z"
   },
   {
    "duration": 0,
    "start_time": "2022-03-30T06:25:43.428Z"
   },
   {
    "duration": 0,
    "start_time": "2022-03-30T06:25:43.429Z"
   },
   {
    "duration": 0,
    "start_time": "2022-03-30T06:25:43.430Z"
   },
   {
    "duration": 113,
    "start_time": "2022-03-30T06:27:56.791Z"
   },
   {
    "duration": 90,
    "start_time": "2022-03-30T06:27:58.890Z"
   },
   {
    "duration": 1131,
    "start_time": "2022-03-30T06:28:06.259Z"
   },
   {
    "duration": 425,
    "start_time": "2022-03-30T06:28:07.392Z"
   },
   {
    "duration": 2,
    "start_time": "2022-03-30T06:28:07.819Z"
   },
   {
    "duration": 83,
    "start_time": "2022-03-30T06:28:07.824Z"
   },
   {
    "duration": 74,
    "start_time": "2022-03-30T06:28:07.909Z"
   },
   {
    "duration": 11,
    "start_time": "2022-03-30T06:28:07.985Z"
   },
   {
    "duration": 70,
    "start_time": "2022-03-30T06:28:07.998Z"
   },
   {
    "duration": 81,
    "start_time": "2022-03-30T06:28:08.070Z"
   },
   {
    "duration": 94,
    "start_time": "2022-03-30T06:28:08.153Z"
   },
   {
    "duration": 127,
    "start_time": "2022-03-30T06:28:08.251Z"
   },
   {
    "duration": 32,
    "start_time": "2022-03-30T06:28:08.379Z"
   },
   {
    "duration": 26,
    "start_time": "2022-03-30T06:28:08.412Z"
   },
   {
    "duration": 5,
    "start_time": "2022-03-30T06:28:08.440Z"
   },
   {
    "duration": 85,
    "start_time": "2022-03-30T06:28:08.447Z"
   },
   {
    "duration": 17,
    "start_time": "2022-03-30T06:28:08.534Z"
   },
   {
    "duration": 111,
    "start_time": "2022-03-30T06:28:08.553Z"
   },
   {
    "duration": 24,
    "start_time": "2022-03-30T06:28:08.666Z"
   },
   {
    "duration": 6143,
    "start_time": "2022-03-30T06:28:08.692Z"
   },
   {
    "duration": 402,
    "start_time": "2022-03-30T06:28:14.836Z"
   },
   {
    "duration": 51,
    "start_time": "2022-03-30T06:28:15.239Z"
   },
   {
    "duration": 465,
    "start_time": "2022-03-30T06:28:15.292Z"
   },
   {
    "duration": 49,
    "start_time": "2022-03-30T06:28:15.759Z"
   },
   {
    "duration": 406,
    "start_time": "2022-03-30T06:28:15.810Z"
   },
   {
    "duration": 61,
    "start_time": "2022-03-30T06:28:16.219Z"
   },
   {
    "duration": 403,
    "start_time": "2022-03-30T06:28:16.282Z"
   },
   {
    "duration": 60,
    "start_time": "2022-03-30T06:28:16.687Z"
   },
   {
    "duration": 43,
    "start_time": "2022-03-30T06:28:16.749Z"
   },
   {
    "duration": 74,
    "start_time": "2022-03-30T06:28:16.797Z"
   },
   {
    "duration": 371,
    "start_time": "2022-03-30T06:29:24.019Z"
   },
   {
    "duration": 456,
    "start_time": "2022-03-30T06:32:28.913Z"
   },
   {
    "duration": 417,
    "start_time": "2022-03-30T06:32:40.030Z"
   },
   {
    "duration": 77,
    "start_time": "2022-03-30T06:33:43.690Z"
   },
   {
    "duration": 93,
    "start_time": "2022-03-30T06:33:45.213Z"
   },
   {
    "duration": 40,
    "start_time": "2022-03-30T06:33:54.066Z"
   },
   {
    "duration": 18,
    "start_time": "2022-03-30T06:33:55.265Z"
   },
   {
    "duration": 52,
    "start_time": "2022-03-30T06:33:56.349Z"
   },
   {
    "duration": 26,
    "start_time": "2022-03-30T06:33:57.734Z"
   },
   {
    "duration": 32,
    "start_time": "2022-03-30T06:34:12.565Z"
   },
   {
    "duration": 19,
    "start_time": "2022-03-30T06:35:07.832Z"
   },
   {
    "duration": 137,
    "start_time": "2022-03-30T06:35:11.534Z"
   },
   {
    "duration": 81,
    "start_time": "2022-03-30T06:35:12.819Z"
   },
   {
    "duration": 33,
    "start_time": "2022-03-30T06:35:17.720Z"
   },
   {
    "duration": 56,
    "start_time": "2022-03-31T05:21:16.277Z"
   },
   {
    "duration": 1377,
    "start_time": "2022-03-31T05:21:21.819Z"
   },
   {
    "duration": 425,
    "start_time": "2022-03-31T05:21:23.198Z"
   },
   {
    "duration": 3,
    "start_time": "2022-03-31T05:21:23.624Z"
   },
   {
    "duration": 68,
    "start_time": "2022-03-31T05:21:23.629Z"
   },
   {
    "duration": 70,
    "start_time": "2022-03-31T05:21:23.700Z"
   },
   {
    "duration": 9,
    "start_time": "2022-03-31T05:21:23.771Z"
   },
   {
    "duration": 57,
    "start_time": "2022-03-31T05:21:23.782Z"
   },
   {
    "duration": 57,
    "start_time": "2022-03-31T05:21:23.841Z"
   },
   {
    "duration": 85,
    "start_time": "2022-03-31T05:21:23.900Z"
   },
   {
    "duration": 110,
    "start_time": "2022-03-31T05:21:23.987Z"
   },
   {
    "duration": 48,
    "start_time": "2022-03-31T05:21:24.099Z"
   },
   {
    "duration": 8,
    "start_time": "2022-03-31T05:21:24.149Z"
   },
   {
    "duration": 7,
    "start_time": "2022-03-31T05:21:24.159Z"
   },
   {
    "duration": 78,
    "start_time": "2022-03-31T05:21:24.169Z"
   },
   {
    "duration": 17,
    "start_time": "2022-03-31T05:21:24.249Z"
   },
   {
    "duration": 128,
    "start_time": "2022-03-31T05:21:24.268Z"
   },
   {
    "duration": 24,
    "start_time": "2022-03-31T05:21:24.397Z"
   },
   {
    "duration": 14464,
    "start_time": "2022-03-31T05:21:24.423Z"
   },
   {
    "duration": 401,
    "start_time": "2022-03-31T05:21:38.889Z"
   },
   {
    "duration": 64,
    "start_time": "2022-03-31T05:21:39.292Z"
   },
   {
    "duration": 428,
    "start_time": "2022-03-31T05:21:39.358Z"
   },
   {
    "duration": 56,
    "start_time": "2022-03-31T05:21:39.788Z"
   },
   {
    "duration": 379,
    "start_time": "2022-03-31T05:21:39.846Z"
   },
   {
    "duration": 56,
    "start_time": "2022-03-31T05:21:40.231Z"
   },
   {
    "duration": 386,
    "start_time": "2022-03-31T05:21:40.289Z"
   },
   {
    "duration": 63,
    "start_time": "2022-03-31T05:21:40.676Z"
   },
   {
    "duration": 48,
    "start_time": "2022-03-31T05:21:40.740Z"
   },
   {
    "duration": 67,
    "start_time": "2022-03-31T05:21:40.790Z"
   },
   {
    "duration": 425,
    "start_time": "2022-03-31T05:21:54.883Z"
   },
   {
    "duration": 5,
    "start_time": "2022-03-31T05:25:58.435Z"
   },
   {
    "duration": 27,
    "start_time": "2022-03-31T05:26:03.044Z"
   },
   {
    "duration": 426,
    "start_time": "2022-03-31T05:26:33.407Z"
   },
   {
    "duration": 316,
    "start_time": "2022-03-31T05:26:40.491Z"
   },
   {
    "duration": 365,
    "start_time": "2022-03-31T05:29:19.919Z"
   },
   {
    "duration": 353,
    "start_time": "2022-03-31T05:29:41.079Z"
   },
   {
    "duration": 360,
    "start_time": "2022-03-31T05:29:53.266Z"
   },
   {
    "duration": 178,
    "start_time": "2022-03-31T05:34:40.814Z"
   },
   {
    "duration": 1435,
    "start_time": "2022-03-31T05:35:06.317Z"
   },
   {
    "duration": 259,
    "start_time": "2022-03-31T05:35:20.554Z"
   },
   {
    "duration": 271,
    "start_time": "2022-03-31T05:36:08.981Z"
   },
   {
    "duration": 177,
    "start_time": "2022-03-31T05:36:48.866Z"
   },
   {
    "duration": 204,
    "start_time": "2022-03-31T05:37:14.225Z"
   },
   {
    "duration": 172,
    "start_time": "2022-03-31T05:38:11.568Z"
   },
   {
    "duration": 171,
    "start_time": "2022-03-31T05:38:34.235Z"
   },
   {
    "duration": 192,
    "start_time": "2022-03-31T05:39:09.138Z"
   },
   {
    "duration": 136,
    "start_time": "2022-03-31T05:40:39.935Z"
   },
   {
    "duration": 45,
    "start_time": "2022-03-31T05:41:29.161Z"
   },
   {
    "duration": 1202,
    "start_time": "2022-03-31T05:42:04.303Z"
   },
   {
    "duration": 434,
    "start_time": "2022-03-31T05:42:05.507Z"
   },
   {
    "duration": 3,
    "start_time": "2022-03-31T05:42:05.945Z"
   },
   {
    "duration": 72,
    "start_time": "2022-03-31T05:42:05.950Z"
   },
   {
    "duration": 58,
    "start_time": "2022-03-31T05:42:06.032Z"
   },
   {
    "duration": 10,
    "start_time": "2022-03-31T05:42:06.091Z"
   },
   {
    "duration": 64,
    "start_time": "2022-03-31T05:42:06.102Z"
   },
   {
    "duration": 68,
    "start_time": "2022-03-31T05:42:06.168Z"
   },
   {
    "duration": 68,
    "start_time": "2022-03-31T05:42:06.238Z"
   },
   {
    "duration": 125,
    "start_time": "2022-03-31T05:42:06.308Z"
   },
   {
    "duration": 33,
    "start_time": "2022-03-31T05:42:06.434Z"
   },
   {
    "duration": 8,
    "start_time": "2022-03-31T05:42:06.469Z"
   },
   {
    "duration": 6,
    "start_time": "2022-03-31T05:42:06.480Z"
   },
   {
    "duration": 149,
    "start_time": "2022-03-31T05:42:06.488Z"
   },
   {
    "duration": 0,
    "start_time": "2022-03-31T05:42:06.639Z"
   },
   {
    "duration": 0,
    "start_time": "2022-03-31T05:42:06.640Z"
   },
   {
    "duration": 0,
    "start_time": "2022-03-31T05:42:06.640Z"
   },
   {
    "duration": 0,
    "start_time": "2022-03-31T05:42:06.641Z"
   },
   {
    "duration": 0,
    "start_time": "2022-03-31T05:42:06.642Z"
   },
   {
    "duration": 0,
    "start_time": "2022-03-31T05:42:06.643Z"
   },
   {
    "duration": 0,
    "start_time": "2022-03-31T05:42:06.644Z"
   },
   {
    "duration": 0,
    "start_time": "2022-03-31T05:42:06.645Z"
   },
   {
    "duration": 0,
    "start_time": "2022-03-31T05:42:06.646Z"
   },
   {
    "duration": 0,
    "start_time": "2022-03-31T05:42:06.647Z"
   },
   {
    "duration": 0,
    "start_time": "2022-03-31T05:42:06.648Z"
   },
   {
    "duration": 0,
    "start_time": "2022-03-31T05:42:06.648Z"
   },
   {
    "duration": 0,
    "start_time": "2022-03-31T05:42:06.650Z"
   },
   {
    "duration": 0,
    "start_time": "2022-03-31T05:42:06.650Z"
   },
   {
    "duration": 0,
    "start_time": "2022-03-31T05:42:06.651Z"
   },
   {
    "duration": 0,
    "start_time": "2022-03-31T05:42:06.652Z"
   },
   {
    "duration": 13,
    "start_time": "2022-03-31T05:42:35.115Z"
   },
   {
    "duration": 60,
    "start_time": "2022-03-31T05:42:41.960Z"
   },
   {
    "duration": 20,
    "start_time": "2022-03-31T05:44:29.333Z"
   },
   {
    "duration": 221,
    "start_time": "2022-03-31T05:44:42.671Z"
   },
   {
    "duration": 29,
    "start_time": "2022-03-31T05:44:51.564Z"
   },
   {
    "duration": 92,
    "start_time": "2022-03-31T05:44:53.325Z"
   },
   {
    "duration": 21,
    "start_time": "2022-03-31T05:44:55.063Z"
   },
   {
    "duration": 40,
    "start_time": "2022-03-31T05:45:59.825Z"
   },
   {
    "duration": 63,
    "start_time": "2022-03-31T05:46:11.751Z"
   },
   {
    "duration": 32,
    "start_time": "2022-03-31T05:46:12.700Z"
   },
   {
    "duration": 77,
    "start_time": "2022-03-31T05:46:14.704Z"
   },
   {
    "duration": 20,
    "start_time": "2022-03-31T05:46:15.575Z"
   },
   {
    "duration": 1203,
    "start_time": "2022-03-31T05:46:25.124Z"
   },
   {
    "duration": 437,
    "start_time": "2022-03-31T05:46:26.329Z"
   },
   {
    "duration": 3,
    "start_time": "2022-03-31T05:46:26.768Z"
   },
   {
    "duration": 67,
    "start_time": "2022-03-31T05:46:26.773Z"
   },
   {
    "duration": 57,
    "start_time": "2022-03-31T05:46:26.842Z"
   },
   {
    "duration": 9,
    "start_time": "2022-03-31T05:46:26.900Z"
   },
   {
    "duration": 60,
    "start_time": "2022-03-31T05:46:26.911Z"
   },
   {
    "duration": 71,
    "start_time": "2022-03-31T05:46:26.973Z"
   },
   {
    "duration": 69,
    "start_time": "2022-03-31T05:46:27.046Z"
   },
   {
    "duration": 116,
    "start_time": "2022-03-31T05:46:27.131Z"
   },
   {
    "duration": 31,
    "start_time": "2022-03-31T05:46:27.249Z"
   },
   {
    "duration": 8,
    "start_time": "2022-03-31T05:46:27.282Z"
   },
   {
    "duration": 25,
    "start_time": "2022-03-31T05:46:27.292Z"
   },
   {
    "duration": 96,
    "start_time": "2022-03-31T05:46:27.320Z"
   },
   {
    "duration": 38,
    "start_time": "2022-03-31T05:46:27.417Z"
   },
   {
    "duration": 95,
    "start_time": "2022-03-31T05:46:27.457Z"
   },
   {
    "duration": 21,
    "start_time": "2022-03-31T05:46:27.553Z"
   },
   {
    "duration": 6114,
    "start_time": "2022-03-31T05:46:27.576Z"
   },
   {
    "duration": 397,
    "start_time": "2022-03-31T05:46:33.692Z"
   },
   {
    "duration": 63,
    "start_time": "2022-03-31T05:46:34.091Z"
   },
   {
    "duration": 442,
    "start_time": "2022-03-31T05:46:34.156Z"
   },
   {
    "duration": 6,
    "start_time": "2022-03-31T05:46:34.600Z"
   },
   {
    "duration": 348,
    "start_time": "2022-03-31T05:46:34.608Z"
   },
   {
    "duration": 51,
    "start_time": "2022-03-31T05:46:34.958Z"
   },
   {
    "duration": 398,
    "start_time": "2022-03-31T05:46:35.011Z"
   },
   {
    "duration": 57,
    "start_time": "2022-03-31T05:46:35.411Z"
   },
   {
    "duration": 399,
    "start_time": "2022-03-31T05:46:35.469Z"
   },
   {
    "duration": 62,
    "start_time": "2022-03-31T05:46:35.871Z"
   },
   {
    "duration": 43,
    "start_time": "2022-03-31T05:46:35.935Z"
   },
   {
    "duration": 69,
    "start_time": "2022-03-31T05:46:35.980Z"
   },
   {
    "duration": 1461,
    "start_time": "2022-03-31T21:19:47.462Z"
   },
   {
    "duration": 542,
    "start_time": "2022-03-31T21:19:48.926Z"
   },
   {
    "duration": 4,
    "start_time": "2022-03-31T21:19:49.470Z"
   },
   {
    "duration": 87,
    "start_time": "2022-03-31T21:19:49.476Z"
   },
   {
    "duration": 88,
    "start_time": "2022-03-31T21:19:49.566Z"
   },
   {
    "duration": 14,
    "start_time": "2022-03-31T21:19:49.658Z"
   },
   {
    "duration": 75,
    "start_time": "2022-03-31T21:19:49.674Z"
   },
   {
    "duration": 74,
    "start_time": "2022-03-31T21:19:49.751Z"
   },
   {
    "duration": 116,
    "start_time": "2022-03-31T21:19:49.844Z"
   },
   {
    "duration": 159,
    "start_time": "2022-03-31T21:19:49.963Z"
   },
   {
    "duration": 61,
    "start_time": "2022-03-31T21:19:50.124Z"
   },
   {
    "duration": 13,
    "start_time": "2022-03-31T21:19:50.187Z"
   },
   {
    "duration": 9,
    "start_time": "2022-03-31T21:19:50.203Z"
   },
   {
    "duration": 81,
    "start_time": "2022-03-31T21:19:50.246Z"
   },
   {
    "duration": 55,
    "start_time": "2022-03-31T21:19:50.330Z"
   },
   {
    "duration": 132,
    "start_time": "2022-03-31T21:19:50.387Z"
   },
   {
    "duration": 42,
    "start_time": "2022-03-31T21:19:50.521Z"
   },
   {
    "duration": 11096,
    "start_time": "2022-03-31T21:19:50.566Z"
   },
   {
    "duration": 671,
    "start_time": "2022-03-31T21:20:01.664Z"
   },
   {
    "duration": 87,
    "start_time": "2022-03-31T21:20:02.337Z"
   },
   {
    "duration": 750,
    "start_time": "2022-03-31T21:20:02.426Z"
   },
   {
    "duration": 7,
    "start_time": "2022-03-31T21:20:03.178Z"
   },
   {
    "duration": 586,
    "start_time": "2022-03-31T21:20:03.187Z"
   },
   {
    "duration": 83,
    "start_time": "2022-03-31T21:20:03.775Z"
   },
   {
    "duration": 626,
    "start_time": "2022-03-31T21:20:03.860Z"
   },
   {
    "duration": 85,
    "start_time": "2022-03-31T21:20:04.488Z"
   },
   {
    "duration": 635,
    "start_time": "2022-03-31T21:20:04.575Z"
   },
   {
    "duration": 83,
    "start_time": "2022-03-31T21:20:05.213Z"
   },
   {
    "duration": 89,
    "start_time": "2022-03-31T21:20:05.298Z"
   },
   {
    "duration": 81,
    "start_time": "2022-03-31T21:20:05.390Z"
   },
   {
    "duration": 8,
    "start_time": "2022-03-31T21:20:15.543Z"
   },
   {
    "duration": 7,
    "start_time": "2022-03-31T21:20:21.379Z"
   },
   {
    "duration": 38,
    "start_time": "2022-03-31T21:20:42.813Z"
   },
   {
    "duration": 199,
    "start_time": "2022-03-31T21:21:19.558Z"
   }
  ],
  "kernelspec": {
   "display_name": "Python 3 (ipykernel)",
   "language": "python",
   "name": "python3"
  },
  "language_info": {
   "codemirror_mode": {
    "name": "ipython",
    "version": 3
   },
   "file_extension": ".py",
   "mimetype": "text/x-python",
   "name": "python",
   "nbconvert_exporter": "python",
   "pygments_lexer": "ipython3",
   "version": "3.9.7"
  },
  "toc": {
   "base_numbering": 1,
   "nav_menu": {
    "height": "128px",
    "width": "269px"
   },
   "number_sections": true,
   "sideBar": true,
   "skip_h1_title": true,
   "title_cell": "Table of Contents",
   "title_sidebar": "Contents",
   "toc_cell": false,
   "toc_position": {},
   "toc_section_display": true,
   "toc_window_display": false
  }
 },
 "nbformat": 4,
 "nbformat_minor": 4
}
